{
 "cells": [
  {
   "cell_type": "markdown",
   "id": "d0047a69",
   "metadata": {},
   "source": [
    "task 2\n",
    "INSTAGRAM REACH FORECASTING"
   ]
  },
  {
   "cell_type": "code",
   "execution_count": 24,
   "id": "8816591b",
   "metadata": {},
   "outputs": [
    {
     "name": "stderr",
     "output_type": "stream",
     "text": [
      "C:\\Users\\user\\anaconda\\lib\\site-packages\\scipy\\__init__.py:146: UserWarning: A NumPy version >=1.16.5 and <1.23.0 is required for this version of SciPy (detected version 1.24.3\n",
      "  warnings.warn(f\"A NumPy version >={np_minversion} and <{np_maxversion}\"\n"
     ]
    }
   ],
   "source": [
    "#import libraries\n",
    "import pandas as pd\n",
    "import numpy as np\n",
    "import matplotlib.pyplot as plt\n",
    "%matplotlib inline\n",
    "import seaborn as sns"
   ]
  },
  {
   "cell_type": "code",
   "execution_count": 25,
   "id": "89febde7",
   "metadata": {},
   "outputs": [
    {
     "data": {
      "text/html": [
       "<div>\n",
       "<style scoped>\n",
       "    .dataframe tbody tr th:only-of-type {\n",
       "        vertical-align: middle;\n",
       "    }\n",
       "\n",
       "    .dataframe tbody tr th {\n",
       "        vertical-align: top;\n",
       "    }\n",
       "\n",
       "    .dataframe thead th {\n",
       "        text-align: right;\n",
       "    }\n",
       "</style>\n",
       "<table border=\"1\" class=\"dataframe\">\n",
       "  <thead>\n",
       "    <tr style=\"text-align: right;\">\n",
       "      <th></th>\n",
       "      <th>Date</th>\n",
       "      <th>Instagram reach</th>\n",
       "    </tr>\n",
       "  </thead>\n",
       "  <tbody>\n",
       "    <tr>\n",
       "      <th>0</th>\n",
       "      <td>2022-04-01T00:00:00</td>\n",
       "      <td>7620</td>\n",
       "    </tr>\n",
       "    <tr>\n",
       "      <th>1</th>\n",
       "      <td>2022-04-02T00:00:00</td>\n",
       "      <td>12859</td>\n",
       "    </tr>\n",
       "    <tr>\n",
       "      <th>2</th>\n",
       "      <td>2022-04-03T00:00:00</td>\n",
       "      <td>16008</td>\n",
       "    </tr>\n",
       "    <tr>\n",
       "      <th>3</th>\n",
       "      <td>2022-04-04T00:00:00</td>\n",
       "      <td>24349</td>\n",
       "    </tr>\n",
       "    <tr>\n",
       "      <th>4</th>\n",
       "      <td>2022-04-05T00:00:00</td>\n",
       "      <td>20532</td>\n",
       "    </tr>\n",
       "    <tr>\n",
       "      <th>...</th>\n",
       "      <td>...</td>\n",
       "      <td>...</td>\n",
       "    </tr>\n",
       "    <tr>\n",
       "      <th>360</th>\n",
       "      <td>2023-03-27T00:00:00</td>\n",
       "      <td>15622</td>\n",
       "    </tr>\n",
       "    <tr>\n",
       "      <th>361</th>\n",
       "      <td>2023-03-28T00:00:00</td>\n",
       "      <td>18645</td>\n",
       "    </tr>\n",
       "    <tr>\n",
       "      <th>362</th>\n",
       "      <td>2023-03-29T00:00:00</td>\n",
       "      <td>41238</td>\n",
       "    </tr>\n",
       "    <tr>\n",
       "      <th>363</th>\n",
       "      <td>2023-03-30T00:00:00</td>\n",
       "      <td>50490</td>\n",
       "    </tr>\n",
       "    <tr>\n",
       "      <th>364</th>\n",
       "      <td>2023-03-31T00:00:00</td>\n",
       "      <td>22014</td>\n",
       "    </tr>\n",
       "  </tbody>\n",
       "</table>\n",
       "<p>365 rows × 2 columns</p>\n",
       "</div>"
      ],
      "text/plain": [
       "                    Date  Instagram reach\n",
       "0    2022-04-01T00:00:00             7620\n",
       "1    2022-04-02T00:00:00            12859\n",
       "2    2022-04-03T00:00:00            16008\n",
       "3    2022-04-04T00:00:00            24349\n",
       "4    2022-04-05T00:00:00            20532\n",
       "..                   ...              ...\n",
       "360  2023-03-27T00:00:00            15622\n",
       "361  2023-03-28T00:00:00            18645\n",
       "362  2023-03-29T00:00:00            41238\n",
       "363  2023-03-30T00:00:00            50490\n",
       "364  2023-03-31T00:00:00            22014\n",
       "\n",
       "[365 rows x 2 columns]"
      ]
     },
     "execution_count": 25,
     "metadata": {},
     "output_type": "execute_result"
    }
   ],
   "source": [
    "data = pd.read_csv('Instagram-Reach.csv')\n",
    "data"
   ]
  },
  {
   "cell_type": "code",
   "execution_count": 26,
   "id": "c39c232a",
   "metadata": {},
   "outputs": [
    {
     "data": {
      "text/plain": [
       "<bound method DataFrame.info of                     Date  Instagram reach\n",
       "0    2022-04-01T00:00:00             7620\n",
       "1    2022-04-02T00:00:00            12859\n",
       "2    2022-04-03T00:00:00            16008\n",
       "3    2022-04-04T00:00:00            24349\n",
       "4    2022-04-05T00:00:00            20532\n",
       "..                   ...              ...\n",
       "360  2023-03-27T00:00:00            15622\n",
       "361  2023-03-28T00:00:00            18645\n",
       "362  2023-03-29T00:00:00            41238\n",
       "363  2023-03-30T00:00:00            50490\n",
       "364  2023-03-31T00:00:00            22014\n",
       "\n",
       "[365 rows x 2 columns]>"
      ]
     },
     "execution_count": 26,
     "metadata": {},
     "output_type": "execute_result"
    }
   ],
   "source": [
    "data.info"
   ]
  },
  {
   "cell_type": "code",
   "execution_count": 27,
   "id": "91ef29ed",
   "metadata": {},
   "outputs": [
    {
     "data": {
      "text/plain": [
       "Date               0\n",
       "Instagram reach    0\n",
       "dtype: int64"
      ]
     },
     "execution_count": 27,
     "metadata": {},
     "output_type": "execute_result"
    }
   ],
   "source": [
    "data.isnull().sum()"
   ]
  },
  {
   "cell_type": "code",
   "execution_count": 28,
   "id": "3ba889a6",
   "metadata": {},
   "outputs": [
    {
     "data": {
      "text/plain": [
       "0     2022-04-01\n",
       "1     2022-04-02\n",
       "2     2022-04-03\n",
       "3     2022-04-04\n",
       "4     2022-04-05\n",
       "         ...    \n",
       "360   2023-03-27\n",
       "361   2023-03-28\n",
       "362   2023-03-29\n",
       "363   2023-03-30\n",
       "364   2023-03-31\n",
       "Name: Date, Length: 365, dtype: datetime64[ns]"
      ]
     },
     "execution_count": 28,
     "metadata": {},
     "output_type": "execute_result"
    }
   ],
   "source": [
    "#Convert date column to datetime datatype \n",
    "\n",
    "data['Date'] = pd.to_datetime(data['Date'])\n",
    "data['Date']"
   ]
  },
  {
   "cell_type": "markdown",
   "id": "6e617655",
   "metadata": {},
   "source": [
    "Analyzing Reach"
   ]
  },
  {
   "cell_type": "code",
   "execution_count": 29,
   "id": "55220377",
   "metadata": {},
   "outputs": [
    {
     "data": {
      "text/html": [
       "<div>\n",
       "<style scoped>\n",
       "    .dataframe tbody tr th:only-of-type {\n",
       "        vertical-align: middle;\n",
       "    }\n",
       "\n",
       "    .dataframe tbody tr th {\n",
       "        vertical-align: top;\n",
       "    }\n",
       "\n",
       "    .dataframe thead th {\n",
       "        text-align: right;\n",
       "    }\n",
       "</style>\n",
       "<table border=\"1\" class=\"dataframe\">\n",
       "  <thead>\n",
       "    <tr style=\"text-align: right;\">\n",
       "      <th></th>\n",
       "      <th>Instagram reach</th>\n",
       "    </tr>\n",
       "  </thead>\n",
       "  <tbody>\n",
       "    <tr>\n",
       "      <th>count</th>\n",
       "      <td>365.000000</td>\n",
       "    </tr>\n",
       "    <tr>\n",
       "      <th>mean</th>\n",
       "      <td>50474.712329</td>\n",
       "    </tr>\n",
       "    <tr>\n",
       "      <th>std</th>\n",
       "      <td>30051.787552</td>\n",
       "    </tr>\n",
       "    <tr>\n",
       "      <th>min</th>\n",
       "      <td>7620.000000</td>\n",
       "    </tr>\n",
       "    <tr>\n",
       "      <th>25%</th>\n",
       "      <td>25070.000000</td>\n",
       "    </tr>\n",
       "    <tr>\n",
       "      <th>50%</th>\n",
       "      <td>43987.000000</td>\n",
       "    </tr>\n",
       "    <tr>\n",
       "      <th>75%</th>\n",
       "      <td>68331.000000</td>\n",
       "    </tr>\n",
       "    <tr>\n",
       "      <th>max</th>\n",
       "      <td>161998.000000</td>\n",
       "    </tr>\n",
       "  </tbody>\n",
       "</table>\n",
       "</div>"
      ],
      "text/plain": [
       "       Instagram reach\n",
       "count       365.000000\n",
       "mean      50474.712329\n",
       "std       30051.787552\n",
       "min        7620.000000\n",
       "25%       25070.000000\n",
       "50%       43987.000000\n",
       "75%       68331.000000\n",
       "max      161998.000000"
      ]
     },
     "execution_count": 29,
     "metadata": {},
     "output_type": "execute_result"
    }
   ],
   "source": [
    "data.describe()"
   ]
  },
  {
   "cell_type": "code",
   "execution_count": 30,
   "id": "9b0befcd",
   "metadata": {},
   "outputs": [],
   "source": [
    "x=data['Date']"
   ]
  },
  {
   "cell_type": "code",
   "execution_count": 31,
   "id": "fff5e32f",
   "metadata": {},
   "outputs": [
    {
     "data": {
      "text/plain": [
       "0     2022-04-01\n",
       "1     2022-04-02\n",
       "2     2022-04-03\n",
       "3     2022-04-04\n",
       "4     2022-04-05\n",
       "         ...    \n",
       "360   2023-03-27\n",
       "361   2023-03-28\n",
       "362   2023-03-29\n",
       "363   2023-03-30\n",
       "364   2023-03-31\n",
       "Name: Date, Length: 365, dtype: datetime64[ns]"
      ]
     },
     "execution_count": 31,
     "metadata": {},
     "output_type": "execute_result"
    }
   ],
   "source": [
    "x"
   ]
  },
  {
   "cell_type": "code",
   "execution_count": 32,
   "id": "979236b6",
   "metadata": {},
   "outputs": [],
   "source": [
    "y=data['Instagram reach']"
   ]
  },
  {
   "cell_type": "code",
   "execution_count": 33,
   "id": "b256b2c1",
   "metadata": {},
   "outputs": [
    {
     "data": {
      "text/plain": [
       "0       7620\n",
       "1      12859\n",
       "2      16008\n",
       "3      24349\n",
       "4      20532\n",
       "       ...  \n",
       "360    15622\n",
       "361    18645\n",
       "362    41238\n",
       "363    50490\n",
       "364    22014\n",
       "Name: Instagram reach, Length: 365, dtype: int64"
      ]
     },
     "execution_count": 33,
     "metadata": {},
     "output_type": "execute_result"
    }
   ],
   "source": [
    "y"
   ]
  },
  {
   "cell_type": "code",
   "execution_count": 34,
   "id": "24adad51",
   "metadata": {},
   "outputs": [
    {
     "data": {
      "image/png": "[encoded data removed]",
      "text/plain": [
       "<Figure size 432x288 with 1 Axes>"
      ]
     },
     "metadata": {
      "needs_background": "light"
     },
     "output_type": "display_data"
    }
   ],
   "source": [
    "plt.plot(x ,y)\n",
    "plt.xlabel('data')\n",
    "plt.ylabel('reach')\n",
    "plt.title('instgram reach')\n",
    "plt.show()"
   ]
  },
  {
   "cell_type": "code",
   "execution_count": 35,
   "id": "232278f0",
   "metadata": {},
   "outputs": [
    {
     "data": {
      "image/png": "[encoded data removed]",
      "text/plain": [
       "<Figure size 432x288 with 1 Axes>"
      ]
     },
     "metadata": {
      "needs_background": "light"
     },
     "output_type": "display_data"
    }
   ],
   "source": [
    "#Now let’s analyze Instagram reach for each day using a bar chart:\n",
    "plt.bar(x ,y)\n",
    "plt.xlabel('data')\n",
    "plt.ylabel('reach')\n",
    "plt.title('instgram reach')\n",
    "plt.show()"
   ]
  },
  {
   "cell_type": "code",
   "execution_count": 36,
   "id": "f5360c36",
   "metadata": {},
   "outputs": [
    {
     "name": "stderr",
     "output_type": "stream",
     "text": [
      "C:\\Users\\user\\anaconda\\lib\\site-packages\\seaborn\\_decorators.py:36: FutureWarning: Pass the following variable as a keyword arg: x. From version 0.12, the only valid positional argument will be `data`, and passing other arguments without an explicit keyword will result in an error or misinterpretation.\n",
      "  warnings.warn(\n"
     ]
    },
    {
     "data": {
      "text/plain": [
       "<AxesSubplot:xlabel='Instagram reach'>"
      ]
     },
     "execution_count": 36,
     "metadata": {},
     "output_type": "execute_result"
    },
    {
     "data": {
      "image/png": "[encoded data removed]",
      "text/plain": [
       "<Figure size 432x288 with 1 Axes>"
      ]
     },
     "metadata": {
      "needs_background": "light"
     },
     "output_type": "display_data"
    }
   ],
   "source": [
    "sns.boxplot(data['Instagram reach'])"
   ]
  },
  {
   "cell_type": "code",
   "execution_count": 37,
   "id": "d7f668db",
   "metadata": {},
   "outputs": [
    {
     "data": {
      "text/html": [
       "<div>\n",
       "<style scoped>\n",
       "    .dataframe tbody tr th:only-of-type {\n",
       "        vertical-align: middle;\n",
       "    }\n",
       "\n",
       "    .dataframe tbody tr th {\n",
       "        vertical-align: top;\n",
       "    }\n",
       "\n",
       "    .dataframe thead th {\n",
       "        text-align: right;\n",
       "    }\n",
       "</style>\n",
       "<table border=\"1\" class=\"dataframe\">\n",
       "  <thead>\n",
       "    <tr style=\"text-align: right;\">\n",
       "      <th></th>\n",
       "      <th>Date</th>\n",
       "      <th>Instagram reach</th>\n",
       "      <th>Day</th>\n",
       "    </tr>\n",
       "  </thead>\n",
       "  <tbody>\n",
       "    <tr>\n",
       "      <th>0</th>\n",
       "      <td>2022-04-01</td>\n",
       "      <td>7620</td>\n",
       "      <td>Friday</td>\n",
       "    </tr>\n",
       "    <tr>\n",
       "      <th>1</th>\n",
       "      <td>2022-04-02</td>\n",
       "      <td>12859</td>\n",
       "      <td>Saturday</td>\n",
       "    </tr>\n",
       "    <tr>\n",
       "      <th>2</th>\n",
       "      <td>2022-04-03</td>\n",
       "      <td>16008</td>\n",
       "      <td>Sunday</td>\n",
       "    </tr>\n",
       "    <tr>\n",
       "      <th>3</th>\n",
       "      <td>2022-04-04</td>\n",
       "      <td>24349</td>\n",
       "      <td>Monday</td>\n",
       "    </tr>\n",
       "    <tr>\n",
       "      <th>4</th>\n",
       "      <td>2022-04-05</td>\n",
       "      <td>20532</td>\n",
       "      <td>Tuesday</td>\n",
       "    </tr>\n",
       "  </tbody>\n",
       "</table>\n",
       "</div>"
      ],
      "text/plain": [
       "        Date  Instagram reach       Day\n",
       "0 2022-04-01             7620    Friday\n",
       "1 2022-04-02            12859  Saturday\n",
       "2 2022-04-03            16008    Sunday\n",
       "3 2022-04-04            24349    Monday\n",
       "4 2022-04-05            20532   Tuesday"
      ]
     },
     "execution_count": 37,
     "metadata": {},
     "output_type": "execute_result"
    }
   ],
   "source": [
    "#create a day column and analyze reach based on the days of the week.\n",
    "data['Day'] = data['Date'].dt.day_name()\n",
    "data.head()"
   ]
  },
  {
   "cell_type": "code",
   "execution_count": 55,
   "id": "e23000b7",
   "metadata": {
    "scrolled": true
   },
   "outputs": [
    {
     "data": {
      "text/html": [
       "<div>\n",
       "<style scoped>\n",
       "    .dataframe tbody tr th:only-of-type {\n",
       "        vertical-align: middle;\n",
       "    }\n",
       "\n",
       "    .dataframe tbody tr th {\n",
       "        vertical-align: top;\n",
       "    }\n",
       "\n",
       "    .dataframe thead th {\n",
       "        text-align: right;\n",
       "    }\n",
       "</style>\n",
       "<table border=\"1\" class=\"dataframe\">\n",
       "  <thead>\n",
       "    <tr style=\"text-align: right;\">\n",
       "      <th></th>\n",
       "      <th>Day</th>\n",
       "      <th>mean</th>\n",
       "      <th>median</th>\n",
       "      <th>std</th>\n",
       "    </tr>\n",
       "  </thead>\n",
       "  <tbody>\n",
       "    <tr>\n",
       "      <th>0</th>\n",
       "      <td>Friday</td>\n",
       "      <td>46666.849057</td>\n",
       "      <td>35574.0</td>\n",
       "      <td>29856.943036</td>\n",
       "    </tr>\n",
       "    <tr>\n",
       "      <th>1</th>\n",
       "      <td>Monday</td>\n",
       "      <td>52621.692308</td>\n",
       "      <td>46853.0</td>\n",
       "      <td>32296.071347</td>\n",
       "    </tr>\n",
       "    <tr>\n",
       "      <th>2</th>\n",
       "      <td>Saturday</td>\n",
       "      <td>47374.750000</td>\n",
       "      <td>40012.0</td>\n",
       "      <td>27667.043634</td>\n",
       "    </tr>\n",
       "    <tr>\n",
       "      <th>3</th>\n",
       "      <td>Sunday</td>\n",
       "      <td>53114.173077</td>\n",
       "      <td>47797.0</td>\n",
       "      <td>30906.162384</td>\n",
       "    </tr>\n",
       "    <tr>\n",
       "      <th>4</th>\n",
       "      <td>Thursday</td>\n",
       "      <td>48570.923077</td>\n",
       "      <td>39150.0</td>\n",
       "      <td>28623.220625</td>\n",
       "    </tr>\n",
       "  </tbody>\n",
       "</table>\n",
       "</div>"
      ],
      "text/plain": [
       "        Day          mean   median           std\n",
       "0    Friday  46666.849057  35574.0  29856.943036\n",
       "1    Monday  52621.692308  46853.0  32296.071347\n",
       "2  Saturday  47374.750000  40012.0  27667.043634\n",
       "3    Sunday  53114.173077  47797.0  30906.162384\n",
       "4  Thursday  48570.923077  39150.0  28623.220625"
      ]
     },
     "execution_count": 55,
     "metadata": {},
     "output_type": "execute_result"
    }
   ],
   "source": [
    "#analyze the reach based on the days of the week.\n",
    "day_stats = data.groupby('Day')['Instagram reach'].agg(['mean', 'median', 'std']).reset_index()\n",
    "day_stats.head()"
   ]
  },
  {
   "cell_type": "code",
   "execution_count": 58,
   "id": "e1cad582",
   "metadata": {},
   "outputs": [],
   "source": [
    "import plotly.graph_objs as go\n",
    "import plotly.express as px\n",
    "import plotly.io as pio\n",
    "pio.templates.default = \"plotly_white\""
   ]
  },
  {
   "cell_type": "code",
   "execution_count": 59,
   "id": "2fba3f3b",
   "metadata": {},
   "outputs": [
    {
     "data": {
      "application/vnd.plotly.v1+json": {
       "config": {
        "plotlyServerURL": "https://plot.ly"
       },
       "data": [
        {
         "name": "Mean",
         "type": "bar",
         "x": [
          "Friday",
          "Monday",
          "Saturday",
          "Sunday",
          "Thursday",
          "Tuesday",
          "Wednesday"
         ],
         "y": [
          46666.84905660377,
          52621.692307692305,
          47374.75,
          53114.17307692308,
          48570.92307692308,
          54030.557692307695,
          51017.269230769234
         ]
        },
        {
         "name": "Median",
         "type": "bar",
         "x": [
          "Friday",
          "Monday",
          "Saturday",
          "Sunday",
          "Thursday",
          "Tuesday",
          "Wednesday"
         ],
         "y": [
          35574,
          46853,
          40012,
          47797,
          39150,
          48786,
          42320.5
         ]
        },
        {
         "name": "Standard Deviation",
         "type": "bar",
         "x": [
          "Friday",
          "Monday",
          "Saturday",
          "Sunday",
          "Thursday",
          "Tuesday",
          "Wednesday"
         ],
         "y": [
          29856.94303572146,
          32296.07134703056,
          27667.043634007565,
          30906.162384262432,
          28623.220625470483,
          32503.72648223432,
          29047.86968471545
         ]
        }
       ],
       "layout": {
        "template": {
         "data": {
          "bar": [
           {
            "error_x": {
             "color": "#2a3f5f"
            },
            "error_y": {
             "color": "#2a3f5f"
            },
            "marker": {
             "line": {
              "color": "white",
              "width": 0.5
             },
             "pattern": {
              "fillmode": "overlay",
              "size": 10,
              "solidity": 0.2
             }
            },
            "type": "bar"
           }
          ],
          "barpolar": [
           {
            "marker": {
             "line": {
              "color": "white",
              "width": 0.5
             },
             "pattern": {
              "fillmode": "overlay",
              "size": 10,
              "solidity": 0.2
             }
            },
            "type": "barpolar"
           }
          ],
          "carpet": [
           {
            "aaxis": {
             "endlinecolor": "#2a3f5f",
             "gridcolor": "#C8D4E3",
             "linecolor": "#C8D4E3",
             "minorgridcolor": "#C8D4E3",
             "startlinecolor": "#2a3f5f"
            },
            "baxis": {
             "endlinecolor": "#2a3f5f",
             "gridcolor": "#C8D4E3",
             "linecolor": "#C8D4E3",
             "minorgridcolor": "#C8D4E3",
             "startlinecolor": "#2a3f5f"
            },
            "type": "carpet"
           }
          ],
          "choropleth": [
           {
            "colorbar": {
             "outlinewidth": 0,
             "ticks": ""
            },
            "type": "choropleth"
           }
          ],
          "contour": [
           {
            "colorbar": {
             "outlinewidth": 0,
             "ticks": ""
            },
            "colorscale": [
             [
              0,
              "#0d0887"
             ],
             [
              0.1111111111111111,
              "#46039f"
             ],
             [
              0.2222222222222222,
              "#7201a8"
             ],
             [
              0.3333333333333333,
              "#9c179e"
             ],
             [
              0.4444444444444444,
              "#bd3786"
             ],
             [
              0.5555555555555556,
              "#d8576b"
             ],
             [
              0.6666666666666666,
              "#ed7953"
             ],
             [
              0.7777777777777778,
              "#fb9f3a"
             ],
             [
              0.8888888888888888,
              "#fdca26"
             ],
             [
              1,
              "#f0f921"
             ]
            ],
            "type": "contour"
           }
          ],
          "contourcarpet": [
           {
            "colorbar": {
             "outlinewidth": 0,
             "ticks": ""
            },
            "type": "contourcarpet"
           }
          ],
          "heatmap": [
           {
            "colorbar": {
             "outlinewidth": 0,
             "ticks": ""
            },
            "colorscale": [
             [
              0,
              "#0d0887"
             ],
             [
              0.1111111111111111,
              "#46039f"
             ],
             [
              0.2222222222222222,
              "#7201a8"
             ],
             [
              0.3333333333333333,
              "#9c179e"
             ],
             [
              0.4444444444444444,
              "#bd3786"
             ],
             [
              0.5555555555555556,
              "#d8576b"
             ],
             [
              0.6666666666666666,
              "#ed7953"
             ],
             [
              0.7777777777777778,
              "#fb9f3a"
             ],
             [
              0.8888888888888888,
              "#fdca26"
             ],
             [
              1,
              "#f0f921"
             ]
            ],
            "type": "heatmap"
           }
          ],
          "heatmapgl": [
           {
            "colorbar": {
             "outlinewidth": 0,
             "ticks": ""
            },
            "colorscale": [
             [
              0,
              "#0d0887"
             ],
             [
              0.1111111111111111,
              "#46039f"
             ],
             [
              0.2222222222222222,
              "#7201a8"
             ],
             [
              0.3333333333333333,
              "#9c179e"
             ],
             [
              0.4444444444444444,
              "#bd3786"
             ],
             [
              0.5555555555555556,
              "#d8576b"
             ],
             [
              0.6666666666666666,
              "#ed7953"
             ],
             [
              0.7777777777777778,
              "#fb9f3a"
             ],
             [
              0.8888888888888888,
              "#fdca26"
             ],
             [
              1,
              "#f0f921"
             ]
            ],
            "type": "heatmapgl"
           }
          ],
          "histogram": [
           {
            "marker": {
             "pattern": {
              "fillmode": "overlay",
              "size": 10,
              "solidity": 0.2
             }
            },
            "type": "histogram"
           }
          ],
          "histogram2d": [
           {
            "colorbar": {
             "outlinewidth": 0,
             "ticks": ""
            },
            "colorscale": [
             [
              0,
              "#0d0887"
             ],
             [
              0.1111111111111111,
              "#46039f"
             ],
             [
              0.2222222222222222,
              "#7201a8"
             ],
             [
              0.3333333333333333,
              "#9c179e"
             ],
             [
              0.4444444444444444,
              "#bd3786"
             ],
             [
              0.5555555555555556,
              "#d8576b"
             ],
             [
              0.6666666666666666,
              "#ed7953"
             ],
             [
              0.7777777777777778,
              "#fb9f3a"
             ],
             [
              0.8888888888888888,
              "#fdca26"
             ],
             [
              1,
              "#f0f921"
             ]
            ],
            "type": "histogram2d"
           }
          ],
          "histogram2dcontour": [
           {
            "colorbar": {
             "outlinewidth": 0,
             "ticks": ""
            },
            "colorscale": [
             [
              0,
              "#0d0887"
             ],
             [
              0.1111111111111111,
              "#46039f"
             ],
             [
              0.2222222222222222,
              "#7201a8"
             ],
             [
              0.3333333333333333,
              "#9c179e"
             ],
             [
              0.4444444444444444,
              "#bd3786"
             ],
             [
              0.5555555555555556,
              "#d8576b"
             ],
             [
              0.6666666666666666,
              "#ed7953"
             ],
             [
              0.7777777777777778,
              "#fb9f3a"
             ],
             [
              0.8888888888888888,
              "#fdca26"
             ],
             [
              1,
              "#f0f921"
             ]
            ],
            "type": "histogram2dcontour"
           }
          ],
          "mesh3d": [
           {
            "colorbar": {
             "outlinewidth": 0,
             "ticks": ""
            },
            "type": "mesh3d"
           }
          ],
          "parcoords": [
           {
            "line": {
             "colorbar": {
              "outlinewidth": 0,
              "ticks": ""
             }
            },
            "type": "parcoords"
           }
          ],
          "pie": [
           {
            "automargin": true,
            "type": "pie"
           }
          ],
          "scatter": [
           {
            "marker": {
             "colorbar": {
              "outlinewidth": 0,
              "ticks": ""
             }
            },
            "type": "scatter"
           }
          ],
          "scatter3d": [
           {
            "line": {
             "colorbar": {
              "outlinewidth": 0,
              "ticks": ""
             }
            },
            "marker": {
             "colorbar": {
              "outlinewidth": 0,
              "ticks": ""
             }
            },
            "type": "scatter3d"
           }
          ],
          "scattercarpet": [
           {
            "marker": {
             "colorbar": {
              "outlinewidth": 0,
              "ticks": ""
             }
            },
            "type": "scattercarpet"
           }
          ],
          "scattergeo": [
           {
            "marker": {
             "colorbar": {
              "outlinewidth": 0,
              "ticks": ""
             }
            },
            "type": "scattergeo"
           }
          ],
          "scattergl": [
           {
            "marker": {
             "colorbar": {
              "outlinewidth": 0,
              "ticks": ""
             }
            },
            "type": "scattergl"
           }
          ],
          "scattermapbox": [
           {
            "marker": {
             "colorbar": {
              "outlinewidth": 0,
              "ticks": ""
             }
            },
            "type": "scattermapbox"
           }
          ],
          "scatterpolar": [
           {
            "marker": {
             "colorbar": {
              "outlinewidth": 0,
              "ticks": ""
             }
            },
            "type": "scatterpolar"
           }
          ],
          "scatterpolargl": [
           {
            "marker": {
             "colorbar": {
              "outlinewidth": 0,
              "ticks": ""
             }
            },
            "type": "scatterpolargl"
           }
          ],
          "scatterternary": [
           {
            "marker": {
             "colorbar": {
              "outlinewidth": 0,
              "ticks": ""
             }
            },
            "type": "scatterternary"
           }
          ],
          "surface": [
           {
            "colorbar": {
             "outlinewidth": 0,
             "ticks": ""
            },
            "colorscale": [
             [
              0,
              "#0d0887"
             ],
             [
              0.1111111111111111,
              "#46039f"
             ],
             [
              0.2222222222222222,
              "#7201a8"
             ],
             [
              0.3333333333333333,
              "#9c179e"
             ],
             [
              0.4444444444444444,
              "#bd3786"
             ],
             [
              0.5555555555555556,
              "#d8576b"
             ],
             [
              0.6666666666666666,
              "#ed7953"
             ],
             [
              0.7777777777777778,
              "#fb9f3a"
             ],
             [
              0.8888888888888888,
              "#fdca26"
             ],
             [
              1,
              "#f0f921"
             ]
            ],
            "type": "surface"
           }
          ],
          "table": [
           {
            "cells": {
             "fill": {
              "color": "#EBF0F8"
             },
             "line": {
              "color": "white"
             }
            },
            "header": {
             "fill": {
              "color": "#C8D4E3"
             },
             "line": {
              "color": "white"
             }
            },
            "type": "table"
           }
          ]
         },
         "layout": {
          "annotationdefaults": {
           "arrowcolor": "#2a3f5f",
           "arrowhead": 0,
           "arrowwidth": 1
          },
          "autotypenumbers": "strict",
          "coloraxis": {
           "colorbar": {
            "outlinewidth": 0,
            "ticks": ""
           }
          },
          "colorscale": {
           "diverging": [
            [
             0,
             "#8e0152"
            ],
            [
             0.1,
             "#c51b7d"
            ],
            [
             0.2,
             "#de77ae"
            ],
            [
             0.3,
             "#f1b6da"
            ],
            [
             0.4,
             "#fde0ef"
            ],
            [
             0.5,
             "#f7f7f7"
            ],
            [
             0.6,
             "#e6f5d0"
            ],
            [
             0.7,
             "#b8e186"
            ],
            [
             0.8,
             "#7fbc41"
            ],
            [
             0.9,
             "#4d9221"
            ],
            [
             1,
             "#276419"
            ]
           ],
           "sequential": [
            [
             0,
             "#0d0887"
            ],
            [
             0.1111111111111111,
             "#46039f"
            ],
            [
             0.2222222222222222,
             "#7201a8"
            ],
            [
             0.3333333333333333,
             "#9c179e"
            ],
            [
             0.4444444444444444,
             "#bd3786"
            ],
            [
             0.5555555555555556,
             "#d8576b"
            ],
            [
             0.6666666666666666,
             "#ed7953"
            ],
            [
             0.7777777777777778,
             "#fb9f3a"
            ],
            [
             0.8888888888888888,
             "#fdca26"
            ],
            [
             1,
             "#f0f921"
            ]
           ],
           "sequentialminus": [
            [
             0,
             "#0d0887"
            ],
            [
             0.1111111111111111,
             "#46039f"
            ],
            [
             0.2222222222222222,
             "#7201a8"
            ],
            [
             0.3333333333333333,
             "#9c179e"
            ],
            [
             0.4444444444444444,
             "#bd3786"
            ],
            [
             0.5555555555555556,
             "#d8576b"
            ],
            [
             0.6666666666666666,
             "#ed7953"
            ],
            [
             0.7777777777777778,
             "#fb9f3a"
            ],
            [
             0.8888888888888888,
             "#fdca26"
            ],
            [
             1,
             "#f0f921"
            ]
           ]
          },
          "colorway": [
           "#636efa",
           "#EF553B",
           "#00cc96",
           "#ab63fa",
           "#FFA15A",
           "#19d3f3",
           "#FF6692",
           "#B6E880",
           "#FF97FF",
           "#FECB52"
          ],
          "font": {
           "color": "#2a3f5f"
          },
          "geo": {
           "bgcolor": "white",
           "lakecolor": "white",
           "landcolor": "white",
           "showlakes": true,
           "showland": true,
           "subunitcolor": "#C8D4E3"
          },
          "hoverlabel": {
           "align": "left"
          },
          "hovermode": "closest",
          "mapbox": {
           "style": "light"
          },
          "paper_bgcolor": "white",
          "plot_bgcolor": "white",
          "polar": {
           "angularaxis": {
            "gridcolor": "#EBF0F8",
            "linecolor": "#EBF0F8",
            "ticks": ""
           },
           "bgcolor": "white",
           "radialaxis": {
            "gridcolor": "#EBF0F8",
            "linecolor": "#EBF0F8",
            "ticks": ""
           }
          },
          "scene": {
           "xaxis": {
            "backgroundcolor": "white",
            "gridcolor": "#DFE8F3",
            "gridwidth": 2,
            "linecolor": "#EBF0F8",
            "showbackground": true,
            "ticks": "",
            "zerolinecolor": "#EBF0F8"
           },
           "yaxis": {
            "backgroundcolor": "white",
            "gridcolor": "#DFE8F3",
            "gridwidth": 2,
            "linecolor": "#EBF0F8",
            "showbackground": true,
            "ticks": "",
            "zerolinecolor": "#EBF0F8"
           },
           "zaxis": {
            "backgroundcolor": "white",
            "gridcolor": "#DFE8F3",
            "gridwidth": 2,
            "linecolor": "#EBF0F8",
            "showbackground": true,
            "ticks": "",
            "zerolinecolor": "#EBF0F8"
           }
          },
          "shapedefaults": {
           "line": {
            "color": "#2a3f5f"
           }
          },
          "ternary": {
           "aaxis": {
            "gridcolor": "#DFE8F3",
            "linecolor": "#A2B1C6",
            "ticks": ""
           },
           "baxis": {
            "gridcolor": "#DFE8F3",
            "linecolor": "#A2B1C6",
            "ticks": ""
           },
           "bgcolor": "white",
           "caxis": {
            "gridcolor": "#DFE8F3",
            "linecolor": "#A2B1C6",
            "ticks": ""
           }
          },
          "title": {
           "x": 0.05
          },
          "xaxis": {
           "automargin": true,
           "gridcolor": "#EBF0F8",
           "linecolor": "#EBF0F8",
           "ticks": "",
           "title": {
            "standoff": 15
           },
           "zerolinecolor": "#EBF0F8",
           "zerolinewidth": 2
          },
          "yaxis": {
           "automargin": true,
           "gridcolor": "#EBF0F8",
           "linecolor": "#EBF0F8",
           "ticks": "",
           "title": {
            "standoff": 15
           },
           "zerolinecolor": "#EBF0F8",
           "zerolinewidth": 2
          }
         }
        },
        "title": {
         "text": "Instagram Reach by Day of the Week"
        },
        "xaxis": {
         "title": {
          "text": "Day"
         }
        },
        "yaxis": {
         "title": {
          "text": "Instagram Reach"
         }
        }
       }
      },
      "text/html": [
       "<div>                            <div id=\"1f2326f5-8325-4bf6-b416-c77318a45ee9\" class=\"plotly-graph-div\" style=\"height:525px; width:100%;\"></div>            <script type=\"text/javascript\">                require([\"plotly\"], function(Plotly) {                    window.PLOTLYENV=window.PLOTLYENV || {};                                    if (document.getElementById(\"1f2326f5-8325-4bf6-b416-c77318a45ee9\")) {                    Plotly.newPlot(                        \"1f2326f5-8325-4bf6-b416-c77318a45ee9\",                        [{\"name\":\"Mean\",\"x\":[\"Friday\",\"Monday\",\"Saturday\",\"Sunday\",\"Thursday\",\"Tuesday\",\"Wednesday\"],\"y\":[46666.84905660377,52621.692307692305,47374.75,53114.17307692308,48570.92307692308,54030.557692307695,51017.269230769234],\"type\":\"bar\"},{\"name\":\"Median\",\"x\":[\"Friday\",\"Monday\",\"Saturday\",\"Sunday\",\"Thursday\",\"Tuesday\",\"Wednesday\"],\"y\":[35574.0,46853.0,40012.0,47797.0,39150.0,48786.0,42320.5],\"type\":\"bar\"},{\"name\":\"Standard Deviation\",\"x\":[\"Friday\",\"Monday\",\"Saturday\",\"Sunday\",\"Thursday\",\"Tuesday\",\"Wednesday\"],\"y\":[29856.94303572146,32296.07134703056,27667.043634007565,30906.162384262432,28623.220625470483,32503.72648223432,29047.86968471545],\"type\":\"bar\"}],                        {\"template\":{\"data\":{\"bar\":[{\"error_x\":{\"color\":\"#2a3f5f\"},\"error_y\":{\"color\":\"#2a3f5f\"},\"marker\":{\"line\":{\"color\":\"white\",\"width\":0.5},\"pattern\":{\"fillmode\":\"overlay\",\"size\":10,\"solidity\":0.2}},\"type\":\"bar\"}],\"barpolar\":[{\"marker\":{\"line\":{\"color\":\"white\",\"width\":0.5},\"pattern\":{\"fillmode\":\"overlay\",\"size\":10,\"solidity\":0.2}},\"type\":\"barpolar\"}],\"carpet\":[{\"aaxis\":{\"endlinecolor\":\"#2a3f5f\",\"gridcolor\":\"#C8D4E3\",\"linecolor\":\"#C8D4E3\",\"minorgridcolor\":\"#C8D4E3\",\"startlinecolor\":\"#2a3f5f\"},\"baxis\":{\"endlinecolor\":\"#2a3f5f\",\"gridcolor\":\"#C8D4E3\",\"linecolor\":\"#C8D4E3\",\"minorgridcolor\":\"#C8D4E3\",\"startlinecolor\":\"#2a3f5f\"},\"type\":\"carpet\"}],\"choropleth\":[{\"colorbar\":{\"outlinewidth\":0,\"ticks\":\"\"},\"type\":\"choropleth\"}],\"contour\":[{\"colorbar\":{\"outlinewidth\":0,\"ticks\":\"\"},\"colorscale\":[[0.0,\"#0d0887\"],[0.1111111111111111,\"#46039f\"],[0.2222222222222222,\"#7201a8\"],[0.3333333333333333,\"#9c179e\"],[0.4444444444444444,\"#bd3786\"],[0.5555555555555556,\"#d8576b\"],[0.6666666666666666,\"#ed7953\"],[0.7777777777777778,\"#fb9f3a\"],[0.8888888888888888,\"#fdca26\"],[1.0,\"#f0f921\"]],\"type\":\"contour\"}],\"contourcarpet\":[{\"colorbar\":{\"outlinewidth\":0,\"ticks\":\"\"},\"type\":\"contourcarpet\"}],\"heatmap\":[{\"colorbar\":{\"outlinewidth\":0,\"ticks\":\"\"},\"colorscale\":[[0.0,\"#0d0887\"],[0.1111111111111111,\"#46039f\"],[0.2222222222222222,\"#7201a8\"],[0.3333333333333333,\"#9c179e\"],[0.4444444444444444,\"#bd3786\"],[0.5555555555555556,\"#d8576b\"],[0.6666666666666666,\"#ed7953\"],[0.7777777777777778,\"#fb9f3a\"],[0.8888888888888888,\"#fdca26\"],[1.0,\"#f0f921\"]],\"type\":\"heatmap\"}],\"heatmapgl\":[{\"colorbar\":{\"outlinewidth\":0,\"ticks\":\"\"},\"colorscale\":[[0.0,\"#0d0887\"],[0.1111111111111111,\"#46039f\"],[0.2222222222222222,\"#7201a8\"],[0.3333333333333333,\"#9c179e\"],[0.4444444444444444,\"#bd3786\"],[0.5555555555555556,\"#d8576b\"],[0.6666666666666666,\"#ed7953\"],[0.7777777777777778,\"#fb9f3a\"],[0.8888888888888888,\"#fdca26\"],[1.0,\"#f0f921\"]],\"type\":\"heatmapgl\"}],\"histogram\":[{\"marker\":{\"pattern\":{\"fillmode\":\"overlay\",\"size\":10,\"solidity\":0.2}},\"type\":\"histogram\"}],\"histogram2d\":[{\"colorbar\":{\"outlinewidth\":0,\"ticks\":\"\"},\"colorscale\":[[0.0,\"#0d0887\"],[0.1111111111111111,\"#46039f\"],[0.2222222222222222,\"#7201a8\"],[0.3333333333333333,\"#9c179e\"],[0.4444444444444444,\"#bd3786\"],[0.5555555555555556,\"#d8576b\"],[0.6666666666666666,\"#ed7953\"],[0.7777777777777778,\"#fb9f3a\"],[0.8888888888888888,\"#fdca26\"],[1.0,\"#f0f921\"]],\"type\":\"histogram2d\"}],\"histogram2dcontour\":[{\"colorbar\":{\"outlinewidth\":0,\"ticks\":\"\"},\"colorscale\":[[0.0,\"#0d0887\"],[0.1111111111111111,\"#46039f\"],[0.2222222222222222,\"#7201a8\"],[0.3333333333333333,\"#9c179e\"],[0.4444444444444444,\"#bd3786\"],[0.5555555555555556,\"#d8576b\"],[0.6666666666666666,\"#ed7953\"],[0.7777777777777778,\"#fb9f3a\"],[0.8888888888888888,\"#fdca26\"],[1.0,\"#f0f921\"]],\"type\":\"histogram2dcontour\"}],\"mesh3d\":[{\"colorbar\":{\"outlinewidth\":0,\"ticks\":\"\"},\"type\":\"mesh3d\"}],\"parcoords\":[{\"line\":{\"colorbar\":{\"outlinewidth\":0,\"ticks\":\"\"}},\"type\":\"parcoords\"}],\"pie\":[{\"automargin\":true,\"type\":\"pie\"}],\"scatter\":[{\"marker\":{\"colorbar\":{\"outlinewidth\":0,\"ticks\":\"\"}},\"type\":\"scatter\"}],\"scatter3d\":[{\"line\":{\"colorbar\":{\"outlinewidth\":0,\"ticks\":\"\"}},\"marker\":{\"colorbar\":{\"outlinewidth\":0,\"ticks\":\"\"}},\"type\":\"scatter3d\"}],\"scattercarpet\":[{\"marker\":{\"colorbar\":{\"outlinewidth\":0,\"ticks\":\"\"}},\"type\":\"scattercarpet\"}],\"scattergeo\":[{\"marker\":{\"colorbar\":{\"outlinewidth\":0,\"ticks\":\"\"}},\"type\":\"scattergeo\"}],\"scattergl\":[{\"marker\":{\"colorbar\":{\"outlinewidth\":0,\"ticks\":\"\"}},\"type\":\"scattergl\"}],\"scattermapbox\":[{\"marker\":{\"colorbar\":{\"outlinewidth\":0,\"ticks\":\"\"}},\"type\":\"scattermapbox\"}],\"scatterpolar\":[{\"marker\":{\"colorbar\":{\"outlinewidth\":0,\"ticks\":\"\"}},\"type\":\"scatterpolar\"}],\"scatterpolargl\":[{\"marker\":{\"colorbar\":{\"outlinewidth\":0,\"ticks\":\"\"}},\"type\":\"scatterpolargl\"}],\"scatterternary\":[{\"marker\":{\"colorbar\":{\"outlinewidth\":0,\"ticks\":\"\"}},\"type\":\"scatterternary\"}],\"surface\":[{\"colorbar\":{\"outlinewidth\":0,\"ticks\":\"\"},\"colorscale\":[[0.0,\"#0d0887\"],[0.1111111111111111,\"#46039f\"],[0.2222222222222222,\"#7201a8\"],[0.3333333333333333,\"#9c179e\"],[0.4444444444444444,\"#bd3786\"],[0.5555555555555556,\"#d8576b\"],[0.6666666666666666,\"#ed7953\"],[0.7777777777777778,\"#fb9f3a\"],[0.8888888888888888,\"#fdca26\"],[1.0,\"#f0f921\"]],\"type\":\"surface\"}],\"table\":[{\"cells\":{\"fill\":{\"color\":\"#EBF0F8\"},\"line\":{\"color\":\"white\"}},\"header\":{\"fill\":{\"color\":\"#C8D4E3\"},\"line\":{\"color\":\"white\"}},\"type\":\"table\"}]},\"layout\":{\"annotationdefaults\":{\"arrowcolor\":\"#2a3f5f\",\"arrowhead\":0,\"arrowwidth\":1},\"autotypenumbers\":\"strict\",\"coloraxis\":{\"colorbar\":{\"outlinewidth\":0,\"ticks\":\"\"}},\"colorscale\":{\"diverging\":[[0,\"#8e0152\"],[0.1,\"#c51b7d\"],[0.2,\"#de77ae\"],[0.3,\"#f1b6da\"],[0.4,\"#fde0ef\"],[0.5,\"#f7f7f7\"],[0.6,\"#e6f5d0\"],[0.7,\"#b8e186\"],[0.8,\"#7fbc41\"],[0.9,\"#4d9221\"],[1,\"#276419\"]],\"sequential\":[[0.0,\"#0d0887\"],[0.1111111111111111,\"#46039f\"],[0.2222222222222222,\"#7201a8\"],[0.3333333333333333,\"#9c179e\"],[0.4444444444444444,\"#bd3786\"],[0.5555555555555556,\"#d8576b\"],[0.6666666666666666,\"#ed7953\"],[0.7777777777777778,\"#fb9f3a\"],[0.8888888888888888,\"#fdca26\"],[1.0,\"#f0f921\"]],\"sequentialminus\":[[0.0,\"#0d0887\"],[0.1111111111111111,\"#46039f\"],[0.2222222222222222,\"#7201a8\"],[0.3333333333333333,\"#9c179e\"],[0.4444444444444444,\"#bd3786\"],[0.5555555555555556,\"#d8576b\"],[0.6666666666666666,\"#ed7953\"],[0.7777777777777778,\"#fb9f3a\"],[0.8888888888888888,\"#fdca26\"],[1.0,\"#f0f921\"]]},\"colorway\":[\"#636efa\",\"#EF553B\",\"#00cc96\",\"#ab63fa\",\"#FFA15A\",\"#19d3f3\",\"#FF6692\",\"#B6E880\",\"#FF97FF\",\"#FECB52\"],\"font\":{\"color\":\"#2a3f5f\"},\"geo\":{\"bgcolor\":\"white\",\"lakecolor\":\"white\",\"landcolor\":\"white\",\"showlakes\":true,\"showland\":true,\"subunitcolor\":\"#C8D4E3\"},\"hoverlabel\":{\"align\":\"left\"},\"hovermode\":\"closest\",\"mapbox\":{\"style\":\"light\"},\"paper_bgcolor\":\"white\",\"plot_bgcolor\":\"white\",\"polar\":{\"angularaxis\":{\"gridcolor\":\"#EBF0F8\",\"linecolor\":\"#EBF0F8\",\"ticks\":\"\"},\"bgcolor\":\"white\",\"radialaxis\":{\"gridcolor\":\"#EBF0F8\",\"linecolor\":\"#EBF0F8\",\"ticks\":\"\"}},\"scene\":{\"xaxis\":{\"backgroundcolor\":\"white\",\"gridcolor\":\"#DFE8F3\",\"gridwidth\":2,\"linecolor\":\"#EBF0F8\",\"showbackground\":true,\"ticks\":\"\",\"zerolinecolor\":\"#EBF0F8\"},\"yaxis\":{\"backgroundcolor\":\"white\",\"gridcolor\":\"#DFE8F3\",\"gridwidth\":2,\"linecolor\":\"#EBF0F8\",\"showbackground\":true,\"ticks\":\"\",\"zerolinecolor\":\"#EBF0F8\"},\"zaxis\":{\"backgroundcolor\":\"white\",\"gridcolor\":\"#DFE8F3\",\"gridwidth\":2,\"linecolor\":\"#EBF0F8\",\"showbackground\":true,\"ticks\":\"\",\"zerolinecolor\":\"#EBF0F8\"}},\"shapedefaults\":{\"line\":{\"color\":\"#2a3f5f\"}},\"ternary\":{\"aaxis\":{\"gridcolor\":\"#DFE8F3\",\"linecolor\":\"#A2B1C6\",\"ticks\":\"\"},\"baxis\":{\"gridcolor\":\"#DFE8F3\",\"linecolor\":\"#A2B1C6\",\"ticks\":\"\"},\"bgcolor\":\"white\",\"caxis\":{\"gridcolor\":\"#DFE8F3\",\"linecolor\":\"#A2B1C6\",\"ticks\":\"\"}},\"title\":{\"x\":0.05},\"xaxis\":{\"automargin\":true,\"gridcolor\":\"#EBF0F8\",\"linecolor\":\"#EBF0F8\",\"ticks\":\"\",\"title\":{\"standoff\":15},\"zerolinecolor\":\"#EBF0F8\",\"zerolinewidth\":2},\"yaxis\":{\"automargin\":true,\"gridcolor\":\"#EBF0F8\",\"linecolor\":\"#EBF0F8\",\"ticks\":\"\",\"title\":{\"standoff\":15},\"zerolinecolor\":\"#EBF0F8\",\"zerolinewidth\":2}}},\"title\":{\"text\":\"Instagram Reach by Day of the Week\"},\"xaxis\":{\"title\":{\"text\":\"Day\"}},\"yaxis\":{\"title\":{\"text\":\"Instagram Reach\"}}},                        {\"responsive\": true}                    ).then(function(){\n",
       "                            \n",
       "var gd = document.getElementById('1f2326f5-8325-4bf6-b416-c77318a45ee9');\n",
       "var x = new MutationObserver(function (mutations, observer) {{\n",
       "        var display = window.getComputedStyle(gd).display;\n",
       "        if (!display || display === 'none') {{\n",
       "            console.log([gd, 'removed!']);\n",
       "            Plotly.purge(gd);\n",
       "            observer.disconnect();\n",
       "        }}\n",
       "}});\n",
       "\n",
       "// Listen for the removal of the full notebook cells\n",
       "var notebookContainer = gd.closest('#notebook-container');\n",
       "if (notebookContainer) {{\n",
       "    x.observe(notebookContainer, {childList: true});\n",
       "}}\n",
       "\n",
       "// Listen for the clearing of the current output cell\n",
       "var outputEl = gd.closest('.output');\n",
       "if (outputEl) {{\n",
       "    x.observe(outputEl, {childList: true});\n",
       "}}\n",
       "\n",
       "                        })                };                });            </script>        </div>"
      ]
     },
     "metadata": {},
     "output_type": "display_data"
    }
   ],
   "source": [
    "fig = go.Figure()\n",
    "fig.add_trace(go.Bar(x=day_stats['Day'], \n",
    "                     y=day_stats['mean'], \n",
    "                     name='Mean'))\n",
    "fig.add_trace(go.Bar(x=day_stats['Day'], \n",
    "                     y=day_stats['median'], \n",
    "                     name='Median'))\n",
    "fig.add_trace(go.Bar(x=day_stats['Day'], \n",
    "                     y=day_stats['std'], \n",
    "                     name='Standard Deviation'))\n",
    "fig.update_layout(title='Instagram Reach by Day of the Week', \n",
    "                  xaxis_title='Day', \n",
    "                  yaxis_title='Instagram Reach')\n",
    "fig.show()"
   ]
  },
  {
   "cell_type": "markdown",
   "id": "4ee96424",
   "metadata": {},
   "source": [
    "Instagram Reach Forecasting using Time Series Forecasting\n"
   ]
  },
  {
   "cell_type": "code",
   "execution_count": 60,
   "id": "a71a7265",
   "metadata": {},
   "outputs": [
    {
     "data": {
      "application/vnd.plotly.v1+json": {
       "config": {
        "plotlyServerURL": "https://plot.ly"
       },
       "data": [
        {
         "line": {
          "color": "rgba (31, 119, 180, 1)",
          "dash": "solid",
          "width": 1.5
         },
         "mode": "lines",
         "name": "_child0",
         "type": "scatter",
         "x": [
          0,
          1,
          2,
          3,
          4,
          5,
          6,
          7,
          8,
          9,
          10,
          11,
          12,
          13,
          14,
          15,
          16,
          17,
          18,
          19,
          20,
          21,
          22,
          23,
          24,
          25,
          26,
          27,
          28,
          29,
          30,
          31,
          32,
          33,
          34,
          35,
          36,
          37,
          38,
          39,
          40,
          41,
          42,
          43,
          44,
          45,
          46,
          47,
          48,
          49,
          50,
          51,
          52,
          53,
          54,
          55,
          56,
          57,
          58,
          59,
          60,
          61,
          62,
          63,
          64,
          65,
          66,
          67,
          68,
          69,
          70,
          71,
          72,
          73,
          74,
          75,
          76,
          77,
          78,
          79,
          80,
          81,
          82,
          83,
          84,
          85,
          86,
          87,
          88,
          89,
          90,
          91,
          92,
          93,
          94,
          95,
          96,
          97,
          98,
          99,
          100,
          101,
          102,
          103,
          104,
          105,
          106,
          107,
          108,
          109,
          110,
          111,
          112,
          113,
          114,
          115,
          116,
          117,
          118,
          119,
          120,
          121,
          122,
          123,
          124,
          125,
          126,
          127,
          128,
          129,
          130,
          131,
          132,
          133,
          134,
          135,
          136,
          137,
          138,
          139,
          140,
          141,
          142,
          143,
          144,
          145,
          146,
          147,
          148,
          149,
          150,
          151,
          152,
          153,
          154,
          155,
          156,
          157,
          158,
          159,
          160,
          161,
          162,
          163,
          164,
          165,
          166,
          167,
          168,
          169,
          170,
          171,
          172,
          173,
          174,
          175,
          176,
          177,
          178,
          179,
          180,
          181,
          182,
          183,
          184,
          185,
          186,
          187,
          188,
          189,
          190,
          191,
          192,
          193,
          194,
          195,
          196,
          197,
          198,
          199,
          200,
          201,
          202,
          203,
          204,
          205,
          206,
          207,
          208,
          209,
          210,
          211,
          212,
          213,
          214,
          215,
          216,
          217,
          218,
          219,
          220,
          221,
          222,
          223,
          224,
          225,
          226,
          227,
          228,
          229,
          230,
          231,
          232,
          233,
          234,
          235,
          236,
          237,
          238,
          239,
          240,
          241,
          242,
          243,
          244,
          245,
          246,
          247,
          248,
          249,
          250,
          251,
          252,
          253,
          254,
          255,
          256,
          257,
          258,
          259,
          260,
          261,
          262,
          263,
          264,
          265,
          266,
          267,
          268,
          269,
          270,
          271,
          272,
          273,
          274,
          275,
          276,
          277,
          278,
          279,
          280,
          281,
          282,
          283,
          284,
          285,
          286,
          287,
          288,
          289,
          290,
          291,
          292,
          293,
          294,
          295,
          296,
          297,
          298,
          299,
          300,
          301,
          302,
          303,
          304,
          305,
          306,
          307,
          308,
          309,
          310,
          311,
          312,
          313,
          314,
          315,
          316,
          317,
          318,
          319,
          320,
          321,
          322,
          323,
          324,
          325,
          326,
          327,
          328,
          329,
          330,
          331,
          332,
          333,
          334,
          335,
          336,
          337,
          338,
          339,
          340,
          341,
          342,
          343,
          344,
          345,
          346,
          347,
          348,
          349,
          350,
          351,
          352,
          353,
          354,
          355,
          356,
          357,
          358,
          359,
          360,
          361,
          362,
          363,
          364
         ],
         "xaxis": "x",
         "y": [
          7620,
          12859,
          16008,
          24349,
          20532,
          19408,
          14941,
          17263,
          20224,
          30471,
          39774,
          43550,
          42342,
          55477,
          54391,
          44108,
          49089,
          42790,
          49940,
          45763,
          38457,
          45197,
          42367,
          36076,
          34467,
          36772,
          35349,
          27926,
          26184,
          26410,
          32637,
          42204,
          47632,
          35793,
          35945,
          35574,
          26940,
          27495,
          19660,
          24138,
          23391,
          16748,
          17489,
          18171,
          29682,
          33085,
          50797,
          54392,
          35649,
          33654,
          46443,
          50465,
          51263,
          55647,
          68448,
          73815,
          74077,
          67922,
          80600,
          73835,
          83221,
          77190,
          83630,
          65133,
          72761,
          67778,
          54560,
          32643,
          24889,
          27046,
          55433,
          64168,
          69366,
          59358,
          46011,
          38286,
          89665,
          133807,
          103309,
          112461,
          114870,
          115782,
          110319,
          51336,
          54666,
          62637,
          66525,
          61001,
          73659,
          59505,
          60504,
          69593,
          76763,
          63917,
          60591,
          66350,
          62711,
          70608,
          61222,
          51758,
          62099,
          69686,
          78896,
          68331,
          59660,
          58746,
          59599,
          110544,
          117070,
          122530,
          81669,
          74793,
          82299,
          81336,
          70291,
          77767,
          62322,
          62659,
          69659,
          57778,
          55289,
          63183,
          68727,
          74334,
          72809,
          53647,
          89747,
          91473,
          88629,
          103756,
          134856,
          123226,
          134762,
          118660,
          29813,
          22671,
          18341,
          14616,
          11427,
          16703,
          10989,
          17251,
          20968,
          13249,
          14045,
          13598,
          17944,
          86559,
          114821,
          89385,
          87489,
          106211,
          92920,
          84745,
          86010,
          105478,
          129544,
          120165,
          100047,
          92885,
          120963,
          107493,
          97374,
          116321,
          105488,
          87666,
          87047,
          78212,
          77807,
          82448,
          133156,
          161998,
          142298,
          108106,
          68922,
          54147,
          72691,
          72354,
          58779,
          73231,
          53697,
          100440,
          61940,
          100277,
          80560,
          83699,
          99136,
          118015,
          94388,
          71084,
          63193,
          64780,
          48227,
          52129,
          26257,
          19469,
          22669,
          27502,
          61623,
          75694,
          33518,
          55984,
          63264,
          19509,
          20633,
          24122,
          16745,
          23674,
          38667,
          48504,
          34889,
          40588,
          74032,
          66457,
          61773,
          45842,
          32075,
          32016,
          39436,
          84987,
          50200,
          62769,
          63688,
          63829,
          44754,
          37796,
          43987,
          45479,
          40908,
          49767,
          56708,
          91287,
          54146,
          58121,
          61232,
          63271,
          70836,
          64517,
          64358,
          58697,
          50766,
          54373,
          50188,
          36290,
          36760,
          34121,
          35159,
          37259,
          36993,
          51028,
          42299,
          39843,
          43256,
          49872,
          46505,
          39585,
          30135,
          34592,
          34681,
          33083,
          31342,
          26562,
          22119,
          23183,
          20108,
          18793,
          16431,
          17075,
          16881,
          20798,
          25612,
          25070,
          22686,
          19555,
          23887,
          25451,
          21871,
          28045,
          31426,
          35156,
          30881,
          29980,
          29092,
          33687,
          38209,
          34486,
          36539,
          31826,
          29354,
          30277,
          24114,
          22497,
          36816,
          18850,
          15411,
          23006,
          22257,
          19413,
          20392,
          19793,
          23358,
          29541,
          26580,
          24459,
          26401,
          28053,
          25138,
          19939,
          48309,
          57526,
          61022,
          61822,
          26224,
          24975,
          28476,
          24834,
          27249,
          28076,
          26542,
          24477,
          25137,
          23645,
          20195,
          24079,
          25884,
          18755,
          22528,
          18026,
          20873,
          16639,
          14482,
          17726,
          32823,
          87649,
          91367,
          50625,
          12823,
          15866,
          19175,
          17065,
          56023,
          70632,
          20629,
          17595,
          31142,
          35195,
          43031,
          38135,
          22214,
          23075,
          17173,
          18978,
          45343,
          59259,
          23662,
          18075,
          16319,
          15612,
          21229,
          16080,
          15622,
          18645,
          41238,
          50490,
          22014
         ],
         "yaxis": "y"
        },
        {
         "line": {
          "color": "rgba (31, 119, 180, 1)",
          "dash": "solid",
          "width": 1.5
         },
         "mode": "lines",
         "name": "_child0",
         "type": "scatter",
         "x": [
          0,
          1,
          2,
          3,
          4,
          5,
          6,
          7,
          8,
          9,
          10,
          11,
          12,
          13,
          14,
          15,
          16,
          17,
          18,
          19,
          20,
          21,
          22,
          23,
          24,
          25,
          26,
          27,
          28,
          29,
          30,
          31,
          32,
          33,
          34,
          35,
          36,
          37,
          38,
          39,
          40,
          41,
          42,
          43,
          44,
          45,
          46,
          47,
          48,
          49,
          50,
          51,
          52,
          53,
          54,
          55,
          56,
          57,
          58,
          59,
          60,
          61,
          62,
          63,
          64,
          65,
          66,
          67,
          68,
          69,
          70,
          71,
          72,
          73,
          74,
          75,
          76,
          77,
          78,
          79,
          80,
          81,
          82,
          83,
          84,
          85,
          86,
          87,
          88,
          89,
          90,
          91,
          92,
          93,
          94,
          95,
          96,
          97,
          98,
          99,
          100,
          101,
          102,
          103,
          104,
          105,
          106,
          107,
          108,
          109,
          110,
          111,
          112,
          113,
          114,
          115,
          116,
          117,
          118,
          119,
          120,
          121,
          122,
          123,
          124,
          125,
          126,
          127,
          128,
          129,
          130,
          131,
          132,
          133,
          134,
          135,
          136,
          137,
          138,
          139,
          140,
          141,
          142,
          143,
          144,
          145,
          146,
          147,
          148,
          149,
          150,
          151,
          152,
          153,
          154,
          155,
          156,
          157,
          158,
          159,
          160,
          161,
          162,
          163,
          164,
          165,
          166,
          167,
          168,
          169,
          170,
          171,
          172,
          173,
          174,
          175,
          176,
          177,
          178,
          179,
          180,
          181,
          182,
          183,
          184,
          185,
          186,
          187,
          188,
          189,
          190,
          191,
          192,
          193,
          194,
          195,
          196,
          197,
          198,
          199,
          200,
          201,
          202,
          203,
          204,
          205,
          206,
          207,
          208,
          209,
          210,
          211,
          212,
          213,
          214,
          215,
          216,
          217,
          218,
          219,
          220,
          221,
          222,
          223,
          224,
          225,
          226,
          227,
          228,
          229,
          230,
          231,
          232,
          233,
          234,
          235,
          236,
          237,
          238,
          239,
          240,
          241,
          242,
          243,
          244,
          245,
          246,
          247,
          248,
          249,
          250,
          251,
          252,
          253,
          254,
          255,
          256,
          257,
          258,
          259,
          260,
          261,
          262,
          263,
          264,
          265,
          266,
          267,
          268,
          269,
          270,
          271,
          272,
          273,
          274,
          275,
          276,
          277,
          278,
          279,
          280,
          281,
          282,
          283,
          284,
          285,
          286,
          287,
          288,
          289,
          290,
          291,
          292,
          293,
          294,
          295,
          296,
          297,
          298,
          299,
          300,
          301,
          302,
          303,
          304,
          305,
          306,
          307,
          308,
          309,
          310,
          311,
          312,
          313,
          314,
          315,
          316,
          317,
          318,
          319,
          320,
          321,
          322,
          323,
          324,
          325,
          326,
          327,
          328,
          329,
          330,
          331,
          332,
          333,
          334,
          335,
          336,
          337,
          338,
          339,
          340,
          341,
          342,
          343,
          344,
          345,
          346,
          347,
          348,
          349,
          350,
          351,
          352,
          353,
          354,
          355,
          356,
          357,
          358,
          359,
          360,
          361,
          362,
          363,
          364
         ],
         "xaxis": "x2",
         "y": [
          null,
          null,
          null,
          null,
          null,
          null,
          null,
          null,
          null,
          null,
          null,
          null,
          null,
          null,
          null,
          null,
          null,
          null,
          null,
          null,
          null,
          null,
          null,
          null,
          null,
          null,
          null,
          null,
          null,
          null,
          null,
          null,
          null,
          null,
          null,
          null,
          null,
          null,
          null,
          null,
          null,
          null,
          null,
          null,
          null,
          null,
          null,
          null,
          null,
          null,
          50859.665000000015,
          51416.195,
          52014.770000000004,
          52549.119999999995,
          52964.67,
          53356.99999999999,
          53776.979999999996,
          54466.674999999996,
          55417.31,
          56361.835,
          57031.605,
          57397.295000000006,
          57753.295000000006,
          58082.37500000001,
          58291.17,
          58538.965000000004,
          58773.424999999996,
          58938.935000000005,
          59136.875,
          59295.545,
          59439.77999999999,
          59613.86999999999,
          59835.6,
          60158.689999999995,
          60541.689999999995,
          60817.77499999999,
          61174.13999999999,
          61763.865,
          62393.825,
          63092.780000000006,
          63990.605,
          64906.81,
          65747.56999999999,
          66597.55500000001,
          66981.23000000001,
          66886.05500000001,
          66778.54500000001,
          66671.15500000001,
          66565.59500000002,
          66487.25500000002,
          66388.07000000002,
          66328.57500000001,
          66348.485,
          66341.26999999997,
          66238.47499999999,
          66062.85500000001,
          65801.155,
          65797.725,
          66354.42,
          67028.93500000001,
          67512.82000000002,
          67996.78,
          68483.79500000001,
          68837.57,
          69070.87,
          69316.995,
          69752.645,
          70291.195,
          70649.645,
          70842.12999999999,
          71126.09,
          71466.315,
          71686.55,
          72011.21,
          72430.785,
          72693.86000000002,
          72955.73500000003,
          73346.01500000001,
          73838.45000000001,
          74380.05000000002,
          75045.675,
          75923.44,
          76777.25000000001,
          77385.64999999998,
          77743.94499999999,
          77937.805,
          77932.23999999999,
          77540.105,
          77010.19,
          76591.38999999998,
          76089.37499999999,
          75706.79999999999,
          75388.19499999998,
          75391.00499999998,
          75765.18000000001,
          75999.96,
          76268.32500000001,
          76716.45000000001,
          77105.16500000001,
          77266.705,
          77338.045,
          77327.42499999999,
          77160.68,
          76959.06,
          76728.45,
          76322.37500000001,
          75887.76000000001,
          75472.02,
          75258.49500000002,
          75380.18000000001,
          75356.95499999999,
          75145.54,
          74998.87,
          74676.59999999999,
          74237.35499999998,
          73869.09999999999,
          73481.71,
          72833.09,
          72006.72500000002,
          71244.58,
          70640.55,
          70235.625,
          70023.265,
          69907.535,
          69790.55000000002,
          69588.33500000002,
          69277.475,
          68973.02500000001,
          68668.69499999998,
          68653.625,
          68764.22499999999,
          68736.71,
          68709.44499999999,
          68631.725,
          68438.925,
          68219.39499999997,
          67911.34,
          67452.56999999999,
          66983.99499999998,
          66475.445,
          65814.76000000001,
          65264.325,
          64701.55000000001,
          63995.775,
          63850.17500000001,
          64210.27000000001,
          64675.744999999995,
          65187.72499999999,
          65701.885,
          66176.51,
          66585.365,
          66969.86000000002,
          67301.57,
          67562.875,
          67791.655,
          68007.845,
          68196.535,
          68036.10999999999,
          67400.47,
          66819.54499999998,
          66401.80999999998,
          65844.01999999999,
          65263.85999999999,
          64841.174999999996,
          64469.284999999996,
          63942.295000000006,
          63115.78500000001,
          62190.875,
          61436.17999999999,
          60810.33999999999,
          60063.22499999999,
          59210.465,
          58429.535,
          57587.57000000001,
          56694.98,
          55923.715000000004,
          55226.270000000004,
          54567.505,
          53957.19,
          53344.31,
          52498.340000000004,
          51275.98,
          49993.280000000006,
          48952.465000000004,
          48284.535,
          47915.880000000005,
          47518.30000000001,
          47042.655000000006,
          46684.345,
          46357.204999999994,
          46052.74999999999,
          45586.369999999995,
          45069.83,
          44572.64,
          44027.935000000005,
          43570.115,
          43011.065,
          42267.135,
          41511.02,
          40981.81500000001,
          40582.384999999995,
          40175.575,
          39907.104999999996,
          39683.655,
          39463.030000000006,
          39426.485,
          39442.11,
          39399.605,
          39153.005,
          38667.34499999999,
          38337.03999999999,
          38154.024999999994,
          37838.39,
          37679.72000000001,
          37733.310000000005,
          37781.80500000001,
          37843.42500000001,
          37866.715,
          37896.25,
          37989.56999999999,
          38165.345,
          38402.18,
          38269.31,
          37822.86,
          37448.965,
          37177.44,
          37048.27,
          37004.439999999995,
          36920.27,
          36553.24999999999,
          36125.38499999999,
          35804.45,
          35391.36499999999,
          34975.14999999999,
          34682.049999999996,
          34492.494999999995,
          34289.994999999995,
          34045.435,
          33807.994999999995,
          33542.18000000001,
          33165.41,
          32586.475,
          32112.054999999997,
          32153.079999999994,
          32451.394999999997,
          32538.839999999997,
          32185.545000000002,
          31652.225000000002,
          31183.054999999997,
          30748.98,
          30567.105,
          30674.684999999998,
          30608.185,
          30366.915,
          30245.350000000002,
          30222.63,
          30267.36,
          30311.1,
          30241.585,
          30027.925000000003,
          29762.530000000002,
          29532.574999999997,
          29438.684999999998,
          29496.054999999997,
          29428.774999999998,
          29207.01,
          29030.38,
          28866.4,
          28704.239999999998,
          28551.965000000004,
          28388.350000000002,
          28270.165,
          28326.175000000003,
          28558.305000000004,
          28704.37000000001,
          null,
          null,
          null,
          null,
          null,
          null,
          null,
          null,
          null,
          null,
          null,
          null,
          null,
          null,
          null,
          null,
          null,
          null,
          null,
          null,
          null,
          null,
          null,
          null,
          null,
          null,
          null,
          null,
          null,
          null,
          null,
          null,
          null,
          null,
          null,
          null,
          null,
          null,
          null,
          null,
          null,
          null,
          null,
          null,
          null,
          null,
          null,
          null,
          null,
          null
         ],
         "yaxis": "y2"
        },
        {
         "line": {
          "color": "rgba (31, 119, 180, 1)",
          "dash": "solid",
          "width": 1.5
         },
         "mode": "lines",
         "name": "_child0",
         "type": "scatter",
         "x": [
          0,
          1,
          2,
          3,
          4,
          5,
          6,
          7,
          8,
          9,
          10,
          11,
          12,
          13,
          14,
          15,
          16,
          17,
          18,
          19,
          20,
          21,
          22,
          23,
          24,
          25,
          26,
          27,
          28,
          29,
          30,
          31,
          32,
          33,
          34,
          35,
          36,
          37,
          38,
          39,
          40,
          41,
          42,
          43,
          44,
          45,
          46,
          47,
          48,
          49,
          50,
          51,
          52,
          53,
          54,
          55,
          56,
          57,
          58,
          59,
          60,
          61,
          62,
          63,
          64,
          65,
          66,
          67,
          68,
          69,
          70,
          71,
          72,
          73,
          74,
          75,
          76,
          77,
          78,
          79,
          80,
          81,
          82,
          83,
          84,
          85,
          86,
          87,
          88,
          89,
          90,
          91,
          92,
          93,
          94,
          95,
          96,
          97,
          98,
          99,
          100,
          101,
          102,
          103,
          104,
          105,
          106,
          107,
          108,
          109,
          110,
          111,
          112,
          113,
          114,
          115,
          116,
          117,
          118,
          119,
          120,
          121,
          122,
          123,
          124,
          125,
          126,
          127,
          128,
          129,
          130,
          131,
          132,
          133,
          134,
          135,
          136,
          137,
          138,
          139,
          140,
          141,
          142,
          143,
          144,
          145,
          146,
          147,
          148,
          149,
          150,
          151,
          152,
          153,
          154,
          155,
          156,
          157,
          158,
          159,
          160,
          161,
          162,
          163,
          164,
          165,
          166,
          167,
          168,
          169,
          170,
          171,
          172,
          173,
          174,
          175,
          176,
          177,
          178,
          179,
          180,
          181,
          182,
          183,
          184,
          185,
          186,
          187,
          188,
          189,
          190,
          191,
          192,
          193,
          194,
          195,
          196,
          197,
          198,
          199,
          200,
          201,
          202,
          203,
          204,
          205,
          206,
          207,
          208,
          209,
          210,
          211,
          212,
          213,
          214,
          215,
          216,
          217,
          218,
          219,
          220,
          221,
          222,
          223,
          224,
          225,
          226,
          227,
          228,
          229,
          230,
          231,
          232,
          233,
          234,
          235,
          236,
          237,
          238,
          239,
          240,
          241,
          242,
          243,
          244,
          245,
          246,
          247,
          248,
          249,
          250,
          251,
          252,
          253,
          254,
          255,
          256,
          257,
          258,
          259,
          260,
          261,
          262,
          263,
          264,
          265,
          266,
          267,
          268,
          269,
          270,
          271,
          272,
          273,
          274,
          275,
          276,
          277,
          278,
          279,
          280,
          281,
          282,
          283,
          284,
          285,
          286,
          287,
          288,
          289,
          290,
          291,
          292,
          293,
          294,
          295,
          296,
          297,
          298,
          299,
          300,
          301,
          302,
          303,
          304,
          305,
          306,
          307,
          308,
          309,
          310,
          311,
          312,
          313,
          314,
          315,
          316,
          317,
          318,
          319,
          320,
          321,
          322,
          323,
          324,
          325,
          326,
          327,
          328,
          329,
          330,
          331,
          332,
          333,
          334,
          335,
          336,
          337,
          338,
          339,
          340,
          341,
          342,
          343,
          344,
          345,
          346,
          347,
          348,
          349,
          350,
          351,
          352,
          353,
          354,
          355,
          356,
          357,
          358,
          359,
          360,
          361,
          362,
          363,
          364
         ],
         "xaxis": "x3",
         "y": [
          0.7232036050030856,
          0.9411997448812576,
          0.9899425706295483,
          0.6948391182285862,
          0.681145341513215,
          0.7152935225430973,
          0.6499672706551416,
          0.86548121470048,
          1.2993147630108932,
          1.4867455087988364,
          1.2695986224155218,
          1.2827641557056118,
          1.0935646479309022,
          1.0337210838270254,
          0.9990355163633291,
          0.9277423738428269,
          0.7045969826897287,
          0.7075329090945641,
          0.8220611873272127,
          1.1636468104088347,
          0.8312357446022549,
          1.0096515240442958,
          1.0650089418742046,
          1.1118421220642682,
          0.9149235449900223,
          0.7252647130436481,
          1.0199400678738568,
          1.0538967346373147,
          0.9953182281796522,
          1.192247993456625,
          1.4748079290035814,
          1.7824037010829439,
          1.4675643232278455,
          1.4130317194131414,
          0.8760571830990178,
          0.8594725124746535,
          0.9267080507485836,
          0.8430056974279103,
          0.833997583149631,
          0.8093785839690413,
          0.683970666354121,
          0.7740426318231532,
          0.7509120531897043,
          0.5335351545772827,
          0.5472408752298011,
          0.5124027047857702,
          0.5537756684931682,
          1.0274438511269814,
          1.2130150973685632,
          1.2301684003289854,
          1.0400928091170192,
          1.1257459475011116,
          1.1023435495265097,
          1.1513380341945738,
          1.2056828474421792,
          1.263184481464387,
          1.2886137134841318,
          1.2472689475485192,
          1.2304316136147457,
          1.1406195151012763,
          1.3069649311108062,
          1.1675813284388914,
          1.118368674808336,
          1.112352074461218,
          1.0791014974448405,
          0.956820666173485,
          0.860326601872097,
          0.7035074319041255,
          0.6583199934125586,
          0.7286467886058389,
          1.1711822741011382,
          1.3529804588010221,
          1.2671919459235672,
          1.0215864421747727,
          0.8038550549791202,
          0.7073971142004192,
          1.0389273545242328,
          1.3298936011621891,
          1.1334830887937213,
          1.2871319997137225,
          1.1594405416273912,
          1.3887998621253586,
          1.1591393940951065,
          1.1081703173283202,
          1.0655478542995267,
          1.0801348100463433,
          1.1994309567093733,
          1.2212148923048303,
          1.1405891341623695,
          0.9668663611498334,
          0.8671996116146697,
          0.9001338534842886,
          1.0069877054180192,
          0.7711128651013296,
          0.5929895318245851,
          0.6716299906161884,
          0.6614668610598369,
          0.6932180868324371,
          0.8220044020825639,
          0.8393212353073813,
          0.7232036050030856,
          0.9411997448812576,
          0.9899425706295483,
          0.6948391182285862,
          0.681145341513215,
          0.7152935225430973,
          0.6499672706551416,
          0.86548121470048,
          1.2993147630108932,
          1.4867455087988364,
          1.2695986224155218,
          1.2827641557056118,
          1.0935646479309022,
          1.0337210838270254,
          0.9990355163633291,
          0.9277423738428269,
          0.7045969826897287,
          0.7075329090945641,
          0.8220611873272127,
          1.1636468104088347,
          0.8312357446022549,
          1.0096515240442958,
          1.0650089418742046,
          1.1118421220642682,
          0.9149235449900223,
          0.7252647130436481,
          1.0199400678738568,
          1.0538967346373147,
          0.9953182281796522,
          1.192247993456625,
          1.4748079290035814,
          1.7824037010829439,
          1.4675643232278455,
          1.4130317194131414,
          0.8760571830990178,
          0.8594725124746535,
          0.9267080507485836,
          0.8430056974279103,
          0.833997583149631,
          0.8093785839690413,
          0.683970666354121,
          0.7740426318231532,
          0.7509120531897043,
          0.5335351545772827,
          0.5472408752298011,
          0.5124027047857702,
          0.5537756684931682,
          1.0274438511269814,
          1.2130150973685632,
          1.2301684003289854,
          1.0400928091170192,
          1.1257459475011116,
          1.1023435495265097,
          1.1513380341945738,
          1.2056828474421792,
          1.263184481464387,
          1.2886137134841318,
          1.2472689475485192,
          1.2304316136147457,
          1.1406195151012763,
          1.3069649311108062,
          1.1675813284388914,
          1.118368674808336,
          1.112352074461218,
          1.0791014974448405,
          0.956820666173485,
          0.860326601872097,
          0.7035074319041255,
          0.6583199934125586,
          0.7286467886058389,
          1.1711822741011382,
          1.3529804588010221,
          1.2671919459235672,
          1.0215864421747727,
          0.8038550549791202,
          0.7073971142004192,
          1.0389273545242328,
          1.3298936011621891,
          1.1334830887937213,
          1.2871319997137225,
          1.1594405416273912,
          1.3887998621253586,
          1.1591393940951065,
          1.1081703173283202,
          1.0655478542995267,
          1.0801348100463433,
          1.1994309567093733,
          1.2212148923048303,
          1.1405891341623695,
          0.9668663611498334,
          0.8671996116146697,
          0.9001338534842886,
          1.0069877054180192,
          0.7711128651013296,
          0.5929895318245851,
          0.6716299906161884,
          0.6614668610598369,
          0.6932180868324371,
          0.8220044020825639,
          0.8393212353073813,
          0.7232036050030856,
          0.9411997448812576,
          0.9899425706295483,
          0.6948391182285862,
          0.681145341513215,
          0.7152935225430973,
          0.6499672706551416,
          0.86548121470048,
          1.2993147630108932,
          1.4867455087988364,
          1.2695986224155218,
          1.2827641557056118,
          1.0935646479309022,
          1.0337210838270254,
          0.9990355163633291,
          0.9277423738428269,
          0.7045969826897287,
          0.7075329090945641,
          0.8220611873272127,
          1.1636468104088347,
          0.8312357446022549,
          1.0096515240442958,
          1.0650089418742046,
          1.1118421220642682,
          0.9149235449900223,
          0.7252647130436481,
          1.0199400678738568,
          1.0538967346373147,
          0.9953182281796522,
          1.192247993456625,
          1.4748079290035814,
          1.7824037010829439,
          1.4675643232278455,
          1.4130317194131414,
          0.8760571830990178,
          0.8594725124746535,
          0.9267080507485836,
          0.8430056974279103,
          0.833997583149631,
          0.8093785839690413,
          0.683970666354121,
          0.7740426318231532,
          0.7509120531897043,
          0.5335351545772827,
          0.5472408752298011,
          0.5124027047857702,
          0.5537756684931682,
          1.0274438511269814,
          1.2130150973685632,
          1.2301684003289854,
          1.0400928091170192,
          1.1257459475011116,
          1.1023435495265097,
          1.1513380341945738,
          1.2056828474421792,
          1.263184481464387,
          1.2886137134841318,
          1.2472689475485192,
          1.2304316136147457,
          1.1406195151012763,
          1.3069649311108062,
          1.1675813284388914,
          1.118368674808336,
          1.112352074461218,
          1.0791014974448405,
          0.956820666173485,
          0.860326601872097,
          0.7035074319041255,
          0.6583199934125586,
          0.7286467886058389,
          1.1711822741011382,
          1.3529804588010221,
          1.2671919459235672,
          1.0215864421747727,
          0.8038550549791202,
          0.7073971142004192,
          1.0389273545242328,
          1.3298936011621891,
          1.1334830887937213,
          1.2871319997137225,
          1.1594405416273912,
          1.3887998621253586,
          1.1591393940951065,
          1.1081703173283202,
          1.0655478542995267,
          1.0801348100463433,
          1.1994309567093733,
          1.2212148923048303,
          1.1405891341623695,
          0.9668663611498334,
          0.8671996116146697,
          0.9001338534842886,
          1.0069877054180192,
          0.7711128651013296,
          0.5929895318245851,
          0.6716299906161884,
          0.6614668610598369,
          0.6932180868324371,
          0.8220044020825639,
          0.8393212353073813,
          0.7232036050030856,
          0.9411997448812576,
          0.9899425706295483,
          0.6948391182285862,
          0.681145341513215,
          0.7152935225430973,
          0.6499672706551416,
          0.86548121470048,
          1.2993147630108932,
          1.4867455087988364,
          1.2695986224155218,
          1.2827641557056118,
          1.0935646479309022,
          1.0337210838270254,
          0.9990355163633291,
          0.9277423738428269,
          0.7045969826897287,
          0.7075329090945641,
          0.8220611873272127,
          1.1636468104088347,
          0.8312357446022549,
          1.0096515240442958,
          1.0650089418742046,
          1.1118421220642682,
          0.9149235449900223,
          0.7252647130436481,
          1.0199400678738568,
          1.0538967346373147,
          0.9953182281796522,
          1.192247993456625,
          1.4748079290035814,
          1.7824037010829439,
          1.4675643232278455,
          1.4130317194131414,
          0.8760571830990178,
          0.8594725124746535,
          0.9267080507485836,
          0.8430056974279103,
          0.833997583149631,
          0.8093785839690413,
          0.683970666354121,
          0.7740426318231532,
          0.7509120531897043,
          0.5335351545772827,
          0.5472408752298011,
          0.5124027047857702,
          0.5537756684931682,
          1.0274438511269814,
          1.2130150973685632,
          1.2301684003289854,
          1.0400928091170192,
          1.1257459475011116,
          1.1023435495265097,
          1.1513380341945738,
          1.2056828474421792,
          1.263184481464387,
          1.2886137134841318,
          1.2472689475485192,
          1.2304316136147457,
          1.1406195151012763,
          1.3069649311108062,
          1.1675813284388914,
          1.118368674808336,
          1.112352074461218,
          1.0791014974448405
         ],
         "yaxis": "y3"
        },
        {
         "marker": {
          "color": "#1F77B4",
          "line": {
           "color": "#1F77B4",
           "width": 1
          },
          "opacity": 1,
          "size": 6,
          "symbol": "circle"
         },
         "mode": "markers",
         "name": "_child0",
         "type": "scatter",
         "x": [
          0,
          1,
          2,
          3,
          4,
          5,
          6,
          7,
          8,
          9,
          10,
          11,
          12,
          13,
          14,
          15,
          16,
          17,
          18,
          19,
          20,
          21,
          22,
          23,
          24,
          25,
          26,
          27,
          28,
          29,
          30,
          31,
          32,
          33,
          34,
          35,
          36,
          37,
          38,
          39,
          40,
          41,
          42,
          43,
          44,
          45,
          46,
          47,
          48,
          49,
          50,
          51,
          52,
          53,
          54,
          55,
          56,
          57,
          58,
          59,
          60,
          61,
          62,
          63,
          64,
          65,
          66,
          67,
          68,
          69,
          70,
          71,
          72,
          73,
          74,
          75,
          76,
          77,
          78,
          79,
          80,
          81,
          82,
          83,
          84,
          85,
          86,
          87,
          88,
          89,
          90,
          91,
          92,
          93,
          94,
          95,
          96,
          97,
          98,
          99,
          100,
          101,
          102,
          103,
          104,
          105,
          106,
          107,
          108,
          109,
          110,
          111,
          112,
          113,
          114,
          115,
          116,
          117,
          118,
          119,
          120,
          121,
          122,
          123,
          124,
          125,
          126,
          127,
          128,
          129,
          130,
          131,
          132,
          133,
          134,
          135,
          136,
          137,
          138,
          139,
          140,
          141,
          142,
          143,
          144,
          145,
          146,
          147,
          148,
          149,
          150,
          151,
          152,
          153,
          154,
          155,
          156,
          157,
          158,
          159,
          160,
          161,
          162,
          163,
          164,
          165,
          166,
          167,
          168,
          169,
          170,
          171,
          172,
          173,
          174,
          175,
          176,
          177,
          178,
          179,
          180,
          181,
          182,
          183,
          184,
          185,
          186,
          187,
          188,
          189,
          190,
          191,
          192,
          193,
          194,
          195,
          196,
          197,
          198,
          199,
          200,
          201,
          202,
          203,
          204,
          205,
          206,
          207,
          208,
          209,
          210,
          211,
          212,
          213,
          214,
          215,
          216,
          217,
          218,
          219,
          220,
          221,
          222,
          223,
          224,
          225,
          226,
          227,
          228,
          229,
          230,
          231,
          232,
          233,
          234,
          235,
          236,
          237,
          238,
          239,
          240,
          241,
          242,
          243,
          244,
          245,
          246,
          247,
          248,
          249,
          250,
          251,
          252,
          253,
          254,
          255,
          256,
          257,
          258,
          259,
          260,
          261,
          262,
          263,
          264,
          265,
          266,
          267,
          268,
          269,
          270,
          271,
          272,
          273,
          274,
          275,
          276,
          277,
          278,
          279,
          280,
          281,
          282,
          283,
          284,
          285,
          286,
          287,
          288,
          289,
          290,
          291,
          292,
          293,
          294,
          295,
          296,
          297,
          298,
          299,
          300,
          301,
          302,
          303,
          304,
          305,
          306,
          307,
          308,
          309,
          310,
          311,
          312,
          313,
          314,
          315,
          316,
          317,
          318,
          319,
          320,
          321,
          322,
          323,
          324,
          325,
          326,
          327,
          328,
          329,
          330,
          331,
          332,
          333,
          334,
          335,
          336,
          337,
          338,
          339,
          340,
          341,
          342,
          343,
          344,
          345,
          346,
          347,
          348,
          349,
          350,
          351,
          352,
          353,
          354,
          355,
          356,
          357,
          358,
          359,
          360,
          361,
          362,
          363,
          364
         ],
         "xaxis": "x4",
         "y": [
          null,
          null,
          null,
          null,
          null,
          null,
          null,
          null,
          null,
          null,
          null,
          null,
          null,
          null,
          null,
          null,
          null,
          null,
          null,
          null,
          null,
          null,
          null,
          null,
          null,
          null,
          null,
          null,
          null,
          null,
          null,
          null,
          null,
          null,
          null,
          null,
          null,
          null,
          null,
          null,
          null,
          null,
          null,
          null,
          null,
          null,
          null,
          null,
          null,
          null,
          0.877959891771142,
          0.8718664204748326,
          0.8940470420945281,
          0.919757751376446,
          1.0718682570828861,
          1.0951823576421504,
          1.0689668255235107,
          0.9998146392983062,
          1.1820398547526128,
          1.1485141687038176,
          1.1164863084225953,
          1.1518143211370864,
          1.2947929784492975,
          1.0081251434845715,
          1.1567342412281236,
          1.2100774361546232,
          1.0790212807979658,
          0.7872616411621736,
          0.6393107859667011,
          0.6259849953103638,
          0.7962816339652776,
          0.7955723173664657,
          0.9148388459324653,
          0.9658412912405419,
          0.9454300133908444,
          0.8899101980264497,
          1.4108144492008583,
          1.6290239610920485,
          1.4607688601806508,
          1.3848386936707235,
          1.548252973470589,
          1.2844320010877828,
          1.4475545690406568,
          0.6955962432673618,
          0.7659337731521212,
          0.8669966209506031,
          0.8305631859239739,
          0.7492157248717123,
          0.9701676079483814,
          0.9256538373210862,
          1.0509328549654138,
          1.1656221611557707,
          1.148938441403175,
          1.249437834484949,
          1.5425909114247496,
          1.4953866808027398,
          1.4407947525307492,
          1.5480078077911996,
          1.1224409749264792,
          0.9199981541824677,
          1.2718555092412722,
          1.0888683858386834,
          1.1637432257561093,
          1.4285912471498128,
          1.2680854864658342,
          1.1848251972826742,
          1.3145793446789864,
          1.8170906877481352,
          1.2753261400544562,
          1.1633601617521994,
          0.9044027211980331,
          0.8158545656203713,
          1.049814135321149,
          1.092645616785454,
          0.9713944142554171,
          1.1531086295002138,
          1.2123867064584355,
          1.207425355962888,
          1.1475999485713404,
          0.6675516215004973,
          0.8863165449908778,
          0.8242384316579733,
          0.8405074751782757,
          0.8639407225285468,
          1.0236080383665982,
          0.9490754128159998,
          1.1290888735096711,
          1.11935663788122,
          1.1562871426555428,
          1.1362310914895324,
          1.2017407643469797,
          0.9131905029828573,
          1.2180551632130834,
          1.113865878892238,
          0.44916257800058523,
          0.34707658971142746,
          0.2594991062172052,
          0.22600056588840486,
          0.17769858289603072,
          0.267085542416121,
          0.20774353026119455,
          0.28821451297764933,
          0.3618860866332626,
          0.3226712751168102,
          0.33449281209605436,
          0.3477056493909109,
          0.426986020742292,
          1.116267187939819,
          1.2577652437502276,
          0.96392425248441,
          1.1162411212248708,
          1.255526535453839,
          1.1239254774451253,
          0.9856590092447255,
          0.9609335910535145,
          1.1304003857942857,
          1.3680919888256367,
          1.3227846452981367,
          1.1292069192327598,
          1.1430177038949771,
          1.310190791267652,
          1.310797459564069,
          1.2434137328862476,
          1.4958631693013553,
          1.400696818816234,
          1.3166313708764517,
          1.4604893891369777,
          1.6118529867388927,
          1.7211662899716753,
          1.648160860120243,
          1.6533838725525323,
          1.7419247403627849,
          1.6343307483858847,
          1.541877117151068,
          1.252786154578561,
          1.1220268567714078,
          1.030275001650205,
          0.8065794406403145,
          0.7741695802994687,
          0.8558755576359885,
          0.7036849112003492,
          1.1081312148898856,
          0.8258874188608136,
          1.413980813657263,
          1.184089164001304,
          1.206806972279554,
          1.2779524594339007,
          1.4824474050759793,
          1.259533503454823,
          1.110967994816035,
          1.0943874748198341,
          1.0746188568399448,
          0.7116081009610082,
          1.0005834683279886,
          0.6531633998227537,
          0.42624034150367207,
          0.5025299637972724,
          0.58311594572835,
          1.1122585912658716,
          1.3496766381984646,
          0.6979713505902153,
          0.9033702542015826,
          0.9792056047357461,
          0.43301194017373945,
          0.46986136255183786,
          0.5274008204774906,
          0.40818371653678753,
          0.43983251330896883,
          0.4843975091461517,
          0.5364922940895054,
          0.4575235275214361,
          0.5343826681101456,
          1.1586241855757897,
          1.1163711510790122,
          1.0906192499967422,
          0.8835683483618719,
          0.8242902714036505,
          0.8292516218991978,
          0.8890770292907451,
          1.3691253563615886,
          1.150360432871208,
          1.2124385462041123,
          1.19616950268381,
          1.1727362553335392,
          1.0130689394954877,
          1.0876015650460862,
          0.9075881043524148,
          0.9173203399808657,
          0.8803898352065427,
          0.9004458863725535,
          0.8349362135151059,
          1.1234864748792288,
          0.8186218146490027,
          0.9228110989698478,
          1.587514399861501,
          1.6896003881506585,
          1.7771778716448805,
          1.8106764119736811,
          1.8589783949660552,
          1.769591435445965,
          1.8289334476008912,
          1.7484624648844362,
          1.6747908912288234,
          1.7140057027452755,
          1.702184165766032,
          1.688971328471175,
          1.6096909571197937,
          0.920409789922267,
          0.7789117341118582,
          1.072752725377676,
          1.0608144537971163,
          0.9276225108644574,
          1.0370429472534755,
          1.149598706171957,
          1.0222136186567279,
          0.8294327233566927,
          0.6179566524439816,
          0.7324161821966866,
          0.7437686928077559,
          0.763483594194334,
          0.6283383671028813,
          0.592403686091974,
          0.5168087554575834,
          0.5510271540072021,
          0.49758440674877125,
          0.5283066597620534,
          0.5155047968581857,
          0.6559008388920622,
          0.6945383908547526,
          0.7808696113625216,
          0.6053499602753186,
          0.5175184090638786,
          0.5058458724747786,
          0.547297058401519,
          0.8567992988237232,
          1.0430784119952714,
          0.6139260159420656,
          0.6194120650607663,
          0.8200770263130093,
          0.8143012154864168,
          0.8030775821221907,
          0.6624522508154606,
          0.7815734788916592,
          0.945438409868504,
          1.1049925296397038,
          0.9812118735629725,
          0.9464998214352541,
          0.8233523368454367,
          0.8253143553899247,
          1.0183936346560076,
          0.909695137007881,
          0.8147744487974133,
          1.194468924428946,
          0.8049941639801919,
          0.8592611555456257,
          1.1333884444867164,
          1.1116907504651077,
          0.9238917132735786,
          0.8203159006007781,
          0.7853406744121963,
          1.0851886069616412,
          1.062776826752863,
          0.9120666363012735,
          1.1934122794695765,
          1.317068617775457,
          1.3427894490329644,
          1.3322524055773548,
          0.7980922657360251,
          1.295291817592521,
          1.355163010951424,
          1.6930892180736592,
          1.704778233062612,
          0.8465771458961896,
          0.8459986989286624,
          0.9930018025409697,
          null,
          null,
          null,
          null,
          null,
          null,
          null,
          null,
          null,
          null,
          null,
          null,
          null,
          null,
          null,
          null,
          null,
          null,
          null,
          null,
          null,
          null,
          null,
          null,
          null,
          null,
          null,
          null,
          null,
          null,
          null,
          null,
          null,
          null,
          null,
          null,
          null,
          null,
          null,
          null,
          null,
          null,
          null,
          null,
          null,
          null,
          null,
          null,
          null,
          null
         ],
         "yaxis": "y4"
        },
        {
         "line": {
          "color": "rgba (0, 0, 0, 1)",
          "dash": "solid",
          "width": 1.5
         },
         "mode": "lines",
         "name": "_child1",
         "type": "scatter",
         "x": [
          0,
          364
         ],
         "xaxis": "x4",
         "y": [
          0,
          0
         ],
         "yaxis": "y4"
        }
       ],
       "layout": {
        "annotations": [
         {
          "font": {
           "color": "#000000",
           "size": 12
          },
          "showarrow": false,
          "text": "Instagram reach",
          "x": 0.49982590529247917,
          "xanchor": "center",
          "xref": "paper",
          "y": 1.0476595744680852,
          "yanchor": "bottom",
          "yref": "paper"
         }
        ],
        "autosize": false,
        "height": 288,
        "hovermode": "closest",
        "margin": {
         "b": 27,
         "l": 63,
         "pad": 0,
         "r": 10,
         "t": 26
        },
        "showlegend": false,
        "template": {
         "data": {
          "bar": [
           {
            "error_x": {
             "color": "#2a3f5f"
            },
            "error_y": {
             "color": "#2a3f5f"
            },
            "marker": {
             "line": {
              "color": "white",
              "width": 0.5
             },
             "pattern": {
              "fillmode": "overlay",
              "size": 10,
              "solidity": 0.2
             }
            },
            "type": "bar"
           }
          ],
          "barpolar": [
           {
            "marker": {
             "line": {
              "color": "white",
              "width": 0.5
             },
             "pattern": {
              "fillmode": "overlay",
              "size": 10,
              "solidity": 0.2
             }
            },
            "type": "barpolar"
           }
          ],
          "carpet": [
           {
            "aaxis": {
             "endlinecolor": "#2a3f5f",
             "gridcolor": "#C8D4E3",
             "linecolor": "#C8D4E3",
             "minorgridcolor": "#C8D4E3",
             "startlinecolor": "#2a3f5f"
            },
            "baxis": {
             "endlinecolor": "#2a3f5f",
             "gridcolor": "#C8D4E3",
             "linecolor": "#C8D4E3",
             "minorgridcolor": "#C8D4E3",
             "startlinecolor": "#2a3f5f"
            },
            "type": "carpet"
           }
          ],
          "choropleth": [
           {
            "colorbar": {
             "outlinewidth": 0,
             "ticks": ""
            },
            "type": "choropleth"
           }
          ],
          "contour": [
           {
            "colorbar": {
             "outlinewidth": 0,
             "ticks": ""
            },
            "colorscale": [
             [
              0,
              "#0d0887"
             ],
             [
              0.1111111111111111,
              "#46039f"
             ],
             [
              0.2222222222222222,
              "#7201a8"
             ],
             [
              0.3333333333333333,
              "#9c179e"
             ],
             [
              0.4444444444444444,
              "#bd3786"
             ],
             [
              0.5555555555555556,
              "#d8576b"
             ],
             [
              0.6666666666666666,
              "#ed7953"
             ],
             [
              0.7777777777777778,
              "#fb9f3a"
             ],
             [
              0.8888888888888888,
              "#fdca26"
             ],
             [
              1,
              "#f0f921"
             ]
            ],
            "type": "contour"
           }
          ],
          "contourcarpet": [
           {
            "colorbar": {
             "outlinewidth": 0,
             "ticks": ""
            },
            "type": "contourcarpet"
           }
          ],
          "heatmap": [
           {
            "colorbar": {
             "outlinewidth": 0,
             "ticks": ""
            },
            "colorscale": [
             [
              0,
              "#0d0887"
             ],
             [
              0.1111111111111111,
              "#46039f"
             ],
             [
              0.2222222222222222,
              "#7201a8"
             ],
             [
              0.3333333333333333,
              "#9c179e"
             ],
             [
              0.4444444444444444,
              "#bd3786"
             ],
             [
              0.5555555555555556,
              "#d8576b"
             ],
             [
              0.6666666666666666,
              "#ed7953"
             ],
             [
              0.7777777777777778,
              "#fb9f3a"
             ],
             [
              0.8888888888888888,
              "#fdca26"
             ],
             [
              1,
              "#f0f921"
             ]
            ],
            "type": "heatmap"
           }
          ],
          "heatmapgl": [
           {
            "colorbar": {
             "outlinewidth": 0,
             "ticks": ""
            },
            "colorscale": [
             [
              0,
              "#0d0887"
             ],
             [
              0.1111111111111111,
              "#46039f"
             ],
             [
              0.2222222222222222,
              "#7201a8"
             ],
             [
              0.3333333333333333,
              "#9c179e"
             ],
             [
              0.4444444444444444,
              "#bd3786"
             ],
             [
              0.5555555555555556,
              "#d8576b"
             ],
             [
              0.6666666666666666,
              "#ed7953"
             ],
             [
              0.7777777777777778,
              "#fb9f3a"
             ],
             [
              0.8888888888888888,
              "#fdca26"
             ],
             [
              1,
              "#f0f921"
             ]
            ],
            "type": "heatmapgl"
           }
          ],
          "histogram": [
           {
            "marker": {
             "pattern": {
              "fillmode": "overlay",
              "size": 10,
              "solidity": 0.2
             }
            },
            "type": "histogram"
           }
          ],
          "histogram2d": [
           {
            "colorbar": {
             "outlinewidth": 0,
             "ticks": ""
            },
            "colorscale": [
             [
              0,
              "#0d0887"
             ],
             [
              0.1111111111111111,
              "#46039f"
             ],
             [
              0.2222222222222222,
              "#7201a8"
             ],
             [
              0.3333333333333333,
              "#9c179e"
             ],
             [
              0.4444444444444444,
              "#bd3786"
             ],
             [
              0.5555555555555556,
              "#d8576b"
             ],
             [
              0.6666666666666666,
              "#ed7953"
             ],
             [
              0.7777777777777778,
              "#fb9f3a"
             ],
             [
              0.8888888888888888,
              "#fdca26"
             ],
             [
              1,
              "#f0f921"
             ]
            ],
            "type": "histogram2d"
           }
          ],
          "histogram2dcontour": [
           {
            "colorbar": {
             "outlinewidth": 0,
             "ticks": ""
            },
            "colorscale": [
             [
              0,
              "#0d0887"
             ],
             [
              0.1111111111111111,
              "#46039f"
             ],
             [
              0.2222222222222222,
              "#7201a8"
             ],
             [
              0.3333333333333333,
              "#9c179e"
             ],
             [
              0.4444444444444444,
              "#bd3786"
             ],
             [
              0.5555555555555556,
              "#d8576b"
             ],
             [
              0.6666666666666666,
              "#ed7953"
             ],
             [
              0.7777777777777778,
              "#fb9f3a"
             ],
             [
              0.8888888888888888,
              "#fdca26"
             ],
             [
              1,
              "#f0f921"
             ]
            ],
            "type": "histogram2dcontour"
           }
          ],
          "mesh3d": [
           {
            "colorbar": {
             "outlinewidth": 0,
             "ticks": ""
            },
            "type": "mesh3d"
           }
          ],
          "parcoords": [
           {
            "line": {
             "colorbar": {
              "outlinewidth": 0,
              "ticks": ""
             }
            },
            "type": "parcoords"
           }
          ],
          "pie": [
           {
            "automargin": true,
            "type": "pie"
           }
          ],
          "scatter": [
           {
            "marker": {
             "colorbar": {
              "outlinewidth": 0,
              "ticks": ""
             }
            },
            "type": "scatter"
           }
          ],
          "scatter3d": [
           {
            "line": {
             "colorbar": {
              "outlinewidth": 0,
              "ticks": ""
             }
            },
            "marker": {
             "colorbar": {
              "outlinewidth": 0,
              "ticks": ""
             }
            },
            "type": "scatter3d"
           }
          ],
          "scattercarpet": [
           {
            "marker": {
             "colorbar": {
              "outlinewidth": 0,
              "ticks": ""
             }
            },
            "type": "scattercarpet"
           }
          ],
          "scattergeo": [
           {
            "marker": {
             "colorbar": {
              "outlinewidth": 0,
              "ticks": ""
             }
            },
            "type": "scattergeo"
           }
          ],
          "scattergl": [
           {
            "marker": {
             "colorbar": {
              "outlinewidth": 0,
              "ticks": ""
             }
            },
            "type": "scattergl"
           }
          ],
          "scattermapbox": [
           {
            "marker": {
             "colorbar": {
              "outlinewidth": 0,
              "ticks": ""
             }
            },
            "type": "scattermapbox"
           }
          ],
          "scatterpolar": [
           {
            "marker": {
             "colorbar": {
              "outlinewidth": 0,
              "ticks": ""
             }
            },
            "type": "scatterpolar"
           }
          ],
          "scatterpolargl": [
           {
            "marker": {
             "colorbar": {
              "outlinewidth": 0,
              "ticks": ""
             }
            },
            "type": "scatterpolargl"
           }
          ],
          "scatterternary": [
           {
            "marker": {
             "colorbar": {
              "outlinewidth": 0,
              "ticks": ""
             }
            },
            "type": "scatterternary"
           }
          ],
          "surface": [
           {
            "colorbar": {
             "outlinewidth": 0,
             "ticks": ""
            },
            "colorscale": [
             [
              0,
              "#0d0887"
             ],
             [
              0.1111111111111111,
              "#46039f"
             ],
             [
              0.2222222222222222,
              "#7201a8"
             ],
             [
              0.3333333333333333,
              "#9c179e"
             ],
             [
              0.4444444444444444,
              "#bd3786"
             ],
             [
              0.5555555555555556,
              "#d8576b"
             ],
             [
              0.6666666666666666,
              "#ed7953"
             ],
             [
              0.7777777777777778,
              "#fb9f3a"
             ],
             [
              0.8888888888888888,
              "#fdca26"
             ],
             [
              1,
              "#f0f921"
             ]
            ],
            "type": "surface"
           }
          ],
          "table": [
           {
            "cells": {
             "fill": {
              "color": "#EBF0F8"
             },
             "line": {
              "color": "white"
             }
            },
            "header": {
             "fill": {
              "color": "#C8D4E3"
             },
             "line": {
              "color": "white"
             }
            },
            "type": "table"
           }
          ]
         },
         "layout": {
          "annotationdefaults": {
           "arrowcolor": "#2a3f5f",
           "arrowhead": 0,
           "arrowwidth": 1
          },
          "autotypenumbers": "strict",
          "coloraxis": {
           "colorbar": {
            "outlinewidth": 0,
            "ticks": ""
           }
          },
          "colorscale": {
           "diverging": [
            [
             0,
             "#8e0152"
            ],
            [
             0.1,
             "#c51b7d"
            ],
            [
             0.2,
             "#de77ae"
            ],
            [
             0.3,
             "#f1b6da"
            ],
            [
             0.4,
             "#fde0ef"
            ],
            [
             0.5,
             "#f7f7f7"
            ],
            [
             0.6,
             "#e6f5d0"
            ],
            [
             0.7,
             "#b8e186"
            ],
            [
             0.8,
             "#7fbc41"
            ],
            [
             0.9,
             "#4d9221"
            ],
            [
             1,
             "#276419"
            ]
           ],
           "sequential": [
            [
             0,
             "#0d0887"
            ],
            [
             0.1111111111111111,
             "#46039f"
            ],
            [
             0.2222222222222222,
             "#7201a8"
            ],
            [
             0.3333333333333333,
             "#9c179e"
            ],
            [
             0.4444444444444444,
             "#bd3786"
            ],
            [
             0.5555555555555556,
             "#d8576b"
            ],
            [
             0.6666666666666666,
             "#ed7953"
            ],
            [
             0.7777777777777778,
             "#fb9f3a"
            ],
            [
             0.8888888888888888,
             "#fdca26"
            ],
            [
             1,
             "#f0f921"
            ]
           ],
           "sequentialminus": [
            [
             0,
             "#0d0887"
            ],
            [
             0.1111111111111111,
             "#46039f"
            ],
            [
             0.2222222222222222,
             "#7201a8"
            ],
            [
             0.3333333333333333,
             "#9c179e"
            ],
            [
             0.4444444444444444,
             "#bd3786"
            ],
            [
             0.5555555555555556,
             "#d8576b"
            ],
            [
             0.6666666666666666,
             "#ed7953"
            ],
            [
             0.7777777777777778,
             "#fb9f3a"
            ],
            [
             0.8888888888888888,
             "#fdca26"
            ],
            [
             1,
             "#f0f921"
            ]
           ]
          },
          "colorway": [
           "#636efa",
           "#EF553B",
           "#00cc96",
           "#ab63fa",
           "#FFA15A",
           "#19d3f3",
           "#FF6692",
           "#B6E880",
           "#FF97FF",
           "#FECB52"
          ],
          "font": {
           "color": "#2a3f5f"
          },
          "geo": {
           "bgcolor": "white",
           "lakecolor": "white",
           "landcolor": "white",
           "showlakes": true,
           "showland": true,
           "subunitcolor": "#C8D4E3"
          },
          "hoverlabel": {
           "align": "left"
          },
          "hovermode": "closest",
          "mapbox": {
           "style": "light"
          },
          "paper_bgcolor": "white",
          "plot_bgcolor": "white",
          "polar": {
           "angularaxis": {
            "gridcolor": "#EBF0F8",
            "linecolor": "#EBF0F8",
            "ticks": ""
           },
           "bgcolor": "white",
           "radialaxis": {
            "gridcolor": "#EBF0F8",
            "linecolor": "#EBF0F8",
            "ticks": ""
           }
          },
          "scene": {
           "xaxis": {
            "backgroundcolor": "white",
            "gridcolor": "#DFE8F3",
            "gridwidth": 2,
            "linecolor": "#EBF0F8",
            "showbackground": true,
            "ticks": "",
            "zerolinecolor": "#EBF0F8"
           },
           "yaxis": {
            "backgroundcolor": "white",
            "gridcolor": "#DFE8F3",
            "gridwidth": 2,
            "linecolor": "#EBF0F8",
            "showbackground": true,
            "ticks": "",
            "zerolinecolor": "#EBF0F8"
           },
           "zaxis": {
            "backgroundcolor": "white",
            "gridcolor": "#DFE8F3",
            "gridwidth": 2,
            "linecolor": "#EBF0F8",
            "showbackground": true,
            "ticks": "",
            "zerolinecolor": "#EBF0F8"
           }
          },
          "shapedefaults": {
           "line": {
            "color": "#2a3f5f"
           }
          },
          "ternary": {
           "aaxis": {
            "gridcolor": "#DFE8F3",
            "linecolor": "#A2B1C6",
            "ticks": ""
           },
           "baxis": {
            "gridcolor": "#DFE8F3",
            "linecolor": "#A2B1C6",
            "ticks": ""
           },
           "bgcolor": "white",
           "caxis": {
            "gridcolor": "#DFE8F3",
            "linecolor": "#A2B1C6",
            "ticks": ""
           }
          },
          "title": {
           "x": 0.05
          },
          "xaxis": {
           "automargin": true,
           "gridcolor": "#EBF0F8",
           "linecolor": "#EBF0F8",
           "ticks": "",
           "title": {
            "standoff": 15
           },
           "zerolinecolor": "#EBF0F8",
           "zerolinewidth": 2
          },
          "yaxis": {
           "automargin": true,
           "gridcolor": "#EBF0F8",
           "linecolor": "#EBF0F8",
           "ticks": "",
           "title": {
            "standoff": 15
           },
           "zerolinecolor": "#EBF0F8",
           "zerolinewidth": 2
          }
         }
        },
        "width": 432,
        "xaxis": {
         "anchor": "y",
         "domain": [
          0,
          1
         ],
         "mirror": "ticks",
         "nticks": 9,
         "range": [
          0,
          364
         ],
         "showgrid": false,
         "showline": true,
         "side": "bottom",
         "tickfont": {
          "size": 10
         },
         "ticks": "inside",
         "type": "linear",
         "zeroline": false
        },
        "xaxis2": {
         "anchor": "y2",
         "domain": [
          0,
          1
         ],
         "mirror": "ticks",
         "nticks": 9,
         "range": [
          0,
          364
         ],
         "showgrid": false,
         "showline": true,
         "side": "bottom",
         "tickfont": {
          "size": 10
         },
         "ticks": "inside",
         "type": "linear",
         "zeroline": false
        },
        "xaxis3": {
         "anchor": "y3",
         "domain": [
          0,
          1
         ],
         "mirror": "ticks",
         "nticks": 9,
         "range": [
          0,
          364
         ],
         "showgrid": false,
         "showline": true,
         "side": "bottom",
         "tickfont": {
          "size": 10
         },
         "ticks": "inside",
         "type": "linear",
         "zeroline": false
        },
        "xaxis4": {
         "anchor": "y4",
         "domain": [
          0,
          1
         ],
         "mirror": "ticks",
         "nticks": 9,
         "range": [
          0,
          364
         ],
         "showgrid": false,
         "showline": true,
         "side": "bottom",
         "tickfont": {
          "size": 10
         },
         "ticks": "inside",
         "type": "linear",
         "zeroline": false
        },
        "yaxis": {
         "anchor": "x",
         "domain": [
          0.8393316195372751,
          1
         ],
         "mirror": "ticks",
         "nticks": 4,
         "range": [
          -98.90000000000055,
          169716.9
         ],
         "showgrid": false,
         "showline": true,
         "side": "left",
         "tickfont": {
          "size": 10
         },
         "ticks": "inside",
         "type": "linear",
         "zeroline": false
        },
        "yaxis2": {
         "anchor": "x2",
         "domain": [
          0.55955441302485,
          0.720222793487575
         ],
         "mirror": "ticks",
         "nticks": 4,
         "range": [
          25786.783000000003,
          80421.18699999999
         ],
         "showgrid": false,
         "showline": true,
         "side": "left",
         "tickfont": {
          "size": 10
         },
         "ticks": "inside",
         "title": {
          "font": {
           "color": "#000000",
           "size": 10
          },
          "text": "Trend"
         },
         "type": "linear",
         "zeroline": false
        },
        "yaxis3": {
         "anchor": "x3",
         "domain": [
          0.279777206512425,
          0.44044558697514996
         ],
         "mirror": "ticks",
         "nticks": 5,
         "range": [
          0.44890265497091153,
          1.8459037508978025
         ],
         "showgrid": false,
         "showline": true,
         "side": "left",
         "tickfont": {
          "size": 10
         },
         "ticks": "inside",
         "title": {
          "font": {
           "color": "#000000",
           "size": 10
          },
          "text": "Seasonal"
         },
         "type": "linear",
         "zeroline": false
        },
        "yaxis4": {
         "anchor": "x4",
         "domain": [
          0,
          0.16066838046272497
         ],
         "mirror": "ticks",
         "nticks": 4,
         "range": [
          -0.09294891974830277,
          1.951927314714358
         ],
         "showgrid": false,
         "showline": true,
         "side": "left",
         "tickfont": {
          "size": 10
         },
         "ticks": "inside",
         "title": {
          "font": {
           "color": "#000000",
           "size": 10
          },
          "text": "Resid"
         },
         "type": "linear",
         "zeroline": false
        }
       }
      },
      "text/html": [
       "<div>                            <div id=\"c77bb92a-5859-4b29-8938-b49dc570ab57\" class=\"plotly-graph-div\" style=\"height:288px; width:432px;\"></div>            <script type=\"text/javascript\">                require([\"plotly\"], function(Plotly) {                    window.PLOTLYENV=window.PLOTLYENV || {};                                    if (document.getElementById(\"c77bb92a-5859-4b29-8938-b49dc570ab57\")) {                    Plotly.newPlot(                        \"c77bb92a-5859-4b29-8938-b49dc570ab57\",                        [{\"line\":{\"color\":\"rgba (31, 119, 180, 1)\",\"dash\":\"solid\",\"width\":1.5},\"mode\":\"lines\",\"name\":\"_child0\",\"x\":[0.0,1.0,2.0,3.0,4.0,5.0,6.0,7.0,8.0,9.0,10.0,11.0,12.0,13.0,14.0,15.0,16.0,17.0,18.0,19.0,20.0,21.0,22.0,23.0,24.0,25.0,26.0,27.0,28.0,29.0,30.0,31.0,32.0,33.0,34.0,35.0,36.0,37.0,38.0,39.0,40.0,41.0,42.0,43.0,44.0,45.0,46.0,47.0,48.0,49.0,50.0,51.0,52.0,53.0,54.0,55.0,56.0,57.0,58.0,59.0,60.0,61.0,62.0,63.0,64.0,65.0,66.0,67.0,68.0,69.0,70.0,71.0,72.0,73.0,74.0,75.0,76.0,77.0,78.0,79.0,80.0,81.0,82.0,83.0,84.0,85.0,86.0,87.0,88.0,89.0,90.0,91.0,92.0,93.0,94.0,95.0,96.0,97.0,98.0,99.0,100.0,101.0,102.0,103.0,104.0,105.0,106.0,107.0,108.0,109.0,110.0,111.0,112.0,113.0,114.0,115.0,116.0,117.0,118.0,119.0,120.0,121.0,122.0,123.0,124.0,125.0,126.0,127.0,128.0,129.0,130.0,131.0,132.0,133.0,134.0,135.0,136.0,137.0,138.0,139.0,140.0,141.0,142.0,143.0,144.0,145.0,146.0,147.0,148.0,149.0,150.0,151.0,152.0,153.0,154.0,155.0,156.0,157.0,158.0,159.0,160.0,161.0,162.0,163.0,164.0,165.0,166.0,167.0,168.0,169.0,170.0,171.0,172.0,173.0,174.0,175.0,176.0,177.0,178.0,179.0,180.0,181.0,182.0,183.0,184.0,185.0,186.0,187.0,188.0,189.0,190.0,191.0,192.0,193.0,194.0,195.0,196.0,197.0,198.0,199.0,200.0,201.0,202.0,203.0,204.0,205.0,206.0,207.0,208.0,209.0,210.0,211.0,212.0,213.0,214.0,215.0,216.0,217.0,218.0,219.0,220.0,221.0,222.0,223.0,224.0,225.0,226.0,227.0,228.0,229.0,230.0,231.0,232.0,233.0,234.0,235.0,236.0,237.0,238.0,239.0,240.0,241.0,242.0,243.0,244.0,245.0,246.0,247.0,248.0,249.0,250.0,251.0,252.0,253.0,254.0,255.0,256.0,257.0,258.0,259.0,260.0,261.0,262.0,263.0,264.0,265.0,266.0,267.0,268.0,269.0,270.0,271.0,272.0,273.0,274.0,275.0,276.0,277.0,278.0,279.0,280.0,281.0,282.0,283.0,284.0,285.0,286.0,287.0,288.0,289.0,290.0,291.0,292.0,293.0,294.0,295.0,296.0,297.0,298.0,299.0,300.0,301.0,302.0,303.0,304.0,305.0,306.0,307.0,308.0,309.0,310.0,311.0,312.0,313.0,314.0,315.0,316.0,317.0,318.0,319.0,320.0,321.0,322.0,323.0,324.0,325.0,326.0,327.0,328.0,329.0,330.0,331.0,332.0,333.0,334.0,335.0,336.0,337.0,338.0,339.0,340.0,341.0,342.0,343.0,344.0,345.0,346.0,347.0,348.0,349.0,350.0,351.0,352.0,353.0,354.0,355.0,356.0,357.0,358.0,359.0,360.0,361.0,362.0,363.0,364.0],\"xaxis\":\"x\",\"y\":[7620.0,12859.0,16008.0,24349.0,20532.0,19408.0,14941.0,17263.0,20224.0,30471.0,39774.0,43550.0,42342.0,55477.0,54391.0,44108.0,49089.0,42790.0,49940.0,45763.0,38457.0,45197.0,42367.0,36076.0,34467.0,36772.0,35349.0,27926.0,26184.0,26410.0,32637.0,42204.0,47632.0,35793.0,35945.0,35574.0,26940.0,27495.0,19660.0,24138.0,23391.0,16748.0,17489.0,18171.0,29682.0,33085.0,50797.0,54392.0,35649.0,33654.0,46443.0,50465.0,51263.0,55647.0,68448.0,73815.0,74077.0,67922.0,80600.0,73835.0,83221.0,77190.0,83630.0,65133.0,72761.0,67778.0,54560.0,32643.0,24889.0,27046.0,55433.0,64168.0,69366.0,59358.0,46011.0,38286.0,89665.0,133807.0,103309.0,112461.0,114870.0,115782.0,110319.0,51336.0,54666.0,62637.0,66525.0,61001.0,73659.0,59505.0,60504.0,69593.0,76763.0,63917.0,60591.0,66350.0,62711.0,70608.0,61222.0,51758.0,62099.0,69686.0,78896.0,68331.0,59660.0,58746.0,59599.0,110544.0,117070.0,122530.0,81669.0,74793.0,82299.0,81336.0,70291.0,77767.0,62322.0,62659.0,69659.0,57778.0,55289.0,63183.0,68727.0,74334.0,72809.0,53647.0,89747.0,91473.0,88629.0,103756.0,134856.0,123226.0,134762.0,118660.0,29813.0,22671.0,18341.0,14616.0,11427.0,16703.0,10989.0,17251.0,20968.0,13249.0,14045.0,13598.0,17944.0,86559.0,114821.0,89385.0,87489.0,106211.0,92920.0,84745.0,86010.0,105478.0,129544.0,120165.0,100047.0,92885.0,120963.0,107493.0,97374.0,116321.0,105488.0,87666.0,87047.0,78212.0,77807.0,82448.0,133156.0,161998.0,142298.0,108106.0,68922.0,54147.0,72691.0,72354.0,58779.0,73231.0,53697.0,100440.0,61940.0,100277.0,80560.0,83699.0,99136.0,118015.0,94388.0,71084.0,63193.0,64780.0,48227.0,52129.0,26257.0,19469.0,22669.0,27502.0,61623.0,75694.0,33518.0,55984.0,63264.0,19509.0,20633.0,24122.0,16745.0,23674.0,38667.0,48504.0,34889.0,40588.0,74032.0,66457.0,61773.0,45842.0,32075.0,32016.0,39436.0,84987.0,50200.0,62769.0,63688.0,63829.0,44754.0,37796.0,43987.0,45479.0,40908.0,49767.0,56708.0,91287.0,54146.0,58121.0,61232.0,63271.0,70836.0,64517.0,64358.0,58697.0,50766.0,54373.0,50188.0,36290.0,36760.0,34121.0,35159.0,37259.0,36993.0,51028.0,42299.0,39843.0,43256.0,49872.0,46505.0,39585.0,30135.0,34592.0,34681.0,33083.0,31342.0,26562.0,22119.0,23183.0,20108.0,18793.0,16431.0,17075.0,16881.0,20798.0,25612.0,25070.0,22686.0,19555.0,23887.0,25451.0,21871.0,28045.0,31426.0,35156.0,30881.0,29980.0,29092.0,33687.0,38209.0,34486.0,36539.0,31826.0,29354.0,30277.0,24114.0,22497.0,36816.0,18850.0,15411.0,23006.0,22257.0,19413.0,20392.0,19793.0,23358.0,29541.0,26580.0,24459.0,26401.0,28053.0,25138.0,19939.0,48309.0,57526.0,61022.0,61822.0,26224.0,24975.0,28476.0,24834.0,27249.0,28076.0,26542.0,24477.0,25137.0,23645.0,20195.0,24079.0,25884.0,18755.0,22528.0,18026.0,20873.0,16639.0,14482.0,17726.0,32823.0,87649.0,91367.0,50625.0,12823.0,15866.0,19175.0,17065.0,56023.0,70632.0,20629.0,17595.0,31142.0,35195.0,43031.0,38135.0,22214.0,23075.0,17173.0,18978.0,45343.0,59259.0,23662.0,18075.0,16319.0,15612.0,21229.0,16080.0,15622.0,18645.0,41238.0,50490.0,22014.0],\"yaxis\":\"y\",\"type\":\"scatter\"},{\"line\":{\"color\":\"rgba (31, 119, 180, 1)\",\"dash\":\"solid\",\"width\":1.5},\"mode\":\"lines\",\"name\":\"_child0\",\"x\":[0.0,1.0,2.0,3.0,4.0,5.0,6.0,7.0,8.0,9.0,10.0,11.0,12.0,13.0,14.0,15.0,16.0,17.0,18.0,19.0,20.0,21.0,22.0,23.0,24.0,25.0,26.0,27.0,28.0,29.0,30.0,31.0,32.0,33.0,34.0,35.0,36.0,37.0,38.0,39.0,40.0,41.0,42.0,43.0,44.0,45.0,46.0,47.0,48.0,49.0,50.0,51.0,52.0,53.0,54.0,55.0,56.0,57.0,58.0,59.0,60.0,61.0,62.0,63.0,64.0,65.0,66.0,67.0,68.0,69.0,70.0,71.0,72.0,73.0,74.0,75.0,76.0,77.0,78.0,79.0,80.0,81.0,82.0,83.0,84.0,85.0,86.0,87.0,88.0,89.0,90.0,91.0,92.0,93.0,94.0,95.0,96.0,97.0,98.0,99.0,100.0,101.0,102.0,103.0,104.0,105.0,106.0,107.0,108.0,109.0,110.0,111.0,112.0,113.0,114.0,115.0,116.0,117.0,118.0,119.0,120.0,121.0,122.0,123.0,124.0,125.0,126.0,127.0,128.0,129.0,130.0,131.0,132.0,133.0,134.0,135.0,136.0,137.0,138.0,139.0,140.0,141.0,142.0,143.0,144.0,145.0,146.0,147.0,148.0,149.0,150.0,151.0,152.0,153.0,154.0,155.0,156.0,157.0,158.0,159.0,160.0,161.0,162.0,163.0,164.0,165.0,166.0,167.0,168.0,169.0,170.0,171.0,172.0,173.0,174.0,175.0,176.0,177.0,178.0,179.0,180.0,181.0,182.0,183.0,184.0,185.0,186.0,187.0,188.0,189.0,190.0,191.0,192.0,193.0,194.0,195.0,196.0,197.0,198.0,199.0,200.0,201.0,202.0,203.0,204.0,205.0,206.0,207.0,208.0,209.0,210.0,211.0,212.0,213.0,214.0,215.0,216.0,217.0,218.0,219.0,220.0,221.0,222.0,223.0,224.0,225.0,226.0,227.0,228.0,229.0,230.0,231.0,232.0,233.0,234.0,235.0,236.0,237.0,238.0,239.0,240.0,241.0,242.0,243.0,244.0,245.0,246.0,247.0,248.0,249.0,250.0,251.0,252.0,253.0,254.0,255.0,256.0,257.0,258.0,259.0,260.0,261.0,262.0,263.0,264.0,265.0,266.0,267.0,268.0,269.0,270.0,271.0,272.0,273.0,274.0,275.0,276.0,277.0,278.0,279.0,280.0,281.0,282.0,283.0,284.0,285.0,286.0,287.0,288.0,289.0,290.0,291.0,292.0,293.0,294.0,295.0,296.0,297.0,298.0,299.0,300.0,301.0,302.0,303.0,304.0,305.0,306.0,307.0,308.0,309.0,310.0,311.0,312.0,313.0,314.0,315.0,316.0,317.0,318.0,319.0,320.0,321.0,322.0,323.0,324.0,325.0,326.0,327.0,328.0,329.0,330.0,331.0,332.0,333.0,334.0,335.0,336.0,337.0,338.0,339.0,340.0,341.0,342.0,343.0,344.0,345.0,346.0,347.0,348.0,349.0,350.0,351.0,352.0,353.0,354.0,355.0,356.0,357.0,358.0,359.0,360.0,361.0,362.0,363.0,364.0],\"xaxis\":\"x2\",\"y\":[null,null,null,null,null,null,null,null,null,null,null,null,null,null,null,null,null,null,null,null,null,null,null,null,null,null,null,null,null,null,null,null,null,null,null,null,null,null,null,null,null,null,null,null,null,null,null,null,null,null,50859.665000000015,51416.195,52014.770000000004,52549.119999999995,52964.67,53356.99999999999,53776.979999999996,54466.674999999996,55417.31,56361.835,57031.605,57397.295000000006,57753.295000000006,58082.37500000001,58291.17,58538.965000000004,58773.424999999996,58938.935000000005,59136.875,59295.545,59439.77999999999,59613.86999999999,59835.6,60158.689999999995,60541.689999999995,60817.77499999999,61174.13999999999,61763.865,62393.825,63092.780000000006,63990.605,64906.81,65747.56999999999,66597.55500000001,66981.23000000001,66886.05500000001,66778.54500000001,66671.15500000001,66565.59500000002,66487.25500000002,66388.07000000002,66328.57500000001,66348.485,66341.26999999997,66238.47499999999,66062.85500000001,65801.155,65797.725,66354.42,67028.93500000001,67512.82000000002,67996.78,68483.79500000001,68837.57,69070.87,69316.995,69752.645,70291.195,70649.645,70842.12999999999,71126.09,71466.315,71686.55,72011.21,72430.785,72693.86000000002,72955.73500000003,73346.01500000001,73838.45000000001,74380.05000000002,75045.675,75923.44,76777.25000000001,77385.64999999998,77743.94499999999,77937.805,77932.23999999999,77540.105,77010.19,76591.38999999998,76089.37499999999,75706.79999999999,75388.19499999998,75391.00499999998,75765.18000000001,75999.96,76268.32500000001,76716.45000000001,77105.16500000001,77266.705,77338.045,77327.42499999999,77160.68,76959.06,76728.45,76322.37500000001,75887.76000000001,75472.02,75258.49500000002,75380.18000000001,75356.95499999999,75145.54,74998.87,74676.59999999999,74237.35499999998,73869.09999999999,73481.71,72833.09,72006.72500000002,71244.58,70640.55,70235.625,70023.265,69907.535,69790.55000000002,69588.33500000002,69277.475,68973.02500000001,68668.69499999998,68653.625,68764.22499999999,68736.71,68709.44499999999,68631.725,68438.925,68219.39499999997,67911.34,67452.56999999999,66983.99499999998,66475.445,65814.76000000001,65264.325,64701.55000000001,63995.775,63850.17500000001,64210.27000000001,64675.744999999995,65187.72499999999,65701.885,66176.51,66585.365,66969.86000000002,67301.57,67562.875,67791.655,68007.845,68196.535,68036.10999999999,67400.47,66819.54499999998,66401.80999999998,65844.01999999999,65263.85999999999,64841.174999999996,64469.284999999996,63942.295000000006,63115.78500000001,62190.875,61436.17999999999,60810.33999999999,60063.22499999999,59210.465,58429.535,57587.57000000001,56694.98,55923.715000000004,55226.270000000004,54567.505,53957.19,53344.31,52498.340000000004,51275.98,49993.280000000006,48952.465000000004,48284.535,47915.880000000005,47518.30000000001,47042.655000000006,46684.345,46357.204999999994,46052.74999999999,45586.369999999995,45069.83,44572.64,44027.935000000005,43570.115,43011.065,42267.135,41511.02,40981.81500000001,40582.384999999995,40175.575,39907.104999999996,39683.655,39463.030000000006,39426.485,39442.11,39399.605,39153.005,38667.34499999999,38337.03999999999,38154.024999999994,37838.39,37679.72000000001,37733.310000000005,37781.80500000001,37843.42500000001,37866.715,37896.25,37989.56999999999,38165.345,38402.18,38269.31,37822.86,37448.965,37177.44,37048.27,37004.439999999995,36920.27,36553.24999999999,36125.38499999999,35804.45,35391.36499999999,34975.14999999999,34682.049999999996,34492.494999999995,34289.994999999995,34045.435,33807.994999999995,33542.18000000001,33165.41,32586.475,32112.054999999997,32153.079999999994,32451.394999999997,32538.839999999997,32185.545000000002,31652.225000000002,31183.054999999997,30748.98,30567.105,30674.684999999998,30608.185,30366.915,30245.350000000002,30222.63,30267.36,30311.1,30241.585,30027.925000000003,29762.530000000002,29532.574999999997,29438.684999999998,29496.054999999997,29428.774999999998,29207.01,29030.38,28866.4,28704.239999999998,28551.965000000004,28388.350000000002,28270.165,28326.175000000003,28558.305000000004,28704.37000000001,null,null,null,null,null,null,null,null,null,null,null,null,null,null,null,null,null,null,null,null,null,null,null,null,null,null,null,null,null,null,null,null,null,null,null,null,null,null,null,null,null,null,null,null,null,null,null,null,null,null],\"yaxis\":\"y2\",\"type\":\"scatter\"},{\"line\":{\"color\":\"rgba (31, 119, 180, 1)\",\"dash\":\"solid\",\"width\":1.5},\"mode\":\"lines\",\"name\":\"_child0\",\"x\":[0.0,1.0,2.0,3.0,4.0,5.0,6.0,7.0,8.0,9.0,10.0,11.0,12.0,13.0,14.0,15.0,16.0,17.0,18.0,19.0,20.0,21.0,22.0,23.0,24.0,25.0,26.0,27.0,28.0,29.0,30.0,31.0,32.0,33.0,34.0,35.0,36.0,37.0,38.0,39.0,40.0,41.0,42.0,43.0,44.0,45.0,46.0,47.0,48.0,49.0,50.0,51.0,52.0,53.0,54.0,55.0,56.0,57.0,58.0,59.0,60.0,61.0,62.0,63.0,64.0,65.0,66.0,67.0,68.0,69.0,70.0,71.0,72.0,73.0,74.0,75.0,76.0,77.0,78.0,79.0,80.0,81.0,82.0,83.0,84.0,85.0,86.0,87.0,88.0,89.0,90.0,91.0,92.0,93.0,94.0,95.0,96.0,97.0,98.0,99.0,100.0,101.0,102.0,103.0,104.0,105.0,106.0,107.0,108.0,109.0,110.0,111.0,112.0,113.0,114.0,115.0,116.0,117.0,118.0,119.0,120.0,121.0,122.0,123.0,124.0,125.0,126.0,127.0,128.0,129.0,130.0,131.0,132.0,133.0,134.0,135.0,136.0,137.0,138.0,139.0,140.0,141.0,142.0,143.0,144.0,145.0,146.0,147.0,148.0,149.0,150.0,151.0,152.0,153.0,154.0,155.0,156.0,157.0,158.0,159.0,160.0,161.0,162.0,163.0,164.0,165.0,166.0,167.0,168.0,169.0,170.0,171.0,172.0,173.0,174.0,175.0,176.0,177.0,178.0,179.0,180.0,181.0,182.0,183.0,184.0,185.0,186.0,187.0,188.0,189.0,190.0,191.0,192.0,193.0,194.0,195.0,196.0,197.0,198.0,199.0,200.0,201.0,202.0,203.0,204.0,205.0,206.0,207.0,208.0,209.0,210.0,211.0,212.0,213.0,214.0,215.0,216.0,217.0,218.0,219.0,220.0,221.0,222.0,223.0,224.0,225.0,226.0,227.0,228.0,229.0,230.0,231.0,232.0,233.0,234.0,235.0,236.0,237.0,238.0,239.0,240.0,241.0,242.0,243.0,244.0,245.0,246.0,247.0,248.0,249.0,250.0,251.0,252.0,253.0,254.0,255.0,256.0,257.0,258.0,259.0,260.0,261.0,262.0,263.0,264.0,265.0,266.0,267.0,268.0,269.0,270.0,271.0,272.0,273.0,274.0,275.0,276.0,277.0,278.0,279.0,280.0,281.0,282.0,283.0,284.0,285.0,286.0,287.0,288.0,289.0,290.0,291.0,292.0,293.0,294.0,295.0,296.0,297.0,298.0,299.0,300.0,301.0,302.0,303.0,304.0,305.0,306.0,307.0,308.0,309.0,310.0,311.0,312.0,313.0,314.0,315.0,316.0,317.0,318.0,319.0,320.0,321.0,322.0,323.0,324.0,325.0,326.0,327.0,328.0,329.0,330.0,331.0,332.0,333.0,334.0,335.0,336.0,337.0,338.0,339.0,340.0,341.0,342.0,343.0,344.0,345.0,346.0,347.0,348.0,349.0,350.0,351.0,352.0,353.0,354.0,355.0,356.0,357.0,358.0,359.0,360.0,361.0,362.0,363.0,364.0],\"xaxis\":\"x3\",\"y\":[0.7232036050030856,0.9411997448812576,0.9899425706295483,0.6948391182285862,0.681145341513215,0.7152935225430973,0.6499672706551416,0.86548121470048,1.2993147630108932,1.4867455087988364,1.2695986224155218,1.2827641557056118,1.0935646479309022,1.0337210838270254,0.9990355163633291,0.9277423738428269,0.7045969826897287,0.7075329090945641,0.8220611873272127,1.1636468104088347,0.8312357446022549,1.0096515240442958,1.0650089418742046,1.1118421220642682,0.9149235449900223,0.7252647130436481,1.0199400678738568,1.0538967346373147,0.9953182281796522,1.192247993456625,1.4748079290035814,1.7824037010829439,1.4675643232278455,1.4130317194131414,0.8760571830990178,0.8594725124746535,0.9267080507485836,0.8430056974279103,0.833997583149631,0.8093785839690413,0.683970666354121,0.7740426318231532,0.7509120531897043,0.5335351545772827,0.5472408752298011,0.5124027047857702,0.5537756684931682,1.0274438511269814,1.2130150973685632,1.2301684003289854,1.0400928091170192,1.1257459475011116,1.1023435495265097,1.1513380341945738,1.2056828474421792,1.263184481464387,1.2886137134841318,1.2472689475485192,1.2304316136147457,1.1406195151012763,1.3069649311108062,1.1675813284388914,1.118368674808336,1.112352074461218,1.0791014974448405,0.956820666173485,0.860326601872097,0.7035074319041255,0.6583199934125586,0.7286467886058389,1.1711822741011382,1.3529804588010221,1.2671919459235672,1.0215864421747727,0.8038550549791202,0.7073971142004192,1.0389273545242328,1.3298936011621891,1.1334830887937213,1.2871319997137225,1.1594405416273912,1.3887998621253586,1.1591393940951065,1.1081703173283202,1.0655478542995267,1.0801348100463433,1.1994309567093733,1.2212148923048303,1.1405891341623695,0.9668663611498334,0.8671996116146697,0.9001338534842886,1.0069877054180192,0.7711128651013296,0.5929895318245851,0.6716299906161884,0.6614668610598369,0.6932180868324371,0.8220044020825639,0.8393212353073813,0.7232036050030856,0.9411997448812576,0.9899425706295483,0.6948391182285862,0.681145341513215,0.7152935225430973,0.6499672706551416,0.86548121470048,1.2993147630108932,1.4867455087988364,1.2695986224155218,1.2827641557056118,1.0935646479309022,1.0337210838270254,0.9990355163633291,0.9277423738428269,0.7045969826897287,0.7075329090945641,0.8220611873272127,1.1636468104088347,0.8312357446022549,1.0096515240442958,1.0650089418742046,1.1118421220642682,0.9149235449900223,0.7252647130436481,1.0199400678738568,1.0538967346373147,0.9953182281796522,1.192247993456625,1.4748079290035814,1.7824037010829439,1.4675643232278455,1.4130317194131414,0.8760571830990178,0.8594725124746535,0.9267080507485836,0.8430056974279103,0.833997583149631,0.8093785839690413,0.683970666354121,0.7740426318231532,0.7509120531897043,0.5335351545772827,0.5472408752298011,0.5124027047857702,0.5537756684931682,1.0274438511269814,1.2130150973685632,1.2301684003289854,1.0400928091170192,1.1257459475011116,1.1023435495265097,1.1513380341945738,1.2056828474421792,1.263184481464387,1.2886137134841318,1.2472689475485192,1.2304316136147457,1.1406195151012763,1.3069649311108062,1.1675813284388914,1.118368674808336,1.112352074461218,1.0791014974448405,0.956820666173485,0.860326601872097,0.7035074319041255,0.6583199934125586,0.7286467886058389,1.1711822741011382,1.3529804588010221,1.2671919459235672,1.0215864421747727,0.8038550549791202,0.7073971142004192,1.0389273545242328,1.3298936011621891,1.1334830887937213,1.2871319997137225,1.1594405416273912,1.3887998621253586,1.1591393940951065,1.1081703173283202,1.0655478542995267,1.0801348100463433,1.1994309567093733,1.2212148923048303,1.1405891341623695,0.9668663611498334,0.8671996116146697,0.9001338534842886,1.0069877054180192,0.7711128651013296,0.5929895318245851,0.6716299906161884,0.6614668610598369,0.6932180868324371,0.8220044020825639,0.8393212353073813,0.7232036050030856,0.9411997448812576,0.9899425706295483,0.6948391182285862,0.681145341513215,0.7152935225430973,0.6499672706551416,0.86548121470048,1.2993147630108932,1.4867455087988364,1.2695986224155218,1.2827641557056118,1.0935646479309022,1.0337210838270254,0.9990355163633291,0.9277423738428269,0.7045969826897287,0.7075329090945641,0.8220611873272127,1.1636468104088347,0.8312357446022549,1.0096515240442958,1.0650089418742046,1.1118421220642682,0.9149235449900223,0.7252647130436481,1.0199400678738568,1.0538967346373147,0.9953182281796522,1.192247993456625,1.4748079290035814,1.7824037010829439,1.4675643232278455,1.4130317194131414,0.8760571830990178,0.8594725124746535,0.9267080507485836,0.8430056974279103,0.833997583149631,0.8093785839690413,0.683970666354121,0.7740426318231532,0.7509120531897043,0.5335351545772827,0.5472408752298011,0.5124027047857702,0.5537756684931682,1.0274438511269814,1.2130150973685632,1.2301684003289854,1.0400928091170192,1.1257459475011116,1.1023435495265097,1.1513380341945738,1.2056828474421792,1.263184481464387,1.2886137134841318,1.2472689475485192,1.2304316136147457,1.1406195151012763,1.3069649311108062,1.1675813284388914,1.118368674808336,1.112352074461218,1.0791014974448405,0.956820666173485,0.860326601872097,0.7035074319041255,0.6583199934125586,0.7286467886058389,1.1711822741011382,1.3529804588010221,1.2671919459235672,1.0215864421747727,0.8038550549791202,0.7073971142004192,1.0389273545242328,1.3298936011621891,1.1334830887937213,1.2871319997137225,1.1594405416273912,1.3887998621253586,1.1591393940951065,1.1081703173283202,1.0655478542995267,1.0801348100463433,1.1994309567093733,1.2212148923048303,1.1405891341623695,0.9668663611498334,0.8671996116146697,0.9001338534842886,1.0069877054180192,0.7711128651013296,0.5929895318245851,0.6716299906161884,0.6614668610598369,0.6932180868324371,0.8220044020825639,0.8393212353073813,0.7232036050030856,0.9411997448812576,0.9899425706295483,0.6948391182285862,0.681145341513215,0.7152935225430973,0.6499672706551416,0.86548121470048,1.2993147630108932,1.4867455087988364,1.2695986224155218,1.2827641557056118,1.0935646479309022,1.0337210838270254,0.9990355163633291,0.9277423738428269,0.7045969826897287,0.7075329090945641,0.8220611873272127,1.1636468104088347,0.8312357446022549,1.0096515240442958,1.0650089418742046,1.1118421220642682,0.9149235449900223,0.7252647130436481,1.0199400678738568,1.0538967346373147,0.9953182281796522,1.192247993456625,1.4748079290035814,1.7824037010829439,1.4675643232278455,1.4130317194131414,0.8760571830990178,0.8594725124746535,0.9267080507485836,0.8430056974279103,0.833997583149631,0.8093785839690413,0.683970666354121,0.7740426318231532,0.7509120531897043,0.5335351545772827,0.5472408752298011,0.5124027047857702,0.5537756684931682,1.0274438511269814,1.2130150973685632,1.2301684003289854,1.0400928091170192,1.1257459475011116,1.1023435495265097,1.1513380341945738,1.2056828474421792,1.263184481464387,1.2886137134841318,1.2472689475485192,1.2304316136147457,1.1406195151012763,1.3069649311108062,1.1675813284388914,1.118368674808336,1.112352074461218,1.0791014974448405],\"yaxis\":\"y3\",\"type\":\"scatter\"},{\"marker\":{\"color\":\"#1F77B4\",\"line\":{\"color\":\"#1F77B4\",\"width\":1.0},\"opacity\":1,\"size\":6.0,\"symbol\":\"circle\"},\"mode\":\"markers\",\"name\":\"_child0\",\"x\":[0.0,1.0,2.0,3.0,4.0,5.0,6.0,7.0,8.0,9.0,10.0,11.0,12.0,13.0,14.0,15.0,16.0,17.0,18.0,19.0,20.0,21.0,22.0,23.0,24.0,25.0,26.0,27.0,28.0,29.0,30.0,31.0,32.0,33.0,34.0,35.0,36.0,37.0,38.0,39.0,40.0,41.0,42.0,43.0,44.0,45.0,46.0,47.0,48.0,49.0,50.0,51.0,52.0,53.0,54.0,55.0,56.0,57.0,58.0,59.0,60.0,61.0,62.0,63.0,64.0,65.0,66.0,67.0,68.0,69.0,70.0,71.0,72.0,73.0,74.0,75.0,76.0,77.0,78.0,79.0,80.0,81.0,82.0,83.0,84.0,85.0,86.0,87.0,88.0,89.0,90.0,91.0,92.0,93.0,94.0,95.0,96.0,97.0,98.0,99.0,100.0,101.0,102.0,103.0,104.0,105.0,106.0,107.0,108.0,109.0,110.0,111.0,112.0,113.0,114.0,115.0,116.0,117.0,118.0,119.0,120.0,121.0,122.0,123.0,124.0,125.0,126.0,127.0,128.0,129.0,130.0,131.0,132.0,133.0,134.0,135.0,136.0,137.0,138.0,139.0,140.0,141.0,142.0,143.0,144.0,145.0,146.0,147.0,148.0,149.0,150.0,151.0,152.0,153.0,154.0,155.0,156.0,157.0,158.0,159.0,160.0,161.0,162.0,163.0,164.0,165.0,166.0,167.0,168.0,169.0,170.0,171.0,172.0,173.0,174.0,175.0,176.0,177.0,178.0,179.0,180.0,181.0,182.0,183.0,184.0,185.0,186.0,187.0,188.0,189.0,190.0,191.0,192.0,193.0,194.0,195.0,196.0,197.0,198.0,199.0,200.0,201.0,202.0,203.0,204.0,205.0,206.0,207.0,208.0,209.0,210.0,211.0,212.0,213.0,214.0,215.0,216.0,217.0,218.0,219.0,220.0,221.0,222.0,223.0,224.0,225.0,226.0,227.0,228.0,229.0,230.0,231.0,232.0,233.0,234.0,235.0,236.0,237.0,238.0,239.0,240.0,241.0,242.0,243.0,244.0,245.0,246.0,247.0,248.0,249.0,250.0,251.0,252.0,253.0,254.0,255.0,256.0,257.0,258.0,259.0,260.0,261.0,262.0,263.0,264.0,265.0,266.0,267.0,268.0,269.0,270.0,271.0,272.0,273.0,274.0,275.0,276.0,277.0,278.0,279.0,280.0,281.0,282.0,283.0,284.0,285.0,286.0,287.0,288.0,289.0,290.0,291.0,292.0,293.0,294.0,295.0,296.0,297.0,298.0,299.0,300.0,301.0,302.0,303.0,304.0,305.0,306.0,307.0,308.0,309.0,310.0,311.0,312.0,313.0,314.0,315.0,316.0,317.0,318.0,319.0,320.0,321.0,322.0,323.0,324.0,325.0,326.0,327.0,328.0,329.0,330.0,331.0,332.0,333.0,334.0,335.0,336.0,337.0,338.0,339.0,340.0,341.0,342.0,343.0,344.0,345.0,346.0,347.0,348.0,349.0,350.0,351.0,352.0,353.0,354.0,355.0,356.0,357.0,358.0,359.0,360.0,361.0,362.0,363.0,364.0],\"xaxis\":\"x4\",\"y\":[null,null,null,null,null,null,null,null,null,null,null,null,null,null,null,null,null,null,null,null,null,null,null,null,null,null,null,null,null,null,null,null,null,null,null,null,null,null,null,null,null,null,null,null,null,null,null,null,null,null,0.877959891771142,0.8718664204748326,0.8940470420945281,0.919757751376446,1.0718682570828861,1.0951823576421504,1.0689668255235107,0.9998146392983062,1.1820398547526128,1.1485141687038176,1.1164863084225953,1.1518143211370864,1.2947929784492975,1.0081251434845715,1.1567342412281236,1.2100774361546232,1.0790212807979658,0.7872616411621736,0.6393107859667011,0.6259849953103638,0.7962816339652776,0.7955723173664657,0.9148388459324653,0.9658412912405419,0.9454300133908444,0.8899101980264497,1.4108144492008583,1.6290239610920485,1.4607688601806508,1.3848386936707235,1.548252973470589,1.2844320010877828,1.4475545690406568,0.6955962432673618,0.7659337731521212,0.8669966209506031,0.8305631859239739,0.7492157248717123,0.9701676079483814,0.9256538373210862,1.0509328549654138,1.1656221611557707,1.148938441403175,1.249437834484949,1.5425909114247496,1.4953866808027398,1.4407947525307492,1.5480078077911996,1.1224409749264792,0.9199981541824677,1.2718555092412722,1.0888683858386834,1.1637432257561093,1.4285912471498128,1.2680854864658342,1.1848251972826742,1.3145793446789864,1.8170906877481352,1.2753261400544562,1.1633601617521994,0.9044027211980331,0.8158545656203713,1.049814135321149,1.092645616785454,0.9713944142554171,1.1531086295002138,1.2123867064584355,1.207425355962888,1.1475999485713404,0.6675516215004973,0.8863165449908778,0.8242384316579733,0.8405074751782757,0.8639407225285468,1.0236080383665982,0.9490754128159998,1.1290888735096711,1.11935663788122,1.1562871426555428,1.1362310914895324,1.2017407643469797,0.9131905029828573,1.2180551632130834,1.113865878892238,0.44916257800058523,0.34707658971142746,0.2594991062172052,0.22600056588840486,0.17769858289603072,0.267085542416121,0.20774353026119455,0.28821451297764933,0.3618860866332626,0.3226712751168102,0.33449281209605436,0.3477056493909109,0.426986020742292,1.116267187939819,1.2577652437502276,0.96392425248441,1.1162411212248708,1.255526535453839,1.1239254774451253,0.9856590092447255,0.9609335910535145,1.1304003857942857,1.3680919888256367,1.3227846452981367,1.1292069192327598,1.1430177038949771,1.310190791267652,1.310797459564069,1.2434137328862476,1.4958631693013553,1.400696818816234,1.3166313708764517,1.4604893891369777,1.6118529867388927,1.7211662899716753,1.648160860120243,1.6533838725525323,1.7419247403627849,1.6343307483858847,1.541877117151068,1.252786154578561,1.1220268567714078,1.030275001650205,0.8065794406403145,0.7741695802994687,0.8558755576359885,0.7036849112003492,1.1081312148898856,0.8258874188608136,1.413980813657263,1.184089164001304,1.206806972279554,1.2779524594339007,1.4824474050759793,1.259533503454823,1.110967994816035,1.0943874748198341,1.0746188568399448,0.7116081009610082,1.0005834683279886,0.6531633998227537,0.42624034150367207,0.5025299637972724,0.58311594572835,1.1122585912658716,1.3496766381984646,0.6979713505902153,0.9033702542015826,0.9792056047357461,0.43301194017373945,0.46986136255183786,0.5274008204774906,0.40818371653678753,0.43983251330896883,0.4843975091461517,0.5364922940895054,0.4575235275214361,0.5343826681101456,1.1586241855757897,1.1163711510790122,1.0906192499967422,0.8835683483618719,0.8242902714036505,0.8292516218991978,0.8890770292907451,1.3691253563615886,1.150360432871208,1.2124385462041123,1.19616950268381,1.1727362553335392,1.0130689394954877,1.0876015650460862,0.9075881043524148,0.9173203399808657,0.8803898352065427,0.9004458863725535,0.8349362135151059,1.1234864748792288,0.8186218146490027,0.9228110989698478,1.587514399861501,1.6896003881506585,1.7771778716448805,1.8106764119736811,1.8589783949660552,1.769591435445965,1.8289334476008912,1.7484624648844362,1.6747908912288234,1.7140057027452755,1.702184165766032,1.688971328471175,1.6096909571197937,0.920409789922267,0.7789117341118582,1.072752725377676,1.0608144537971163,0.9276225108644574,1.0370429472534755,1.149598706171957,1.0222136186567279,0.8294327233566927,0.6179566524439816,0.7324161821966866,0.7437686928077559,0.763483594194334,0.6283383671028813,0.592403686091974,0.5168087554575834,0.5510271540072021,0.49758440674877125,0.5283066597620534,0.5155047968581857,0.6559008388920622,0.6945383908547526,0.7808696113625216,0.6053499602753186,0.5175184090638786,0.5058458724747786,0.547297058401519,0.8567992988237232,1.0430784119952714,0.6139260159420656,0.6194120650607663,0.8200770263130093,0.8143012154864168,0.8030775821221907,0.6624522508154606,0.7815734788916592,0.945438409868504,1.1049925296397038,0.9812118735629725,0.9464998214352541,0.8233523368454367,0.8253143553899247,1.0183936346560076,0.909695137007881,0.8147744487974133,1.194468924428946,0.8049941639801919,0.8592611555456257,1.1333884444867164,1.1116907504651077,0.9238917132735786,0.8203159006007781,0.7853406744121963,1.0851886069616412,1.062776826752863,0.9120666363012735,1.1934122794695765,1.317068617775457,1.3427894490329644,1.3322524055773548,0.7980922657360251,1.295291817592521,1.355163010951424,1.6930892180736592,1.704778233062612,0.8465771458961896,0.8459986989286624,0.9930018025409697,null,null,null,null,null,null,null,null,null,null,null,null,null,null,null,null,null,null,null,null,null,null,null,null,null,null,null,null,null,null,null,null,null,null,null,null,null,null,null,null,null,null,null,null,null,null,null,null,null,null],\"yaxis\":\"y4\",\"type\":\"scatter\"},{\"line\":{\"color\":\"rgba (0, 0, 0, 1)\",\"dash\":\"solid\",\"width\":1.5},\"mode\":\"lines\",\"name\":\"_child1\",\"x\":[0.0,364.0],\"xaxis\":\"x4\",\"y\":[0.0,0.0],\"yaxis\":\"y4\",\"type\":\"scatter\"}],                        {\"autosize\":false,\"height\":288,\"hovermode\":\"closest\",\"width\":432,\"template\":{\"data\":{\"bar\":[{\"error_x\":{\"color\":\"#2a3f5f\"},\"error_y\":{\"color\":\"#2a3f5f\"},\"marker\":{\"line\":{\"color\":\"white\",\"width\":0.5},\"pattern\":{\"fillmode\":\"overlay\",\"size\":10,\"solidity\":0.2}},\"type\":\"bar\"}],\"barpolar\":[{\"marker\":{\"line\":{\"color\":\"white\",\"width\":0.5},\"pattern\":{\"fillmode\":\"overlay\",\"size\":10,\"solidity\":0.2}},\"type\":\"barpolar\"}],\"carpet\":[{\"aaxis\":{\"endlinecolor\":\"#2a3f5f\",\"gridcolor\":\"#C8D4E3\",\"linecolor\":\"#C8D4E3\",\"minorgridcolor\":\"#C8D4E3\",\"startlinecolor\":\"#2a3f5f\"},\"baxis\":{\"endlinecolor\":\"#2a3f5f\",\"gridcolor\":\"#C8D4E3\",\"linecolor\":\"#C8D4E3\",\"minorgridcolor\":\"#C8D4E3\",\"startlinecolor\":\"#2a3f5f\"},\"type\":\"carpet\"}],\"choropleth\":[{\"colorbar\":{\"outlinewidth\":0,\"ticks\":\"\"},\"type\":\"choropleth\"}],\"contour\":[{\"colorbar\":{\"outlinewidth\":0,\"ticks\":\"\"},\"colorscale\":[[0.0,\"#0d0887\"],[0.1111111111111111,\"#46039f\"],[0.2222222222222222,\"#7201a8\"],[0.3333333333333333,\"#9c179e\"],[0.4444444444444444,\"#bd3786\"],[0.5555555555555556,\"#d8576b\"],[0.6666666666666666,\"#ed7953\"],[0.7777777777777778,\"#fb9f3a\"],[0.8888888888888888,\"#fdca26\"],[1.0,\"#f0f921\"]],\"type\":\"contour\"}],\"contourcarpet\":[{\"colorbar\":{\"outlinewidth\":0,\"ticks\":\"\"},\"type\":\"contourcarpet\"}],\"heatmap\":[{\"colorbar\":{\"outlinewidth\":0,\"ticks\":\"\"},\"colorscale\":[[0.0,\"#0d0887\"],[0.1111111111111111,\"#46039f\"],[0.2222222222222222,\"#7201a8\"],[0.3333333333333333,\"#9c179e\"],[0.4444444444444444,\"#bd3786\"],[0.5555555555555556,\"#d8576b\"],[0.6666666666666666,\"#ed7953\"],[0.7777777777777778,\"#fb9f3a\"],[0.8888888888888888,\"#fdca26\"],[1.0,\"#f0f921\"]],\"type\":\"heatmap\"}],\"heatmapgl\":[{\"colorbar\":{\"outlinewidth\":0,\"ticks\":\"\"},\"colorscale\":[[0.0,\"#0d0887\"],[0.1111111111111111,\"#46039f\"],[0.2222222222222222,\"#7201a8\"],[0.3333333333333333,\"#9c179e\"],[0.4444444444444444,\"#bd3786\"],[0.5555555555555556,\"#d8576b\"],[0.6666666666666666,\"#ed7953\"],[0.7777777777777778,\"#fb9f3a\"],[0.8888888888888888,\"#fdca26\"],[1.0,\"#f0f921\"]],\"type\":\"heatmapgl\"}],\"histogram\":[{\"marker\":{\"pattern\":{\"fillmode\":\"overlay\",\"size\":10,\"solidity\":0.2}},\"type\":\"histogram\"}],\"histogram2d\":[{\"colorbar\":{\"outlinewidth\":0,\"ticks\":\"\"},\"colorscale\":[[0.0,\"#0d0887\"],[0.1111111111111111,\"#46039f\"],[0.2222222222222222,\"#7201a8\"],[0.3333333333333333,\"#9c179e\"],[0.4444444444444444,\"#bd3786\"],[0.5555555555555556,\"#d8576b\"],[0.6666666666666666,\"#ed7953\"],[0.7777777777777778,\"#fb9f3a\"],[0.8888888888888888,\"#fdca26\"],[1.0,\"#f0f921\"]],\"type\":\"histogram2d\"}],\"histogram2dcontour\":[{\"colorbar\":{\"outlinewidth\":0,\"ticks\":\"\"},\"colorscale\":[[0.0,\"#0d0887\"],[0.1111111111111111,\"#46039f\"],[0.2222222222222222,\"#7201a8\"],[0.3333333333333333,\"#9c179e\"],[0.4444444444444444,\"#bd3786\"],[0.5555555555555556,\"#d8576b\"],[0.6666666666666666,\"#ed7953\"],[0.7777777777777778,\"#fb9f3a\"],[0.8888888888888888,\"#fdca26\"],[1.0,\"#f0f921\"]],\"type\":\"histogram2dcontour\"}],\"mesh3d\":[{\"colorbar\":{\"outlinewidth\":0,\"ticks\":\"\"},\"type\":\"mesh3d\"}],\"parcoords\":[{\"line\":{\"colorbar\":{\"outlinewidth\":0,\"ticks\":\"\"}},\"type\":\"parcoords\"}],\"pie\":[{\"automargin\":true,\"type\":\"pie\"}],\"scatter\":[{\"marker\":{\"colorbar\":{\"outlinewidth\":0,\"ticks\":\"\"}},\"type\":\"scatter\"}],\"scatter3d\":[{\"line\":{\"colorbar\":{\"outlinewidth\":0,\"ticks\":\"\"}},\"marker\":{\"colorbar\":{\"outlinewidth\":0,\"ticks\":\"\"}},\"type\":\"scatter3d\"}],\"scattercarpet\":[{\"marker\":{\"colorbar\":{\"outlinewidth\":0,\"ticks\":\"\"}},\"type\":\"scattercarpet\"}],\"scattergeo\":[{\"marker\":{\"colorbar\":{\"outlinewidth\":0,\"ticks\":\"\"}},\"type\":\"scattergeo\"}],\"scattergl\":[{\"marker\":{\"colorbar\":{\"outlinewidth\":0,\"ticks\":\"\"}},\"type\":\"scattergl\"}],\"scattermapbox\":[{\"marker\":{\"colorbar\":{\"outlinewidth\":0,\"ticks\":\"\"}},\"type\":\"scattermapbox\"}],\"scatterpolar\":[{\"marker\":{\"colorbar\":{\"outlinewidth\":0,\"ticks\":\"\"}},\"type\":\"scatterpolar\"}],\"scatterpolargl\":[{\"marker\":{\"colorbar\":{\"outlinewidth\":0,\"ticks\":\"\"}},\"type\":\"scatterpolargl\"}],\"scatterternary\":[{\"marker\":{\"colorbar\":{\"outlinewidth\":0,\"ticks\":\"\"}},\"type\":\"scatterternary\"}],\"surface\":[{\"colorbar\":{\"outlinewidth\":0,\"ticks\":\"\"},\"colorscale\":[[0.0,\"#0d0887\"],[0.1111111111111111,\"#46039f\"],[0.2222222222222222,\"#7201a8\"],[0.3333333333333333,\"#9c179e\"],[0.4444444444444444,\"#bd3786\"],[0.5555555555555556,\"#d8576b\"],[0.6666666666666666,\"#ed7953\"],[0.7777777777777778,\"#fb9f3a\"],[0.8888888888888888,\"#fdca26\"],[1.0,\"#f0f921\"]],\"type\":\"surface\"}],\"table\":[{\"cells\":{\"fill\":{\"color\":\"#EBF0F8\"},\"line\":{\"color\":\"white\"}},\"header\":{\"fill\":{\"color\":\"#C8D4E3\"},\"line\":{\"color\":\"white\"}},\"type\":\"table\"}]},\"layout\":{\"annotationdefaults\":{\"arrowcolor\":\"#2a3f5f\",\"arrowhead\":0,\"arrowwidth\":1},\"autotypenumbers\":\"strict\",\"coloraxis\":{\"colorbar\":{\"outlinewidth\":0,\"ticks\":\"\"}},\"colorscale\":{\"diverging\":[[0,\"#8e0152\"],[0.1,\"#c51b7d\"],[0.2,\"#de77ae\"],[0.3,\"#f1b6da\"],[0.4,\"#fde0ef\"],[0.5,\"#f7f7f7\"],[0.6,\"#e6f5d0\"],[0.7,\"#b8e186\"],[0.8,\"#7fbc41\"],[0.9,\"#4d9221\"],[1,\"#276419\"]],\"sequential\":[[0.0,\"#0d0887\"],[0.1111111111111111,\"#46039f\"],[0.2222222222222222,\"#7201a8\"],[0.3333333333333333,\"#9c179e\"],[0.4444444444444444,\"#bd3786\"],[0.5555555555555556,\"#d8576b\"],[0.6666666666666666,\"#ed7953\"],[0.7777777777777778,\"#fb9f3a\"],[0.8888888888888888,\"#fdca26\"],[1.0,\"#f0f921\"]],\"sequentialminus\":[[0.0,\"#0d0887\"],[0.1111111111111111,\"#46039f\"],[0.2222222222222222,\"#7201a8\"],[0.3333333333333333,\"#9c179e\"],[0.4444444444444444,\"#bd3786\"],[0.5555555555555556,\"#d8576b\"],[0.6666666666666666,\"#ed7953\"],[0.7777777777777778,\"#fb9f3a\"],[0.8888888888888888,\"#fdca26\"],[1.0,\"#f0f921\"]]},\"colorway\":[\"#636efa\",\"#EF553B\",\"#00cc96\",\"#ab63fa\",\"#FFA15A\",\"#19d3f3\",\"#FF6692\",\"#B6E880\",\"#FF97FF\",\"#FECB52\"],\"font\":{\"color\":\"#2a3f5f\"},\"geo\":{\"bgcolor\":\"white\",\"lakecolor\":\"white\",\"landcolor\":\"white\",\"showlakes\":true,\"showland\":true,\"subunitcolor\":\"#C8D4E3\"},\"hoverlabel\":{\"align\":\"left\"},\"hovermode\":\"closest\",\"mapbox\":{\"style\":\"light\"},\"paper_bgcolor\":\"white\",\"plot_bgcolor\":\"white\",\"polar\":{\"angularaxis\":{\"gridcolor\":\"#EBF0F8\",\"linecolor\":\"#EBF0F8\",\"ticks\":\"\"},\"bgcolor\":\"white\",\"radialaxis\":{\"gridcolor\":\"#EBF0F8\",\"linecolor\":\"#EBF0F8\",\"ticks\":\"\"}},\"scene\":{\"xaxis\":{\"backgroundcolor\":\"white\",\"gridcolor\":\"#DFE8F3\",\"gridwidth\":2,\"linecolor\":\"#EBF0F8\",\"showbackground\":true,\"ticks\":\"\",\"zerolinecolor\":\"#EBF0F8\"},\"yaxis\":{\"backgroundcolor\":\"white\",\"gridcolor\":\"#DFE8F3\",\"gridwidth\":2,\"linecolor\":\"#EBF0F8\",\"showbackground\":true,\"ticks\":\"\",\"zerolinecolor\":\"#EBF0F8\"},\"zaxis\":{\"backgroundcolor\":\"white\",\"gridcolor\":\"#DFE8F3\",\"gridwidth\":2,\"linecolor\":\"#EBF0F8\",\"showbackground\":true,\"ticks\":\"\",\"zerolinecolor\":\"#EBF0F8\"}},\"shapedefaults\":{\"line\":{\"color\":\"#2a3f5f\"}},\"ternary\":{\"aaxis\":{\"gridcolor\":\"#DFE8F3\",\"linecolor\":\"#A2B1C6\",\"ticks\":\"\"},\"baxis\":{\"gridcolor\":\"#DFE8F3\",\"linecolor\":\"#A2B1C6\",\"ticks\":\"\"},\"bgcolor\":\"white\",\"caxis\":{\"gridcolor\":\"#DFE8F3\",\"linecolor\":\"#A2B1C6\",\"ticks\":\"\"}},\"title\":{\"x\":0.05},\"xaxis\":{\"automargin\":true,\"gridcolor\":\"#EBF0F8\",\"linecolor\":\"#EBF0F8\",\"ticks\":\"\",\"title\":{\"standoff\":15},\"zerolinecolor\":\"#EBF0F8\",\"zerolinewidth\":2},\"yaxis\":{\"automargin\":true,\"gridcolor\":\"#EBF0F8\",\"linecolor\":\"#EBF0F8\",\"ticks\":\"\",\"title\":{\"standoff\":15},\"zerolinecolor\":\"#EBF0F8\",\"zerolinewidth\":2}}},\"margin\":{\"b\":27,\"l\":63,\"pad\":0,\"r\":10,\"t\":26},\"xaxis\":{\"anchor\":\"y\",\"domain\":[0.0,1.0],\"mirror\":\"ticks\",\"nticks\":9,\"range\":[0.0,364.0],\"showgrid\":false,\"showline\":true,\"side\":\"bottom\",\"tickfont\":{\"size\":10.0},\"ticks\":\"inside\",\"type\":\"linear\",\"zeroline\":false},\"yaxis\":{\"anchor\":\"x\",\"domain\":[0.8393316195372751,1.0],\"mirror\":\"ticks\",\"nticks\":4,\"range\":[-98.90000000000055,169716.9],\"showgrid\":false,\"showline\":true,\"side\":\"left\",\"tickfont\":{\"size\":10.0},\"ticks\":\"inside\",\"type\":\"linear\",\"zeroline\":false},\"annotations\":[{\"font\":{\"color\":\"#000000\",\"size\":12.0},\"showarrow\":false,\"text\":\"Instagram reach\",\"x\":0.49982590529247917,\"xanchor\":\"center\",\"xref\":\"paper\",\"y\":1.0476595744680852,\"yanchor\":\"bottom\",\"yref\":\"paper\"}],\"xaxis2\":{\"anchor\":\"y2\",\"domain\":[0.0,1.0],\"mirror\":\"ticks\",\"nticks\":9,\"range\":[0.0,364.0],\"showgrid\":false,\"showline\":true,\"side\":\"bottom\",\"tickfont\":{\"size\":10.0},\"ticks\":\"inside\",\"type\":\"linear\",\"zeroline\":false},\"yaxis2\":{\"anchor\":\"x2\",\"domain\":[0.55955441302485,0.720222793487575],\"mirror\":\"ticks\",\"nticks\":4,\"range\":[25786.783000000003,80421.18699999999],\"showgrid\":false,\"showline\":true,\"side\":\"left\",\"tickfont\":{\"size\":10.0},\"ticks\":\"inside\",\"type\":\"linear\",\"zeroline\":false,\"title\":{\"text\":\"Trend\",\"font\":{\"color\":\"#000000\",\"size\":10.0}}},\"xaxis3\":{\"anchor\":\"y3\",\"domain\":[0.0,1.0],\"mirror\":\"ticks\",\"nticks\":9,\"range\":[0.0,364.0],\"showgrid\":false,\"showline\":true,\"side\":\"bottom\",\"tickfont\":{\"size\":10.0},\"ticks\":\"inside\",\"type\":\"linear\",\"zeroline\":false},\"yaxis3\":{\"anchor\":\"x3\",\"domain\":[0.279777206512425,0.44044558697514996],\"mirror\":\"ticks\",\"nticks\":5,\"range\":[0.44890265497091153,1.8459037508978025],\"showgrid\":false,\"showline\":true,\"side\":\"left\",\"tickfont\":{\"size\":10.0},\"ticks\":\"inside\",\"type\":\"linear\",\"zeroline\":false,\"title\":{\"text\":\"Seasonal\",\"font\":{\"color\":\"#000000\",\"size\":10.0}}},\"xaxis4\":{\"anchor\":\"y4\",\"domain\":[0.0,1.0],\"mirror\":\"ticks\",\"nticks\":9,\"range\":[0.0,364.0],\"showgrid\":false,\"showline\":true,\"side\":\"bottom\",\"tickfont\":{\"size\":10.0},\"ticks\":\"inside\",\"type\":\"linear\",\"zeroline\":false},\"yaxis4\":{\"anchor\":\"x4\",\"domain\":[0.0,0.16066838046272497],\"mirror\":\"ticks\",\"nticks\":4,\"range\":[-0.09294891974830277,1.951927314714358],\"showgrid\":false,\"showline\":true,\"side\":\"left\",\"tickfont\":{\"size\":10.0},\"ticks\":\"inside\",\"type\":\"linear\",\"zeroline\":false,\"title\":{\"text\":\"Resid\",\"font\":{\"color\":\"#000000\",\"size\":10.0}}},\"showlegend\":false},                        {\"responsive\": true}                    ).then(function(){\n",
       "                            \n",
       "var gd = document.getElementById('c77bb92a-5859-4b29-8938-b49dc570ab57');\n",
       "var x = new MutationObserver(function (mutations, observer) {{\n",
       "        var display = window.getComputedStyle(gd).display;\n",
       "        if (!display || display === 'none') {{\n",
       "            console.log([gd, 'removed!']);\n",
       "            Plotly.purge(gd);\n",
       "            observer.disconnect();\n",
       "        }}\n",
       "}});\n",
       "\n",
       "// Listen for the removal of the full notebook cells\n",
       "var notebookContainer = gd.closest('#notebook-container');\n",
       "if (notebookContainer) {{\n",
       "    x.observe(notebookContainer, {childList: true});\n",
       "}}\n",
       "\n",
       "// Listen for the clearing of the current output cell\n",
       "var outputEl = gd.closest('.output');\n",
       "if (outputEl) {{\n",
       "    x.observe(outputEl, {childList: true});\n",
       "}}\n",
       "\n",
       "                        })                };                });            </script>        </div>"
      ]
     },
     "metadata": {},
     "output_type": "display_data"
    },
    {
     "data": {
      "text/plain": [
       "<Figure size 432x288 with 0 Axes>"
      ]
     },
     "metadata": {},
     "output_type": "display_data"
    }
   ],
   "source": [
    "from plotly.tools import mpl_to_plotly\n",
    "from statsmodels.tsa.seasonal import seasonal_decompose\n",
    "\n",
    "data = data[[\"Date\", \"Instagram reach\"]]\n",
    "\n",
    "result = seasonal_decompose(data['Instagram reach'], \n",
    "                            model='multiplicative', \n",
    "                            period=100)\n",
    "\n",
    "fig = plt.figure()\n",
    "fig = result.plot()\n",
    "\n",
    "fig = mpl_to_plotly(fig)\n",
    "fig.show()"
   ]
  },
  {
   "cell_type": "markdown",
   "id": "bf4da428",
   "metadata": {},
   "source": [
    "Set the method argument to 'ywm' to avoid the FutureWarning"
   ]
  },
  {
   "cell_type": "code",
   "execution_count": 61,
   "id": "faf03e84",
   "metadata": {},
   "outputs": [
    {
     "data": {
      "text/plain": [
       "<AxesSubplot:xlabel='Lag', ylabel='Autocorrelation'>"
      ]
     },
     "execution_count": 61,
     "metadata": {},
     "output_type": "execute_result"
    },
    {
     "data": {
      "image/png": "[encoded data removed]",
      "text/plain": [
       "<Figure size 432x288 with 1 Axes>"
      ]
     },
     "metadata": {
      "needs_background": "light"
     },
     "output_type": "display_data"
    }
   ],
   "source": [
    "#here’s how to visualize an autocorrelation plot to find the value of p\n",
    "\n",
    "pd.plotting.autocorrelation_plot(data[\"Instagram reach\"])"
   ]
  },
  {
   "cell_type": "code",
   "execution_count": 62,
   "id": "b7c0dc1d",
   "metadata": {},
   "outputs": [
    {
     "data": {
      "image/png": "[encoded data removed]",
      "text/plain": [
       "<Figure size 432x288 with 1 Axes>"
      ]
     },
     "execution_count": 62,
     "metadata": {},
     "output_type": "execute_result"
    },
    {
     "data": {
      "image/png": "[encoded data removed]",
      "text/plain": [
       "<Figure size 432x288 with 1 Axes>"
      ]
     },
     "metadata": {
      "needs_background": "light"
     },
     "output_type": "display_data"
    }
   ],
   "source": [
    "from statsmodels.graphics.tsaplots import plot_pacf\n",
    "\n",
    "# Setting the method argument to 'ywm' to avoid the FutureWarning\n",
    "plot_pacf(data[\"Instagram reach\"], lags = 100, method='ywm')"
   ]
  },
  {
   "cell_type": "markdown",
   "id": "085af916",
   "metadata": {},
   "source": [
    "Time to train a model using SARIMA"
   ]
  },
  {
   "cell_type": "code",
   "execution_count": 63,
   "id": "da110b9a",
   "metadata": {},
   "outputs": [
    {
     "name": "stderr",
     "output_type": "stream",
     "text": [
      "C:\\Users\\user\\anaconda\\lib\\site-packages\\statsmodels\\base\\model.py:604: ConvergenceWarning:\n",
      "\n",
      "Maximum Likelihood optimization failed to converge. Check mle_retvals\n",
      "\n"
     ]
    },
    {
     "name": "stdout",
     "output_type": "stream",
     "text": [
      "                                     SARIMAX Results                                      \n",
      "==========================================================================================\n",
      "Dep. Variable:                    Instagram reach   No. Observations:                  365\n",
      "Model:             SARIMAX(8, 1, 2)x(8, 1, 2, 12)   Log Likelihood               -3938.515\n",
      "Date:                            Fri, 22 Sep 2023   AIC                           7919.030\n",
      "Time:                                    03:14:51   BIC                           8000.167\n",
      "Sample:                                         0   HQIC                          7951.319\n",
      "                                            - 365                                         \n",
      "Covariance Type:                              opg                                         \n",
      "==============================================================================\n",
      "                 coef    std err          z      P>|z|      [0.025      0.975]\n",
      "------------------------------------------------------------------------------\n",
      "ar.L1          0.1903      6.826      0.028      0.978     -13.189      13.570\n",
      "ar.L2          0.4728      6.345      0.075      0.941     -11.963      12.908\n",
      "ar.L3         -0.1183      1.454     -0.081      0.935      -2.968       2.731\n",
      "ar.L4          0.0419      0.270      0.155      0.876      -0.487       0.571\n",
      "ar.L5         -0.0213      0.189     -0.113      0.910      -0.392       0.349\n",
      "ar.L6          0.0312      0.276      0.113      0.910      -0.509       0.571\n",
      "ar.L7          0.0090      0.433      0.021      0.983      -0.840       0.858\n",
      "ar.L8         -0.0134      0.242     -0.055      0.956      -0.489       0.462\n",
      "ma.L1         -0.2245      6.823     -0.033      0.974     -13.597      13.148\n",
      "ma.L2         -0.7097      6.556     -0.108      0.914     -13.559      12.139\n",
      "ar.S.L12      -1.0957      1.538     -0.712      0.476      -4.111       1.920\n",
      "ar.S.L24      -1.7529      2.290     -0.765      0.444      -6.242       2.736\n",
      "ar.S.L36      -1.4374      1.969     -0.730      0.465      -5.296       2.421\n",
      "ar.S.L48      -1.0901      1.608     -0.678      0.498      -4.243       2.062\n",
      "ar.S.L60      -0.7865      1.148     -0.685      0.493      -3.037       1.464\n",
      "ar.S.L72      -0.4502      0.809     -0.556      0.578      -2.036       1.136\n",
      "ar.S.L84      -0.2223      0.515     -0.431      0.666      -1.232       0.788\n",
      "ar.S.L96      -0.0533      0.250     -0.213      0.831      -0.543       0.436\n",
      "ma.S.L12       0.2345      1.539      0.152      0.879      -2.782       3.251\n",
      "ma.S.L24       0.8216      1.328      0.619      0.536      -1.781       3.425\n",
      "sigma2      4.863e+08   1.54e-07   3.16e+15      0.000    4.86e+08    4.86e+08\n",
      "===================================================================================\n",
      "Ljung-Box (L1) (Q):                   0.01   Jarque-Bera (JB):               214.67\n",
      "Prob(Q):                              0.94   Prob(JB):                         0.00\n",
      "Heteroskedasticity (H):               0.71   Skew:                             0.29\n",
      "Prob(H) (two-sided):                  0.07   Kurtosis:                         6.78\n",
      "===================================================================================\n",
      "\n",
      "Warnings:\n",
      "[1] Covariance matrix calculated using the outer product of gradients (complex-step).\n",
      "[2] Covariance matrix is singular or near-singular, with condition number 9.25e+31. Standard errors may be unstable.\n"
     ]
    }
   ],
   "source": [
    "p, d, q = 8, 1, 2\n",
    "\n",
    "import statsmodels.api as sm\n",
    "import warnings\n",
    "model=sm.tsa.statespace.SARIMAX(data['Instagram reach'],\n",
    "                                order=(p, d, q),\n",
    "                                seasonal_order=(p, d, q, 12))\n",
    "model=model.fit()\n",
    "print(model.summary())"
   ]
  },
  {
   "cell_type": "code",
   "execution_count": 64,
   "id": "3b45b973",
   "metadata": {},
   "outputs": [
    {
     "data": {
      "application/vnd.plotly.v1+json": {
       "config": {
        "plotlyServerURL": "https://plot.ly"
       },
       "data": [
        {
         "mode": "lines",
         "name": "Training Data",
         "type": "scatter",
         "x": [
          0,
          1,
          2,
          3,
          4,
          5,
          6,
          7,
          8,
          9,
          10,
          11,
          12,
          13,
          14,
          15,
          16,
          17,
          18,
          19,
          20,
          21,
          22,
          23,
          24,
          25,
          26,
          27,
          28,
          29,
          30,
          31,
          32,
          33,
          34,
          35,
          36,
          37,
          38,
          39,
          40,
          41,
          42,
          43,
          44,
          45,
          46,
          47,
          48,
          49,
          50,
          51,
          52,
          53,
          54,
          55,
          56,
          57,
          58,
          59,
          60,
          61,
          62,
          63,
          64,
          65,
          66,
          67,
          68,
          69,
          70,
          71,
          72,
          73,
          74,
          75,
          76,
          77,
          78,
          79,
          80,
          81,
          82,
          83,
          84,
          85,
          86,
          87,
          88,
          89,
          90,
          91,
          92,
          93,
          94,
          95,
          96,
          97,
          98,
          99,
          100,
          101,
          102,
          103,
          104,
          105,
          106,
          107,
          108,
          109,
          110,
          111,
          112,
          113,
          114,
          115,
          116,
          117,
          118,
          119,
          120,
          121,
          122,
          123,
          124,
          125,
          126,
          127,
          128,
          129,
          130,
          131,
          132,
          133,
          134,
          135,
          136,
          137,
          138,
          139,
          140,
          141,
          142,
          143,
          144,
          145,
          146,
          147,
          148,
          149,
          150,
          151,
          152,
          153,
          154,
          155,
          156,
          157,
          158,
          159,
          160,
          161,
          162,
          163,
          164,
          165,
          166,
          167,
          168,
          169,
          170,
          171,
          172,
          173,
          174,
          175,
          176,
          177,
          178,
          179,
          180,
          181,
          182,
          183,
          184,
          185,
          186,
          187,
          188,
          189,
          190,
          191,
          192,
          193,
          194,
          195,
          196,
          197,
          198,
          199,
          200,
          201,
          202,
          203,
          204,
          205,
          206,
          207,
          208,
          209,
          210,
          211,
          212,
          213,
          214,
          215,
          216,
          217,
          218,
          219,
          220,
          221,
          222,
          223,
          224,
          225,
          226,
          227,
          228,
          229,
          230,
          231,
          232,
          233,
          234,
          235,
          236,
          237,
          238,
          239,
          240,
          241,
          242,
          243,
          244,
          245,
          246,
          247,
          248,
          249,
          250,
          251,
          252,
          253,
          254,
          255,
          256,
          257,
          258,
          259,
          260,
          261,
          262,
          263,
          264,
          265,
          266,
          267,
          268,
          269,
          270,
          271,
          272,
          273,
          274,
          275,
          276,
          277,
          278,
          279,
          280,
          281,
          282,
          283,
          284,
          285,
          286,
          287,
          288,
          289,
          290,
          291,
          292,
          293,
          294,
          295,
          296,
          297,
          298,
          299,
          300,
          301,
          302,
          303,
          304,
          305,
          306,
          307,
          308,
          309,
          310,
          311,
          312,
          313,
          314,
          315,
          316,
          317,
          318,
          319,
          320,
          321,
          322,
          323,
          324,
          325,
          326,
          327,
          328,
          329,
          330,
          331,
          332,
          333,
          334,
          335,
          336,
          337,
          338,
          339,
          340,
          341,
          342,
          343,
          344,
          345,
          346,
          347,
          348,
          349,
          350,
          351,
          352,
          353,
          354,
          355,
          356,
          357,
          358,
          359,
          360,
          361,
          362,
          363,
          364
         ],
         "y": [
          7620,
          12859,
          16008,
          24349,
          20532,
          19408,
          14941,
          17263,
          20224,
          30471,
          39774,
          43550,
          42342,
          55477,
          54391,
          44108,
          49089,
          42790,
          49940,
          45763,
          38457,
          45197,
          42367,
          36076,
          34467,
          36772,
          35349,
          27926,
          26184,
          26410,
          32637,
          42204,
          47632,
          35793,
          35945,
          35574,
          26940,
          27495,
          19660,
          24138,
          23391,
          16748,
          17489,
          18171,
          29682,
          33085,
          50797,
          54392,
          35649,
          33654,
          46443,
          50465,
          51263,
          55647,
          68448,
          73815,
          74077,
          67922,
          80600,
          73835,
          83221,
          77190,
          83630,
          65133,
          72761,
          67778,
          54560,
          32643,
          24889,
          27046,
          55433,
          64168,
          69366,
          59358,
          46011,
          38286,
          89665,
          133807,
          103309,
          112461,
          114870,
          115782,
          110319,
          51336,
          54666,
          62637,
          66525,
          61001,
          73659,
          59505,
          60504,
          69593,
          76763,
          63917,
          60591,
          66350,
          62711,
          70608,
          61222,
          51758,
          62099,
          69686,
          78896,
          68331,
          59660,
          58746,
          59599,
          110544,
          117070,
          122530,
          81669,
          74793,
          82299,
          81336,
          70291,
          77767,
          62322,
          62659,
          69659,
          57778,
          55289,
          63183,
          68727,
          74334,
          72809,
          53647,
          89747,
          91473,
          88629,
          103756,
          134856,
          123226,
          134762,
          118660,
          29813,
          22671,
          18341,
          14616,
          11427,
          16703,
          10989,
          17251,
          20968,
          13249,
          14045,
          13598,
          17944,
          86559,
          114821,
          89385,
          87489,
          106211,
          92920,
          84745,
          86010,
          105478,
          129544,
          120165,
          100047,
          92885,
          120963,
          107493,
          97374,
          116321,
          105488,
          87666,
          87047,
          78212,
          77807,
          82448,
          133156,
          161998,
          142298,
          108106,
          68922,
          54147,
          72691,
          72354,
          58779,
          73231,
          53697,
          100440,
          61940,
          100277,
          80560,
          83699,
          99136,
          118015,
          94388,
          71084,
          63193,
          64780,
          48227,
          52129,
          26257,
          19469,
          22669,
          27502,
          61623,
          75694,
          33518,
          55984,
          63264,
          19509,
          20633,
          24122,
          16745,
          23674,
          38667,
          48504,
          34889,
          40588,
          74032,
          66457,
          61773,
          45842,
          32075,
          32016,
          39436,
          84987,
          50200,
          62769,
          63688,
          63829,
          44754,
          37796,
          43987,
          45479,
          40908,
          49767,
          56708,
          91287,
          54146,
          58121,
          61232,
          63271,
          70836,
          64517,
          64358,
          58697,
          50766,
          54373,
          50188,
          36290,
          36760,
          34121,
          35159,
          37259,
          36993,
          51028,
          42299,
          39843,
          43256,
          49872,
          46505,
          39585,
          30135,
          34592,
          34681,
          33083,
          31342,
          26562,
          22119,
          23183,
          20108,
          18793,
          16431,
          17075,
          16881,
          20798,
          25612,
          25070,
          22686,
          19555,
          23887,
          25451,
          21871,
          28045,
          31426,
          35156,
          30881,
          29980,
          29092,
          33687,
          38209,
          34486,
          36539,
          31826,
          29354,
          30277,
          24114,
          22497,
          36816,
          18850,
          15411,
          23006,
          22257,
          19413,
          20392,
          19793,
          23358,
          29541,
          26580,
          24459,
          26401,
          28053,
          25138,
          19939,
          48309,
          57526,
          61022,
          61822,
          26224,
          24975,
          28476,
          24834,
          27249,
          28076,
          26542,
          24477,
          25137,
          23645,
          20195,
          24079,
          25884,
          18755,
          22528,
          18026,
          20873,
          16639,
          14482,
          17726,
          32823,
          87649,
          91367,
          50625,
          12823,
          15866,
          19175,
          17065,
          56023,
          70632,
          20629,
          17595,
          31142,
          35195,
          43031,
          38135,
          22214,
          23075,
          17173,
          18978,
          45343,
          59259,
          23662,
          18075,
          16319,
          15612,
          21229,
          16080,
          15622,
          18645,
          41238,
          50490,
          22014
         ]
        },
        {
         "mode": "lines",
         "name": "Predictions",
         "type": "scatter",
         "x": [
          365,
          366,
          367,
          368,
          369,
          370,
          371,
          372,
          373,
          374,
          375,
          376,
          377,
          378,
          379,
          380,
          381,
          382,
          383,
          384,
          385,
          386,
          387,
          388,
          389,
          390,
          391,
          392,
          393,
          394,
          395,
          396,
          397,
          398,
          399,
          400,
          401,
          402,
          403,
          404,
          405,
          406,
          407,
          408,
          409,
          410,
          411,
          412,
          413,
          414,
          415,
          416,
          417,
          418,
          419,
          420,
          421,
          422,
          423,
          424,
          425,
          426,
          427,
          428,
          429,
          430,
          431,
          432,
          433,
          434,
          435,
          436,
          437,
          438,
          439,
          440,
          441,
          442,
          443,
          444,
          445,
          446,
          447,
          448,
          449,
          450,
          451,
          452,
          453,
          454,
          455,
          456,
          457,
          458,
          459,
          460,
          461,
          462,
          463,
          464,
          465
         ],
         "y": [
          17385.685187967432,
          10110.800964079222,
          12947.41755146105,
          21333.70291369576,
          32880.22000016784,
          35624.94970756469,
          29413.208341909703,
          17767.93611971176,
          18644.56179407578,
          21061.961403387617,
          18906.403729161473,
          29769.32930234355,
          31170.040225662528,
          16184.207415613233,
          16521.486990615656,
          26173.230370738725,
          41173.62349315463,
          44478.85821105108,
          33243.11721642142,
          17710.701752413184,
          17687.017042017287,
          22012.4203948013,
          19490.56307614927,
          32235.077966375935,
          36450.84270072745,
          15175.275612825113,
          13380.93349340489,
          24135.602408622333,
          35672.03264001131,
          39016.86289954776,
          29776.649399964183,
          15023.661052148364,
          15381.977773391267,
          20867.545443499646,
          22851.01960800267,
          29169.03071784138,
          33822.50045192324,
          14157.213904442448,
          12339.359992953616,
          21120.593919720293,
          34317.585752080355,
          38139.96808736963,
          28478.756381279047,
          13310.666834203907,
          14405.148051897648,
          20266.5715415173,
          22356.51072686531,
          29176.546988287668,
          33196.6525024069,
          13281.700860371087,
          13125.536665172032,
          20261.20711877187,
          34044.215322889446,
          38266.87738239027,
          27765.552258014093,
          14268.131623659636,
          14854.215061938972,
          19344.597008430843,
          18276.069915479005,
          30976.684533953747,
          35282.796811951885,
          12173.343844098737,
          11663.475441973082,
          19585.67270472875,
          31824.22451347775,
          36064.24448022615,
          25186.588698687538,
          12784.498982873098,
          13727.569643384235,
          20424.634806218623,
          21174.707357514435,
          28367.11116161436,
          32530.691436181256,
          10558.515202982537,
          8955.636793933169,
          18457.81390585199,
          28278.69342879048,
          32194.834391017106,
          24209.36627830781,
          10917.080021748912,
          12195.665621713828,
          18812.422305444856,
          21602.67567240743,
          24475.95919642337,
          27958.588417275107,
          10298.886894523184,
          9215.813922443785,
          17247.566240339744,
          28471.006352393568,
          32088.857420573062,
          24202.9643741177,
          10817.809526409777,
          11498.277652129042,
          17092.24069160158,
          17644.16834895726,
          24287.389824643276,
          27080.72702731588,
          9337.84420666331,
          9383.612669754631,
          17154.147103761337,
          31493.35775880734
         ]
        }
       ],
       "layout": {
        "template": {
         "data": {
          "bar": [
           {
            "error_x": {
             "color": "#2a3f5f"
            },
            "error_y": {
             "color": "#2a3f5f"
            },
            "marker": {
             "line": {
              "color": "white",
              "width": 0.5
             },
             "pattern": {
              "fillmode": "overlay",
              "size": 10,
              "solidity": 0.2
             }
            },
            "type": "bar"
           }
          ],
          "barpolar": [
           {
            "marker": {
             "line": {
              "color": "white",
              "width": 0.5
             },
             "pattern": {
              "fillmode": "overlay",
              "size": 10,
              "solidity": 0.2
             }
            },
            "type": "barpolar"
           }
          ],
          "carpet": [
           {
            "aaxis": {
             "endlinecolor": "#2a3f5f",
             "gridcolor": "#C8D4E3",
             "linecolor": "#C8D4E3",
             "minorgridcolor": "#C8D4E3",
             "startlinecolor": "#2a3f5f"
            },
            "baxis": {
             "endlinecolor": "#2a3f5f",
             "gridcolor": "#C8D4E3",
             "linecolor": "#C8D4E3",
             "minorgridcolor": "#C8D4E3",
             "startlinecolor": "#2a3f5f"
            },
            "type": "carpet"
           }
          ],
          "choropleth": [
           {
            "colorbar": {
             "outlinewidth": 0,
             "ticks": ""
            },
            "type": "choropleth"
           }
          ],
          "contour": [
           {
            "colorbar": {
             "outlinewidth": 0,
             "ticks": ""
            },
            "colorscale": [
             [
              0,
              "#0d0887"
             ],
             [
              0.1111111111111111,
              "#46039f"
             ],
             [
              0.2222222222222222,
              "#7201a8"
             ],
             [
              0.3333333333333333,
              "#9c179e"
             ],
             [
              0.4444444444444444,
              "#bd3786"
             ],
             [
              0.5555555555555556,
              "#d8576b"
             ],
             [
              0.6666666666666666,
              "#ed7953"
             ],
             [
              0.7777777777777778,
              "#fb9f3a"
             ],
             [
              0.8888888888888888,
              "#fdca26"
             ],
             [
              1,
              "#f0f921"
             ]
            ],
            "type": "contour"
           }
          ],
          "contourcarpet": [
           {
            "colorbar": {
             "outlinewidth": 0,
             "ticks": ""
            },
            "type": "contourcarpet"
           }
          ],
          "heatmap": [
           {
            "colorbar": {
             "outlinewidth": 0,
             "ticks": ""
            },
            "colorscale": [
             [
              0,
              "#0d0887"
             ],
             [
              0.1111111111111111,
              "#46039f"
             ],
             [
              0.2222222222222222,
              "#7201a8"
             ],
             [
              0.3333333333333333,
              "#9c179e"
             ],
             [
              0.4444444444444444,
              "#bd3786"
             ],
             [
              0.5555555555555556,
              "#d8576b"
             ],
             [
              0.6666666666666666,
              "#ed7953"
             ],
             [
              0.7777777777777778,
              "#fb9f3a"
             ],
             [
              0.8888888888888888,
              "#fdca26"
             ],
             [
              1,
              "#f0f921"
             ]
            ],
            "type": "heatmap"
           }
          ],
          "heatmapgl": [
           {
            "colorbar": {
             "outlinewidth": 0,
             "ticks": ""
            },
            "colorscale": [
             [
              0,
              "#0d0887"
             ],
             [
              0.1111111111111111,
              "#46039f"
             ],
             [
              0.2222222222222222,
              "#7201a8"
             ],
             [
              0.3333333333333333,
              "#9c179e"
             ],
             [
              0.4444444444444444,
              "#bd3786"
             ],
             [
              0.5555555555555556,
              "#d8576b"
             ],
             [
              0.6666666666666666,
              "#ed7953"
             ],
             [
              0.7777777777777778,
              "#fb9f3a"
             ],
             [
              0.8888888888888888,
              "#fdca26"
             ],
             [
              1,
              "#f0f921"
             ]
            ],
            "type": "heatmapgl"
           }
          ],
          "histogram": [
           {
            "marker": {
             "pattern": {
              "fillmode": "overlay",
              "size": 10,
              "solidity": 0.2
             }
            },
            "type": "histogram"
           }
          ],
          "histogram2d": [
           {
            "colorbar": {
             "outlinewidth": 0,
             "ticks": ""
            },
            "colorscale": [
             [
              0,
              "#0d0887"
             ],
             [
              0.1111111111111111,
              "#46039f"
             ],
             [
              0.2222222222222222,
              "#7201a8"
             ],
             [
              0.3333333333333333,
              "#9c179e"
             ],
             [
              0.4444444444444444,
              "#bd3786"
             ],
             [
              0.5555555555555556,
              "#d8576b"
             ],
             [
              0.6666666666666666,
              "#ed7953"
             ],
             [
              0.7777777777777778,
              "#fb9f3a"
             ],
             [
              0.8888888888888888,
              "#fdca26"
             ],
             [
              1,
              "#f0f921"
             ]
            ],
            "type": "histogram2d"
           }
          ],
          "histogram2dcontour": [
           {
            "colorbar": {
             "outlinewidth": 0,
             "ticks": ""
            },
            "colorscale": [
             [
              0,
              "#0d0887"
             ],
             [
              0.1111111111111111,
              "#46039f"
             ],
             [
              0.2222222222222222,
              "#7201a8"
             ],
             [
              0.3333333333333333,
              "#9c179e"
             ],
             [
              0.4444444444444444,
              "#bd3786"
             ],
             [
              0.5555555555555556,
              "#d8576b"
             ],
             [
              0.6666666666666666,
              "#ed7953"
             ],
             [
              0.7777777777777778,
              "#fb9f3a"
             ],
             [
              0.8888888888888888,
              "#fdca26"
             ],
             [
              1,
              "#f0f921"
             ]
            ],
            "type": "histogram2dcontour"
           }
          ],
          "mesh3d": [
           {
            "colorbar": {
             "outlinewidth": 0,
             "ticks": ""
            },
            "type": "mesh3d"
           }
          ],
          "parcoords": [
           {
            "line": {
             "colorbar": {
              "outlinewidth": 0,
              "ticks": ""
             }
            },
            "type": "parcoords"
           }
          ],
          "pie": [
           {
            "automargin": true,
            "type": "pie"
           }
          ],
          "scatter": [
           {
            "marker": {
             "colorbar": {
              "outlinewidth": 0,
              "ticks": ""
             }
            },
            "type": "scatter"
           }
          ],
          "scatter3d": [
           {
            "line": {
             "colorbar": {
              "outlinewidth": 0,
              "ticks": ""
             }
            },
            "marker": {
             "colorbar": {
              "outlinewidth": 0,
              "ticks": ""
             }
            },
            "type": "scatter3d"
           }
          ],
          "scattercarpet": [
           {
            "marker": {
             "colorbar": {
              "outlinewidth": 0,
              "ticks": ""
             }
            },
            "type": "scattercarpet"
           }
          ],
          "scattergeo": [
           {
            "marker": {
             "colorbar": {
              "outlinewidth": 0,
              "ticks": ""
             }
            },
            "type": "scattergeo"
           }
          ],
          "scattergl": [
           {
            "marker": {
             "colorbar": {
              "outlinewidth": 0,
              "ticks": ""
             }
            },
            "type": "scattergl"
           }
          ],
          "scattermapbox": [
           {
            "marker": {
             "colorbar": {
              "outlinewidth": 0,
              "ticks": ""
             }
            },
            "type": "scattermapbox"
           }
          ],
          "scatterpolar": [
           {
            "marker": {
             "colorbar": {
              "outlinewidth": 0,
              "ticks": ""
             }
            },
            "type": "scatterpolar"
           }
          ],
          "scatterpolargl": [
           {
            "marker": {
             "colorbar": {
              "outlinewidth": 0,
              "ticks": ""
             }
            },
            "type": "scatterpolargl"
           }
          ],
          "scatterternary": [
           {
            "marker": {
             "colorbar": {
              "outlinewidth": 0,
              "ticks": ""
             }
            },
            "type": "scatterternary"
           }
          ],
          "surface": [
           {
            "colorbar": {
             "outlinewidth": 0,
             "ticks": ""
            },
            "colorscale": [
             [
              0,
              "#0d0887"
             ],
             [
              0.1111111111111111,
              "#46039f"
             ],
             [
              0.2222222222222222,
              "#7201a8"
             ],
             [
              0.3333333333333333,
              "#9c179e"
             ],
             [
              0.4444444444444444,
              "#bd3786"
             ],
             [
              0.5555555555555556,
              "#d8576b"
             ],
             [
              0.6666666666666666,
              "#ed7953"
             ],
             [
              0.7777777777777778,
              "#fb9f3a"
             ],
             [
              0.8888888888888888,
              "#fdca26"
             ],
             [
              1,
              "#f0f921"
             ]
            ],
            "type": "surface"
           }
          ],
          "table": [
           {
            "cells": {
             "fill": {
              "color": "#EBF0F8"
             },
             "line": {
              "color": "white"
             }
            },
            "header": {
             "fill": {
              "color": "#C8D4E3"
             },
             "line": {
              "color": "white"
             }
            },
            "type": "table"
           }
          ]
         },
         "layout": {
          "annotationdefaults": {
           "arrowcolor": "#2a3f5f",
           "arrowhead": 0,
           "arrowwidth": 1
          },
          "autotypenumbers": "strict",
          "coloraxis": {
           "colorbar": {
            "outlinewidth": 0,
            "ticks": ""
           }
          },
          "colorscale": {
           "diverging": [
            [
             0,
             "#8e0152"
            ],
            [
             0.1,
             "#c51b7d"
            ],
            [
             0.2,
             "#de77ae"
            ],
            [
             0.3,
             "#f1b6da"
            ],
            [
             0.4,
             "#fde0ef"
            ],
            [
             0.5,
             "#f7f7f7"
            ],
            [
             0.6,
             "#e6f5d0"
            ],
            [
             0.7,
             "#b8e186"
            ],
            [
             0.8,
             "#7fbc41"
            ],
            [
             0.9,
             "#4d9221"
            ],
            [
             1,
             "#276419"
            ]
           ],
           "sequential": [
            [
             0,
             "#0d0887"
            ],
            [
             0.1111111111111111,
             "#46039f"
            ],
            [
             0.2222222222222222,
             "#7201a8"
            ],
            [
             0.3333333333333333,
             "#9c179e"
            ],
            [
             0.4444444444444444,
             "#bd3786"
            ],
            [
             0.5555555555555556,
             "#d8576b"
            ],
            [
             0.6666666666666666,
             "#ed7953"
            ],
            [
             0.7777777777777778,
             "#fb9f3a"
            ],
            [
             0.8888888888888888,
             "#fdca26"
            ],
            [
             1,
             "#f0f921"
            ]
           ],
           "sequentialminus": [
            [
             0,
             "#0d0887"
            ],
            [
             0.1111111111111111,
             "#46039f"
            ],
            [
             0.2222222222222222,
             "#7201a8"
            ],
            [
             0.3333333333333333,
             "#9c179e"
            ],
            [
             0.4444444444444444,
             "#bd3786"
            ],
            [
             0.5555555555555556,
             "#d8576b"
            ],
            [
             0.6666666666666666,
             "#ed7953"
            ],
            [
             0.7777777777777778,
             "#fb9f3a"
            ],
            [
             0.8888888888888888,
             "#fdca26"
            ],
            [
             1,
             "#f0f921"
            ]
           ]
          },
          "colorway": [
           "#636efa",
           "#EF553B",
           "#00cc96",
           "#ab63fa",
           "#FFA15A",
           "#19d3f3",
           "#FF6692",
           "#B6E880",
           "#FF97FF",
           "#FECB52"
          ],
          "font": {
           "color": "#2a3f5f"
          },
          "geo": {
           "bgcolor": "white",
           "lakecolor": "white",
           "landcolor": "white",
           "showlakes": true,
           "showland": true,
           "subunitcolor": "#C8D4E3"
          },
          "hoverlabel": {
           "align": "left"
          },
          "hovermode": "closest",
          "mapbox": {
           "style": "light"
          },
          "paper_bgcolor": "white",
          "plot_bgcolor": "white",
          "polar": {
           "angularaxis": {
            "gridcolor": "#EBF0F8",
            "linecolor": "#EBF0F8",
            "ticks": ""
           },
           "bgcolor": "white",
           "radialaxis": {
            "gridcolor": "#EBF0F8",
            "linecolor": "#EBF0F8",
            "ticks": ""
           }
          },
          "scene": {
           "xaxis": {
            "backgroundcolor": "white",
            "gridcolor": "#DFE8F3",
            "gridwidth": 2,
            "linecolor": "#EBF0F8",
            "showbackground": true,
            "ticks": "",
            "zerolinecolor": "#EBF0F8"
           },
           "yaxis": {
            "backgroundcolor": "white",
            "gridcolor": "#DFE8F3",
            "gridwidth": 2,
            "linecolor": "#EBF0F8",
            "showbackground": true,
            "ticks": "",
            "zerolinecolor": "#EBF0F8"
           },
           "zaxis": {
            "backgroundcolor": "white",
            "gridcolor": "#DFE8F3",
            "gridwidth": 2,
            "linecolor": "#EBF0F8",
            "showbackground": true,
            "ticks": "",
            "zerolinecolor": "#EBF0F8"
           }
          },
          "shapedefaults": {
           "line": {
            "color": "#2a3f5f"
           }
          },
          "ternary": {
           "aaxis": {
            "gridcolor": "#DFE8F3",
            "linecolor": "#A2B1C6",
            "ticks": ""
           },
           "baxis": {
            "gridcolor": "#DFE8F3",
            "linecolor": "#A2B1C6",
            "ticks": ""
           },
           "bgcolor": "white",
           "caxis": {
            "gridcolor": "#DFE8F3",
            "linecolor": "#A2B1C6",
            "ticks": ""
           }
          },
          "title": {
           "x": 0.05
          },
          "xaxis": {
           "automargin": true,
           "gridcolor": "#EBF0F8",
           "linecolor": "#EBF0F8",
           "ticks": "",
           "title": {
            "standoff": 15
           },
           "zerolinecolor": "#EBF0F8",
           "zerolinewidth": 2
          },
          "yaxis": {
           "automargin": true,
           "gridcolor": "#EBF0F8",
           "linecolor": "#EBF0F8",
           "ticks": "",
           "title": {
            "standoff": 15
           },
           "zerolinecolor": "#EBF0F8",
           "zerolinewidth": 2
          }
         }
        },
        "title": {
         "text": "Instagram Reach Time Series and Predictions"
        },
        "xaxis": {
         "title": {
          "text": "Date"
         }
        },
        "yaxis": {
         "title": {
          "text": "Instagram Reach"
         }
        }
       }
      },
      "text/html": [
       "<div>                            <div id=\"2fec6892-65ce-4202-81c4-716b75192512\" class=\"plotly-graph-div\" style=\"height:525px; width:100%;\"></div>            <script type=\"text/javascript\">                require([\"plotly\"], function(Plotly) {                    window.PLOTLYENV=window.PLOTLYENV || {};                                    if (document.getElementById(\"2fec6892-65ce-4202-81c4-716b75192512\")) {                    Plotly.newPlot(                        \"2fec6892-65ce-4202-81c4-716b75192512\",                        [{\"mode\":\"lines\",\"name\":\"Training Data\",\"x\":[0,1,2,3,4,5,6,7,8,9,10,11,12,13,14,15,16,17,18,19,20,21,22,23,24,25,26,27,28,29,30,31,32,33,34,35,36,37,38,39,40,41,42,43,44,45,46,47,48,49,50,51,52,53,54,55,56,57,58,59,60,61,62,63,64,65,66,67,68,69,70,71,72,73,74,75,76,77,78,79,80,81,82,83,84,85,86,87,88,89,90,91,92,93,94,95,96,97,98,99,100,101,102,103,104,105,106,107,108,109,110,111,112,113,114,115,116,117,118,119,120,121,122,123,124,125,126,127,128,129,130,131,132,133,134,135,136,137,138,139,140,141,142,143,144,145,146,147,148,149,150,151,152,153,154,155,156,157,158,159,160,161,162,163,164,165,166,167,168,169,170,171,172,173,174,175,176,177,178,179,180,181,182,183,184,185,186,187,188,189,190,191,192,193,194,195,196,197,198,199,200,201,202,203,204,205,206,207,208,209,210,211,212,213,214,215,216,217,218,219,220,221,222,223,224,225,226,227,228,229,230,231,232,233,234,235,236,237,238,239,240,241,242,243,244,245,246,247,248,249,250,251,252,253,254,255,256,257,258,259,260,261,262,263,264,265,266,267,268,269,270,271,272,273,274,275,276,277,278,279,280,281,282,283,284,285,286,287,288,289,290,291,292,293,294,295,296,297,298,299,300,301,302,303,304,305,306,307,308,309,310,311,312,313,314,315,316,317,318,319,320,321,322,323,324,325,326,327,328,329,330,331,332,333,334,335,336,337,338,339,340,341,342,343,344,345,346,347,348,349,350,351,352,353,354,355,356,357,358,359,360,361,362,363,364],\"y\":[7620,12859,16008,24349,20532,19408,14941,17263,20224,30471,39774,43550,42342,55477,54391,44108,49089,42790,49940,45763,38457,45197,42367,36076,34467,36772,35349,27926,26184,26410,32637,42204,47632,35793,35945,35574,26940,27495,19660,24138,23391,16748,17489,18171,29682,33085,50797,54392,35649,33654,46443,50465,51263,55647,68448,73815,74077,67922,80600,73835,83221,77190,83630,65133,72761,67778,54560,32643,24889,27046,55433,64168,69366,59358,46011,38286,89665,133807,103309,112461,114870,115782,110319,51336,54666,62637,66525,61001,73659,59505,60504,69593,76763,63917,60591,66350,62711,70608,61222,51758,62099,69686,78896,68331,59660,58746,59599,110544,117070,122530,81669,74793,82299,81336,70291,77767,62322,62659,69659,57778,55289,63183,68727,74334,72809,53647,89747,91473,88629,103756,134856,123226,134762,118660,29813,22671,18341,14616,11427,16703,10989,17251,20968,13249,14045,13598,17944,86559,114821,89385,87489,106211,92920,84745,86010,105478,129544,120165,100047,92885,120963,107493,97374,116321,105488,87666,87047,78212,77807,82448,133156,161998,142298,108106,68922,54147,72691,72354,58779,73231,53697,100440,61940,100277,80560,83699,99136,118015,94388,71084,63193,64780,48227,52129,26257,19469,22669,27502,61623,75694,33518,55984,63264,19509,20633,24122,16745,23674,38667,48504,34889,40588,74032,66457,61773,45842,32075,32016,39436,84987,50200,62769,63688,63829,44754,37796,43987,45479,40908,49767,56708,91287,54146,58121,61232,63271,70836,64517,64358,58697,50766,54373,50188,36290,36760,34121,35159,37259,36993,51028,42299,39843,43256,49872,46505,39585,30135,34592,34681,33083,31342,26562,22119,23183,20108,18793,16431,17075,16881,20798,25612,25070,22686,19555,23887,25451,21871,28045,31426,35156,30881,29980,29092,33687,38209,34486,36539,31826,29354,30277,24114,22497,36816,18850,15411,23006,22257,19413,20392,19793,23358,29541,26580,24459,26401,28053,25138,19939,48309,57526,61022,61822,26224,24975,28476,24834,27249,28076,26542,24477,25137,23645,20195,24079,25884,18755,22528,18026,20873,16639,14482,17726,32823,87649,91367,50625,12823,15866,19175,17065,56023,70632,20629,17595,31142,35195,43031,38135,22214,23075,17173,18978,45343,59259,23662,18075,16319,15612,21229,16080,15622,18645,41238,50490,22014],\"type\":\"scatter\"},{\"mode\":\"lines\",\"name\":\"Predictions\",\"x\":[365,366,367,368,369,370,371,372,373,374,375,376,377,378,379,380,381,382,383,384,385,386,387,388,389,390,391,392,393,394,395,396,397,398,399,400,401,402,403,404,405,406,407,408,409,410,411,412,413,414,415,416,417,418,419,420,421,422,423,424,425,426,427,428,429,430,431,432,433,434,435,436,437,438,439,440,441,442,443,444,445,446,447,448,449,450,451,452,453,454,455,456,457,458,459,460,461,462,463,464,465],\"y\":[17385.685187967432,10110.800964079222,12947.41755146105,21333.70291369576,32880.22000016784,35624.94970756469,29413.208341909703,17767.93611971176,18644.56179407578,21061.961403387617,18906.403729161473,29769.32930234355,31170.040225662528,16184.207415613233,16521.486990615656,26173.230370738725,41173.62349315463,44478.85821105108,33243.11721642142,17710.701752413184,17687.017042017287,22012.4203948013,19490.56307614927,32235.077966375935,36450.84270072745,15175.275612825113,13380.93349340489,24135.602408622333,35672.03264001131,39016.86289954776,29776.649399964183,15023.661052148364,15381.977773391267,20867.545443499646,22851.01960800267,29169.03071784138,33822.50045192324,14157.213904442448,12339.359992953616,21120.593919720293,34317.585752080355,38139.96808736963,28478.756381279047,13310.666834203907,14405.148051897648,20266.5715415173,22356.51072686531,29176.546988287668,33196.6525024069,13281.700860371087,13125.536665172032,20261.20711877187,34044.215322889446,38266.87738239027,27765.552258014093,14268.131623659636,14854.215061938972,19344.597008430843,18276.069915479005,30976.684533953747,35282.796811951885,12173.343844098737,11663.475441973082,19585.67270472875,31824.22451347775,36064.24448022615,25186.588698687538,12784.498982873098,13727.569643384235,20424.634806218623,21174.707357514435,28367.11116161436,32530.691436181256,10558.515202982537,8955.636793933169,18457.81390585199,28278.69342879048,32194.834391017106,24209.36627830781,10917.080021748912,12195.665621713828,18812.422305444856,21602.67567240743,24475.95919642337,27958.588417275107,10298.886894523184,9215.813922443785,17247.566240339744,28471.006352393568,32088.857420573062,24202.9643741177,10817.809526409777,11498.277652129042,17092.24069160158,17644.16834895726,24287.389824643276,27080.72702731588,9337.84420666331,9383.612669754631,17154.147103761337,31493.35775880734],\"type\":\"scatter\"}],                        {\"title\":{\"text\":\"Instagram Reach Time Series and Predictions\"},\"xaxis\":{\"title\":{\"text\":\"Date\"}},\"yaxis\":{\"title\":{\"text\":\"Instagram Reach\"}},\"template\":{\"data\":{\"bar\":[{\"error_x\":{\"color\":\"#2a3f5f\"},\"error_y\":{\"color\":\"#2a3f5f\"},\"marker\":{\"line\":{\"color\":\"white\",\"width\":0.5},\"pattern\":{\"fillmode\":\"overlay\",\"size\":10,\"solidity\":0.2}},\"type\":\"bar\"}],\"barpolar\":[{\"marker\":{\"line\":{\"color\":\"white\",\"width\":0.5},\"pattern\":{\"fillmode\":\"overlay\",\"size\":10,\"solidity\":0.2}},\"type\":\"barpolar\"}],\"carpet\":[{\"aaxis\":{\"endlinecolor\":\"#2a3f5f\",\"gridcolor\":\"#C8D4E3\",\"linecolor\":\"#C8D4E3\",\"minorgridcolor\":\"#C8D4E3\",\"startlinecolor\":\"#2a3f5f\"},\"baxis\":{\"endlinecolor\":\"#2a3f5f\",\"gridcolor\":\"#C8D4E3\",\"linecolor\":\"#C8D4E3\",\"minorgridcolor\":\"#C8D4E3\",\"startlinecolor\":\"#2a3f5f\"},\"type\":\"carpet\"}],\"choropleth\":[{\"colorbar\":{\"outlinewidth\":0,\"ticks\":\"\"},\"type\":\"choropleth\"}],\"contour\":[{\"colorbar\":{\"outlinewidth\":0,\"ticks\":\"\"},\"colorscale\":[[0.0,\"#0d0887\"],[0.1111111111111111,\"#46039f\"],[0.2222222222222222,\"#7201a8\"],[0.3333333333333333,\"#9c179e\"],[0.4444444444444444,\"#bd3786\"],[0.5555555555555556,\"#d8576b\"],[0.6666666666666666,\"#ed7953\"],[0.7777777777777778,\"#fb9f3a\"],[0.8888888888888888,\"#fdca26\"],[1.0,\"#f0f921\"]],\"type\":\"contour\"}],\"contourcarpet\":[{\"colorbar\":{\"outlinewidth\":0,\"ticks\":\"\"},\"type\":\"contourcarpet\"}],\"heatmap\":[{\"colorbar\":{\"outlinewidth\":0,\"ticks\":\"\"},\"colorscale\":[[0.0,\"#0d0887\"],[0.1111111111111111,\"#46039f\"],[0.2222222222222222,\"#7201a8\"],[0.3333333333333333,\"#9c179e\"],[0.4444444444444444,\"#bd3786\"],[0.5555555555555556,\"#d8576b\"],[0.6666666666666666,\"#ed7953\"],[0.7777777777777778,\"#fb9f3a\"],[0.8888888888888888,\"#fdca26\"],[1.0,\"#f0f921\"]],\"type\":\"heatmap\"}],\"heatmapgl\":[{\"colorbar\":{\"outlinewidth\":0,\"ticks\":\"\"},\"colorscale\":[[0.0,\"#0d0887\"],[0.1111111111111111,\"#46039f\"],[0.2222222222222222,\"#7201a8\"],[0.3333333333333333,\"#9c179e\"],[0.4444444444444444,\"#bd3786\"],[0.5555555555555556,\"#d8576b\"],[0.6666666666666666,\"#ed7953\"],[0.7777777777777778,\"#fb9f3a\"],[0.8888888888888888,\"#fdca26\"],[1.0,\"#f0f921\"]],\"type\":\"heatmapgl\"}],\"histogram\":[{\"marker\":{\"pattern\":{\"fillmode\":\"overlay\",\"size\":10,\"solidity\":0.2}},\"type\":\"histogram\"}],\"histogram2d\":[{\"colorbar\":{\"outlinewidth\":0,\"ticks\":\"\"},\"colorscale\":[[0.0,\"#0d0887\"],[0.1111111111111111,\"#46039f\"],[0.2222222222222222,\"#7201a8\"],[0.3333333333333333,\"#9c179e\"],[0.4444444444444444,\"#bd3786\"],[0.5555555555555556,\"#d8576b\"],[0.6666666666666666,\"#ed7953\"],[0.7777777777777778,\"#fb9f3a\"],[0.8888888888888888,\"#fdca26\"],[1.0,\"#f0f921\"]],\"type\":\"histogram2d\"}],\"histogram2dcontour\":[{\"colorbar\":{\"outlinewidth\":0,\"ticks\":\"\"},\"colorscale\":[[0.0,\"#0d0887\"],[0.1111111111111111,\"#46039f\"],[0.2222222222222222,\"#7201a8\"],[0.3333333333333333,\"#9c179e\"],[0.4444444444444444,\"#bd3786\"],[0.5555555555555556,\"#d8576b\"],[0.6666666666666666,\"#ed7953\"],[0.7777777777777778,\"#fb9f3a\"],[0.8888888888888888,\"#fdca26\"],[1.0,\"#f0f921\"]],\"type\":\"histogram2dcontour\"}],\"mesh3d\":[{\"colorbar\":{\"outlinewidth\":0,\"ticks\":\"\"},\"type\":\"mesh3d\"}],\"parcoords\":[{\"line\":{\"colorbar\":{\"outlinewidth\":0,\"ticks\":\"\"}},\"type\":\"parcoords\"}],\"pie\":[{\"automargin\":true,\"type\":\"pie\"}],\"scatter\":[{\"marker\":{\"colorbar\":{\"outlinewidth\":0,\"ticks\":\"\"}},\"type\":\"scatter\"}],\"scatter3d\":[{\"line\":{\"colorbar\":{\"outlinewidth\":0,\"ticks\":\"\"}},\"marker\":{\"colorbar\":{\"outlinewidth\":0,\"ticks\":\"\"}},\"type\":\"scatter3d\"}],\"scattercarpet\":[{\"marker\":{\"colorbar\":{\"outlinewidth\":0,\"ticks\":\"\"}},\"type\":\"scattercarpet\"}],\"scattergeo\":[{\"marker\":{\"colorbar\":{\"outlinewidth\":0,\"ticks\":\"\"}},\"type\":\"scattergeo\"}],\"scattergl\":[{\"marker\":{\"colorbar\":{\"outlinewidth\":0,\"ticks\":\"\"}},\"type\":\"scattergl\"}],\"scattermapbox\":[{\"marker\":{\"colorbar\":{\"outlinewidth\":0,\"ticks\":\"\"}},\"type\":\"scattermapbox\"}],\"scatterpolar\":[{\"marker\":{\"colorbar\":{\"outlinewidth\":0,\"ticks\":\"\"}},\"type\":\"scatterpolar\"}],\"scatterpolargl\":[{\"marker\":{\"colorbar\":{\"outlinewidth\":0,\"ticks\":\"\"}},\"type\":\"scatterpolargl\"}],\"scatterternary\":[{\"marker\":{\"colorbar\":{\"outlinewidth\":0,\"ticks\":\"\"}},\"type\":\"scatterternary\"}],\"surface\":[{\"colorbar\":{\"outlinewidth\":0,\"ticks\":\"\"},\"colorscale\":[[0.0,\"#0d0887\"],[0.1111111111111111,\"#46039f\"],[0.2222222222222222,\"#7201a8\"],[0.3333333333333333,\"#9c179e\"],[0.4444444444444444,\"#bd3786\"],[0.5555555555555556,\"#d8576b\"],[0.6666666666666666,\"#ed7953\"],[0.7777777777777778,\"#fb9f3a\"],[0.8888888888888888,\"#fdca26\"],[1.0,\"#f0f921\"]],\"type\":\"surface\"}],\"table\":[{\"cells\":{\"fill\":{\"color\":\"#EBF0F8\"},\"line\":{\"color\":\"white\"}},\"header\":{\"fill\":{\"color\":\"#C8D4E3\"},\"line\":{\"color\":\"white\"}},\"type\":\"table\"}]},\"layout\":{\"annotationdefaults\":{\"arrowcolor\":\"#2a3f5f\",\"arrowhead\":0,\"arrowwidth\":1},\"autotypenumbers\":\"strict\",\"coloraxis\":{\"colorbar\":{\"outlinewidth\":0,\"ticks\":\"\"}},\"colorscale\":{\"diverging\":[[0,\"#8e0152\"],[0.1,\"#c51b7d\"],[0.2,\"#de77ae\"],[0.3,\"#f1b6da\"],[0.4,\"#fde0ef\"],[0.5,\"#f7f7f7\"],[0.6,\"#e6f5d0\"],[0.7,\"#b8e186\"],[0.8,\"#7fbc41\"],[0.9,\"#4d9221\"],[1,\"#276419\"]],\"sequential\":[[0.0,\"#0d0887\"],[0.1111111111111111,\"#46039f\"],[0.2222222222222222,\"#7201a8\"],[0.3333333333333333,\"#9c179e\"],[0.4444444444444444,\"#bd3786\"],[0.5555555555555556,\"#d8576b\"],[0.6666666666666666,\"#ed7953\"],[0.7777777777777778,\"#fb9f3a\"],[0.8888888888888888,\"#fdca26\"],[1.0,\"#f0f921\"]],\"sequentialminus\":[[0.0,\"#0d0887\"],[0.1111111111111111,\"#46039f\"],[0.2222222222222222,\"#7201a8\"],[0.3333333333333333,\"#9c179e\"],[0.4444444444444444,\"#bd3786\"],[0.5555555555555556,\"#d8576b\"],[0.6666666666666666,\"#ed7953\"],[0.7777777777777778,\"#fb9f3a\"],[0.8888888888888888,\"#fdca26\"],[1.0,\"#f0f921\"]]},\"colorway\":[\"#636efa\",\"#EF553B\",\"#00cc96\",\"#ab63fa\",\"#FFA15A\",\"#19d3f3\",\"#FF6692\",\"#B6E880\",\"#FF97FF\",\"#FECB52\"],\"font\":{\"color\":\"#2a3f5f\"},\"geo\":{\"bgcolor\":\"white\",\"lakecolor\":\"white\",\"landcolor\":\"white\",\"showlakes\":true,\"showland\":true,\"subunitcolor\":\"#C8D4E3\"},\"hoverlabel\":{\"align\":\"left\"},\"hovermode\":\"closest\",\"mapbox\":{\"style\":\"light\"},\"paper_bgcolor\":\"white\",\"plot_bgcolor\":\"white\",\"polar\":{\"angularaxis\":{\"gridcolor\":\"#EBF0F8\",\"linecolor\":\"#EBF0F8\",\"ticks\":\"\"},\"bgcolor\":\"white\",\"radialaxis\":{\"gridcolor\":\"#EBF0F8\",\"linecolor\":\"#EBF0F8\",\"ticks\":\"\"}},\"scene\":{\"xaxis\":{\"backgroundcolor\":\"white\",\"gridcolor\":\"#DFE8F3\",\"gridwidth\":2,\"linecolor\":\"#EBF0F8\",\"showbackground\":true,\"ticks\":\"\",\"zerolinecolor\":\"#EBF0F8\"},\"yaxis\":{\"backgroundcolor\":\"white\",\"gridcolor\":\"#DFE8F3\",\"gridwidth\":2,\"linecolor\":\"#EBF0F8\",\"showbackground\":true,\"ticks\":\"\",\"zerolinecolor\":\"#EBF0F8\"},\"zaxis\":{\"backgroundcolor\":\"white\",\"gridcolor\":\"#DFE8F3\",\"gridwidth\":2,\"linecolor\":\"#EBF0F8\",\"showbackground\":true,\"ticks\":\"\",\"zerolinecolor\":\"#EBF0F8\"}},\"shapedefaults\":{\"line\":{\"color\":\"#2a3f5f\"}},\"ternary\":{\"aaxis\":{\"gridcolor\":\"#DFE8F3\",\"linecolor\":\"#A2B1C6\",\"ticks\":\"\"},\"baxis\":{\"gridcolor\":\"#DFE8F3\",\"linecolor\":\"#A2B1C6\",\"ticks\":\"\"},\"bgcolor\":\"white\",\"caxis\":{\"gridcolor\":\"#DFE8F3\",\"linecolor\":\"#A2B1C6\",\"ticks\":\"\"}},\"title\":{\"x\":0.05},\"xaxis\":{\"automargin\":true,\"gridcolor\":\"#EBF0F8\",\"linecolor\":\"#EBF0F8\",\"ticks\":\"\",\"title\":{\"standoff\":15},\"zerolinecolor\":\"#EBF0F8\",\"zerolinewidth\":2},\"yaxis\":{\"automargin\":true,\"gridcolor\":\"#EBF0F8\",\"linecolor\":\"#EBF0F8\",\"ticks\":\"\",\"title\":{\"standoff\":15},\"zerolinecolor\":\"#EBF0F8\",\"zerolinewidth\":2}}}},                        {\"responsive\": true}                    ).then(function(){\n",
       "                            \n",
       "var gd = document.getElementById('2fec6892-65ce-4202-81c4-716b75192512');\n",
       "var x = new MutationObserver(function (mutations, observer) {{\n",
       "        var display = window.getComputedStyle(gd).display;\n",
       "        if (!display || display === 'none') {{\n",
       "            console.log([gd, 'removed!']);\n",
       "            Plotly.purge(gd);\n",
       "            observer.disconnect();\n",
       "        }}\n",
       "}});\n",
       "\n",
       "// Listen for the removal of the full notebook cells\n",
       "var notebookContainer = gd.closest('#notebook-container');\n",
       "if (notebookContainer) {{\n",
       "    x.observe(notebookContainer, {childList: true});\n",
       "}}\n",
       "\n",
       "// Listen for the clearing of the current output cell\n",
       "var outputEl = gd.closest('.output');\n",
       "if (outputEl) {{\n",
       "    x.observe(outputEl, {childList: true});\n",
       "}}\n",
       "\n",
       "                        })                };                });            </script>        </div>"
      ]
     },
     "metadata": {},
     "output_type": "display_data"
    }
   ],
   "source": [
    "# plotting the predictions\n",
    "\n",
    "predictions = model.predict(len(data), len(data)+100)\n",
    "\n",
    "trace_train = go.Scatter(x=data.index, \n",
    "                         y=data[\"Instagram reach\"], \n",
    "                         mode=\"lines\", \n",
    "                         name=\"Training Data\")\n",
    "trace_pred = go.Scatter(x=predictions.index, \n",
    "                        y=predictions, \n",
    "                        mode=\"lines\", \n",
    "                        name=\"Predictions\")\n",
    "\n",
    "layout = go.Layout(title=\"Instagram Reach Time Series and Predictions\", \n",
    "                   xaxis_title=\"Date\", \n",
    "                   yaxis_title=\"Instagram Reach\")\n",
    "\n",
    "fig = go.Figure(data=[trace_train, trace_pred], layout=layout)\n",
    "fig.show()"
   ]
  },
  {
   "cell_type": "code",
   "execution_count": null,
   "id": "60821751",
   "metadata": {},
   "outputs": [],
   "source": []
  },
  {
   "cell_type": "code",
   "execution_count": null,
   "id": "58faff42",
   "metadata": {},
   "outputs": [],
   "source": []
  }
 ],
 "metadata": {
  "kernelspec": {
   "display_name": "Python 3 (ipykernel)",
   "language": "python",
   "name": "python3"
  },
  "language_info": {
   "codemirror_mode": {
    "name": "ipython",
    "version": 3
   },
   "file_extension": ".py",
   "mimetype": "text/x-python",
   "name": "python",
   "nbconvert_exporter": "python",
   "pygments_lexer": "ipython3",
   "version": "3.9.12"
  }
 },
 "nbformat": 4,
 "nbformat_minor": 5
}
