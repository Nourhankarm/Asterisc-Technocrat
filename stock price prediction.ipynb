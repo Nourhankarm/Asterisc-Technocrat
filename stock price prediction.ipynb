{
 "cells": [
  {
   "cell_type": "markdown",
   "id": "fbf294aa",
   "metadata": {},
   "source": [
    "Task 3\n",
    "EDA for Stock Prices data and Build a predictive model that can predict stock prices Using Linear Regression Algorithm"
   ]
  },
  {
   "cell_type": "code",
   "execution_count": 5,
   "id": "6053bfa4",
   "metadata": {},
   "outputs": [],
   "source": [
    "import pandas as pd\n",
    "import seaborn as sns\n",
    "import numpy as np\n",
    "import matplotlib.pyplot as plt\n",
    "from sklearn.model_selection import train_test_split\n",
    "from sklearn.ensemble import RandomForestRegressor\n",
    "from sklearn import metrics\n",
    "import warnings\n",
    "warnings.filterwarnings(\"ignore\")\n",
    "%matplotlib inline"
   ]
  },
  {
   "cell_type": "code",
   "execution_count": 6,
   "id": "60b6299c",
   "metadata": {},
   "outputs": [
    {
     "data": {
      "text/html": [
       "<div>\n",
       "<style scoped>\n",
       "    .dataframe tbody tr th:only-of-type {\n",
       "        vertical-align: middle;\n",
       "    }\n",
       "\n",
       "    .dataframe tbody tr th {\n",
       "        vertical-align: top;\n",
       "    }\n",
       "\n",
       "    .dataframe thead th {\n",
       "        text-align: right;\n",
       "    }\n",
       "</style>\n",
       "<table border=\"1\" class=\"dataframe\">\n",
       "  <thead>\n",
       "    <tr style=\"text-align: right;\">\n",
       "      <th></th>\n",
       "      <th>Date</th>\n",
       "      <th>Open</th>\n",
       "      <th>High</th>\n",
       "      <th>Low</th>\n",
       "      <th>Close</th>\n",
       "      <th>Adj Close</th>\n",
       "      <th>Volume</th>\n",
       "    </tr>\n",
       "  </thead>\n",
       "  <tbody>\n",
       "    <tr>\n",
       "      <th>0</th>\n",
       "      <td>2020-01-27</td>\n",
       "      <td>71.320000</td>\n",
       "      <td>71.635002</td>\n",
       "      <td>71.320000</td>\n",
       "      <td>71.324997</td>\n",
       "      <td>71.324997</td>\n",
       "      <td>0</td>\n",
       "    </tr>\n",
       "    <tr>\n",
       "      <th>1</th>\n",
       "      <td>2020-01-28</td>\n",
       "      <td>71.654999</td>\n",
       "      <td>71.654999</td>\n",
       "      <td>71.178001</td>\n",
       "      <td>71.440002</td>\n",
       "      <td>71.440002</td>\n",
       "      <td>0</td>\n",
       "    </tr>\n",
       "    <tr>\n",
       "      <th>2</th>\n",
       "      <td>2020-01-29</td>\n",
       "      <td>71.230103</td>\n",
       "      <td>71.425003</td>\n",
       "      <td>71.168503</td>\n",
       "      <td>71.230400</td>\n",
       "      <td>71.230400</td>\n",
       "      <td>0</td>\n",
       "    </tr>\n",
       "    <tr>\n",
       "      <th>3</th>\n",
       "      <td>2020-01-30</td>\n",
       "      <td>71.300003</td>\n",
       "      <td>71.711998</td>\n",
       "      <td>71.300003</td>\n",
       "      <td>71.300003</td>\n",
       "      <td>71.300003</td>\n",
       "      <td>0</td>\n",
       "    </tr>\n",
       "    <tr>\n",
       "      <th>4</th>\n",
       "      <td>2020-01-31</td>\n",
       "      <td>71.639999</td>\n",
       "      <td>71.639999</td>\n",
       "      <td>71.277496</td>\n",
       "      <td>71.639999</td>\n",
       "      <td>71.639999</td>\n",
       "      <td>0</td>\n",
       "    </tr>\n",
       "    <tr>\n",
       "      <th>...</th>\n",
       "      <td>...</td>\n",
       "      <td>...</td>\n",
       "      <td>...</td>\n",
       "      <td>...</td>\n",
       "      <td>...</td>\n",
       "      <td>...</td>\n",
       "      <td>...</td>\n",
       "    </tr>\n",
       "    <tr>\n",
       "      <th>257</th>\n",
       "      <td>2021-01-20</td>\n",
       "      <td>73.192001</td>\n",
       "      <td>73.192299</td>\n",
       "      <td>72.899300</td>\n",
       "      <td>73.191902</td>\n",
       "      <td>73.191902</td>\n",
       "      <td>0</td>\n",
       "    </tr>\n",
       "    <tr>\n",
       "      <th>258</th>\n",
       "      <td>2021-01-21</td>\n",
       "      <td>72.907898</td>\n",
       "      <td>73.045303</td>\n",
       "      <td>72.883003</td>\n",
       "      <td>72.910896</td>\n",
       "      <td>72.910896</td>\n",
       "      <td>0</td>\n",
       "    </tr>\n",
       "    <tr>\n",
       "      <th>259</th>\n",
       "      <td>2021-01-22</td>\n",
       "      <td>72.954903</td>\n",
       "      <td>73.237503</td>\n",
       "      <td>72.929001</td>\n",
       "      <td>72.954903</td>\n",
       "      <td>72.954903</td>\n",
       "      <td>0</td>\n",
       "    </tr>\n",
       "    <tr>\n",
       "      <th>260</th>\n",
       "      <td>2021-01-25</td>\n",
       "      <td>72.995903</td>\n",
       "      <td>73.220001</td>\n",
       "      <td>72.877998</td>\n",
       "      <td>72.995903</td>\n",
       "      <td>72.995903</td>\n",
       "      <td>0</td>\n",
       "    </tr>\n",
       "    <tr>\n",
       "      <th>261</th>\n",
       "      <td>2021-01-26</td>\n",
       "      <td>72.970001</td>\n",
       "      <td>73.222000</td>\n",
       "      <td>72.774498</td>\n",
       "      <td>72.970001</td>\n",
       "      <td>72.970001</td>\n",
       "      <td>0</td>\n",
       "    </tr>\n",
       "  </tbody>\n",
       "</table>\n",
       "<p>262 rows × 7 columns</p>\n",
       "</div>"
      ],
      "text/plain": [
       "           Date       Open       High        Low      Close  Adj Close  Volume\n",
       "0    2020-01-27  71.320000  71.635002  71.320000  71.324997  71.324997       0\n",
       "1    2020-01-28  71.654999  71.654999  71.178001  71.440002  71.440002       0\n",
       "2    2020-01-29  71.230103  71.425003  71.168503  71.230400  71.230400       0\n",
       "3    2020-01-30  71.300003  71.711998  71.300003  71.300003  71.300003       0\n",
       "4    2020-01-31  71.639999  71.639999  71.277496  71.639999  71.639999       0\n",
       "..          ...        ...        ...        ...        ...        ...     ...\n",
       "257  2021-01-20  73.192001  73.192299  72.899300  73.191902  73.191902       0\n",
       "258  2021-01-21  72.907898  73.045303  72.883003  72.910896  72.910896       0\n",
       "259  2021-01-22  72.954903  73.237503  72.929001  72.954903  72.954903       0\n",
       "260  2021-01-25  72.995903  73.220001  72.877998  72.995903  72.995903       0\n",
       "261  2021-01-26  72.970001  73.222000  72.774498  72.970001  72.970001       0\n",
       "\n",
       "[262 rows x 7 columns]"
      ]
     },
     "execution_count": 6,
     "metadata": {},
     "output_type": "execute_result"
    }
   ],
   "source": [
    "\n",
    "stock=pd.read_csv('INR=X.csv')\n",
    "stock"
   ]
  },
  {
   "cell_type": "code",
   "execution_count": 7,
   "id": "c4337ad2",
   "metadata": {},
   "outputs": [
    {
     "data": {
      "text/plain": [
       "Date         0\n",
       "Open         0\n",
       "High         0\n",
       "Low          0\n",
       "Close        0\n",
       "Adj Close    0\n",
       "Volume       0\n",
       "dtype: int64"
      ]
     },
     "execution_count": 7,
     "metadata": {},
     "output_type": "execute_result"
    }
   ],
   "source": [
    "stock.isnull().sum()"
   ]
  },
  {
   "cell_type": "code",
   "execution_count": 8,
   "id": "39dbe761",
   "metadata": {},
   "outputs": [
    {
     "data": {
      "text/plain": [
       "(262, 7)"
      ]
     },
     "execution_count": 8,
     "metadata": {},
     "output_type": "execute_result"
    }
   ],
   "source": [
    "stock.shape"
   ]
  },
  {
   "cell_type": "code",
   "execution_count": 9,
   "id": "278770bb",
   "metadata": {},
   "outputs": [
    {
     "data": {
      "text/html": [
       "<div>\n",
       "<style scoped>\n",
       "    .dataframe tbody tr th:only-of-type {\n",
       "        vertical-align: middle;\n",
       "    }\n",
       "\n",
       "    .dataframe tbody tr th {\n",
       "        vertical-align: top;\n",
       "    }\n",
       "\n",
       "    .dataframe thead th {\n",
       "        text-align: right;\n",
       "    }\n",
       "</style>\n",
       "<table border=\"1\" class=\"dataframe\">\n",
       "  <thead>\n",
       "    <tr style=\"text-align: right;\">\n",
       "      <th></th>\n",
       "      <th>Open</th>\n",
       "      <th>High</th>\n",
       "      <th>Low</th>\n",
       "      <th>Close</th>\n",
       "      <th>Adj Close</th>\n",
       "      <th>Volume</th>\n",
       "    </tr>\n",
       "  </thead>\n",
       "  <tbody>\n",
       "    <tr>\n",
       "      <th>count</th>\n",
       "      <td>262.000000</td>\n",
       "      <td>262.000000</td>\n",
       "      <td>262.000000</td>\n",
       "      <td>262.000000</td>\n",
       "      <td>262.000000</td>\n",
       "      <td>262.0</td>\n",
       "    </tr>\n",
       "    <tr>\n",
       "      <th>mean</th>\n",
       "      <td>74.373533</td>\n",
       "      <td>74.631087</td>\n",
       "      <td>74.011048</td>\n",
       "      <td>74.358489</td>\n",
       "      <td>74.358489</td>\n",
       "      <td>0.0</td>\n",
       "    </tr>\n",
       "    <tr>\n",
       "      <th>std</th>\n",
       "      <td>1.417620</td>\n",
       "      <td>1.494521</td>\n",
       "      <td>1.311330</td>\n",
       "      <td>1.426245</td>\n",
       "      <td>1.426245</td>\n",
       "      <td>0.0</td>\n",
       "    </tr>\n",
       "    <tr>\n",
       "      <th>min</th>\n",
       "      <td>71.100403</td>\n",
       "      <td>71.279999</td>\n",
       "      <td>71.064003</td>\n",
       "      <td>71.099998</td>\n",
       "      <td>71.099998</td>\n",
       "      <td>0.0</td>\n",
       "    </tr>\n",
       "    <tr>\n",
       "      <th>25%</th>\n",
       "      <td>73.546175</td>\n",
       "      <td>73.706577</td>\n",
       "      <td>73.202003</td>\n",
       "      <td>73.531049</td>\n",
       "      <td>73.531049</td>\n",
       "      <td>0.0</td>\n",
       "    </tr>\n",
       "    <tr>\n",
       "      <th>50%</th>\n",
       "      <td>74.332001</td>\n",
       "      <td>74.531300</td>\n",
       "      <td>73.881748</td>\n",
       "      <td>74.275799</td>\n",
       "      <td>74.275799</td>\n",
       "      <td>0.0</td>\n",
       "    </tr>\n",
       "    <tr>\n",
       "      <th>75%</th>\n",
       "      <td>75.484551</td>\n",
       "      <td>75.737499</td>\n",
       "      <td>75.067053</td>\n",
       "      <td>75.489424</td>\n",
       "      <td>75.489424</td>\n",
       "      <td>0.0</td>\n",
       "    </tr>\n",
       "    <tr>\n",
       "      <th>max</th>\n",
       "      <td>77.684998</td>\n",
       "      <td>77.754997</td>\n",
       "      <td>76.496300</td>\n",
       "      <td>77.570000</td>\n",
       "      <td>77.570000</td>\n",
       "      <td>0.0</td>\n",
       "    </tr>\n",
       "  </tbody>\n",
       "</table>\n",
       "</div>"
      ],
      "text/plain": [
       "             Open        High         Low       Close   Adj Close  Volume\n",
       "count  262.000000  262.000000  262.000000  262.000000  262.000000   262.0\n",
       "mean    74.373533   74.631087   74.011048   74.358489   74.358489     0.0\n",
       "std      1.417620    1.494521    1.311330    1.426245    1.426245     0.0\n",
       "min     71.100403   71.279999   71.064003   71.099998   71.099998     0.0\n",
       "25%     73.546175   73.706577   73.202003   73.531049   73.531049     0.0\n",
       "50%     74.332001   74.531300   73.881748   74.275799   74.275799     0.0\n",
       "75%     75.484551   75.737499   75.067053   75.489424   75.489424     0.0\n",
       "max     77.684998   77.754997   76.496300   77.570000   77.570000     0.0"
      ]
     },
     "execution_count": 9,
     "metadata": {},
     "output_type": "execute_result"
    }
   ],
   "source": [
    "stock.describe()"
   ]
  },
  {
   "cell_type": "code",
   "execution_count": 10,
   "id": "73a134ec",
   "metadata": {},
   "outputs": [
    {
     "data": {
      "text/html": [
       "<div>\n",
       "<style scoped>\n",
       "    .dataframe tbody tr th:only-of-type {\n",
       "        vertical-align: middle;\n",
       "    }\n",
       "\n",
       "    .dataframe tbody tr th {\n",
       "        vertical-align: top;\n",
       "    }\n",
       "\n",
       "    .dataframe thead th {\n",
       "        text-align: right;\n",
       "    }\n",
       "</style>\n",
       "<table border=\"1\" class=\"dataframe\">\n",
       "  <thead>\n",
       "    <tr style=\"text-align: right;\">\n",
       "      <th></th>\n",
       "      <th>Open</th>\n",
       "      <th>High</th>\n",
       "      <th>Low</th>\n",
       "      <th>Close</th>\n",
       "      <th>Adj Close</th>\n",
       "      <th>Volume</th>\n",
       "    </tr>\n",
       "  </thead>\n",
       "  <tbody>\n",
       "    <tr>\n",
       "      <th>Open</th>\n",
       "      <td>1.000000</td>\n",
       "      <td>0.977461</td>\n",
       "      <td>0.973483</td>\n",
       "      <td>0.988920</td>\n",
       "      <td>0.988920</td>\n",
       "      <td>NaN</td>\n",
       "    </tr>\n",
       "    <tr>\n",
       "      <th>High</th>\n",
       "      <td>0.977461</td>\n",
       "      <td>1.000000</td>\n",
       "      <td>0.960726</td>\n",
       "      <td>0.976949</td>\n",
       "      <td>0.976949</td>\n",
       "      <td>NaN</td>\n",
       "    </tr>\n",
       "    <tr>\n",
       "      <th>Low</th>\n",
       "      <td>0.973483</td>\n",
       "      <td>0.960726</td>\n",
       "      <td>1.000000</td>\n",
       "      <td>0.979301</td>\n",
       "      <td>0.979301</td>\n",
       "      <td>NaN</td>\n",
       "    </tr>\n",
       "    <tr>\n",
       "      <th>Close</th>\n",
       "      <td>0.988920</td>\n",
       "      <td>0.976949</td>\n",
       "      <td>0.979301</td>\n",
       "      <td>1.000000</td>\n",
       "      <td>1.000000</td>\n",
       "      <td>NaN</td>\n",
       "    </tr>\n",
       "    <tr>\n",
       "      <th>Adj Close</th>\n",
       "      <td>0.988920</td>\n",
       "      <td>0.976949</td>\n",
       "      <td>0.979301</td>\n",
       "      <td>1.000000</td>\n",
       "      <td>1.000000</td>\n",
       "      <td>NaN</td>\n",
       "    </tr>\n",
       "    <tr>\n",
       "      <th>Volume</th>\n",
       "      <td>NaN</td>\n",
       "      <td>NaN</td>\n",
       "      <td>NaN</td>\n",
       "      <td>NaN</td>\n",
       "      <td>NaN</td>\n",
       "      <td>NaN</td>\n",
       "    </tr>\n",
       "  </tbody>\n",
       "</table>\n",
       "</div>"
      ],
      "text/plain": [
       "               Open      High       Low     Close  Adj Close  Volume\n",
       "Open       1.000000  0.977461  0.973483  0.988920   0.988920     NaN\n",
       "High       0.977461  1.000000  0.960726  0.976949   0.976949     NaN\n",
       "Low        0.973483  0.960726  1.000000  0.979301   0.979301     NaN\n",
       "Close      0.988920  0.976949  0.979301  1.000000   1.000000     NaN\n",
       "Adj Close  0.988920  0.976949  0.979301  1.000000   1.000000     NaN\n",
       "Volume          NaN       NaN       NaN       NaN        NaN     NaN"
      ]
     },
     "execution_count": 10,
     "metadata": {},
     "output_type": "execute_result"
    }
   ],
   "source": [
    "correlation=stock.corr()\n",
    "correlation"
   ]
  },
  {
   "cell_type": "code",
   "execution_count": 11,
   "id": "b8a3c5d3",
   "metadata": {},
   "outputs": [
    {
     "data": {
      "text/plain": [
       "<AxesSubplot:>"
      ]
     },
     "execution_count": 11,
     "metadata": {},
     "output_type": "execute_result"
    },
    {
     "data": {
      "image/png": "[encoded data removed]",
      "text/plain": [
       "<Figure size 720x720 with 2 Axes>"
      ]
     },
     "metadata": {
      "needs_background": "light"
     },
     "output_type": "display_data"
    }
   ],
   "source": [
    "plt.figure(figsize=(10,10))\n",
    "sns.heatmap(correlation, cbar=True, square=True, fmt='.1f', annot=True, annot_kws={'size':8}, cmap='Blues')"
   ]
  },
  {
   "cell_type": "code",
   "execution_count": 10,
   "id": "d52a07b6",
   "metadata": {},
   "outputs": [
    {
     "data": {
      "image/png": "[encoded data removed]",
      "text/plain": [
       "<Figure size 1440x720 with 6 Axes>"
      ]
     },
     "metadata": {
      "needs_background": "light"
     },
     "output_type": "display_data"
    }
   ],
   "source": [
    "fig, ((ax1, ax2, ax3), (ax4, ax5, ax6)) = plt.subplots(2, 3, figsize=(20, 10))\n",
    "\n",
    "ax1.plot(stock['Open'])\n",
    "ax1.set_xlabel(\"Day\", fontsize=15)\n",
    "ax1.set_ylabel(\"Open\", fontsize=15)\n",
    "\n",
    "ax2.plot(stock['High'], color='green')\n",
    "ax2.set_xlabel(\"Day\", fontsize=15)\n",
    "ax2.set_ylabel(\"High\", fontsize=15)\n",
    "\n",
    "ax3.plot(stock['Low'], color='red')\n",
    "ax3.set_xlabel(\"Day\", fontsize=15)\n",
    "ax3.set_ylabel(\"Low\", fontsize=15)\n",
    "\n",
    "ax4.plot(stock['Close'], color='orange')\n",
    "ax4.set_xlabel(\"Day\", fontsize=15)\n",
    "ax4.set_ylabel(\"Close\", fontsize=15)\n",
    "\n",
    "ax5.plot(stock['Adj Close'], color='black')\n",
    "ax5.set_xlabel(\"Day\", fontsize=15)\n",
    "ax5.set_ylabel(\"Adj Close\", fontsize=15)\n",
    "\n",
    "ax6.plot(stock['Volume'], color='purple')\n",
    "ax6.set_xlabel(\"Day\", fontsize=15)\n",
    "ax6.set_ylabel(\"Volume\", fontsize=15)\n",
    "\n",
    "plt.show()"
   ]
  },
  {
   "cell_type": "code",
   "execution_count": 11,
   "id": "9fe75b3a",
   "metadata": {},
   "outputs": [
    {
     "data": {
      "text/html": [
       "<div>\n",
       "<style scoped>\n",
       "    .dataframe tbody tr th:only-of-type {\n",
       "        vertical-align: middle;\n",
       "    }\n",
       "\n",
       "    .dataframe tbody tr th {\n",
       "        vertical-align: top;\n",
       "    }\n",
       "\n",
       "    .dataframe thead th {\n",
       "        text-align: right;\n",
       "    }\n",
       "</style>\n",
       "<table border=\"1\" class=\"dataframe\">\n",
       "  <thead>\n",
       "    <tr style=\"text-align: right;\">\n",
       "      <th></th>\n",
       "      <th>Open</th>\n",
       "      <th>High</th>\n",
       "      <th>Low</th>\n",
       "      <th>Adj Close</th>\n",
       "      <th>Volume</th>\n",
       "    </tr>\n",
       "  </thead>\n",
       "  <tbody>\n",
       "    <tr>\n",
       "      <th>0</th>\n",
       "      <td>71.320000</td>\n",
       "      <td>71.635002</td>\n",
       "      <td>71.320000</td>\n",
       "      <td>71.324997</td>\n",
       "      <td>0</td>\n",
       "    </tr>\n",
       "    <tr>\n",
       "      <th>1</th>\n",
       "      <td>71.654999</td>\n",
       "      <td>71.654999</td>\n",
       "      <td>71.178001</td>\n",
       "      <td>71.440002</td>\n",
       "      <td>0</td>\n",
       "    </tr>\n",
       "    <tr>\n",
       "      <th>2</th>\n",
       "      <td>71.230103</td>\n",
       "      <td>71.425003</td>\n",
       "      <td>71.168503</td>\n",
       "      <td>71.230400</td>\n",
       "      <td>0</td>\n",
       "    </tr>\n",
       "    <tr>\n",
       "      <th>3</th>\n",
       "      <td>71.300003</td>\n",
       "      <td>71.711998</td>\n",
       "      <td>71.300003</td>\n",
       "      <td>71.300003</td>\n",
       "      <td>0</td>\n",
       "    </tr>\n",
       "    <tr>\n",
       "      <th>4</th>\n",
       "      <td>71.639999</td>\n",
       "      <td>71.639999</td>\n",
       "      <td>71.277496</td>\n",
       "      <td>71.639999</td>\n",
       "      <td>0</td>\n",
       "    </tr>\n",
       "    <tr>\n",
       "      <th>...</th>\n",
       "      <td>...</td>\n",
       "      <td>...</td>\n",
       "      <td>...</td>\n",
       "      <td>...</td>\n",
       "      <td>...</td>\n",
       "    </tr>\n",
       "    <tr>\n",
       "      <th>257</th>\n",
       "      <td>73.192001</td>\n",
       "      <td>73.192299</td>\n",
       "      <td>72.899300</td>\n",
       "      <td>73.191902</td>\n",
       "      <td>0</td>\n",
       "    </tr>\n",
       "    <tr>\n",
       "      <th>258</th>\n",
       "      <td>72.907898</td>\n",
       "      <td>73.045303</td>\n",
       "      <td>72.883003</td>\n",
       "      <td>72.910896</td>\n",
       "      <td>0</td>\n",
       "    </tr>\n",
       "    <tr>\n",
       "      <th>259</th>\n",
       "      <td>72.954903</td>\n",
       "      <td>73.237503</td>\n",
       "      <td>72.929001</td>\n",
       "      <td>72.954903</td>\n",
       "      <td>0</td>\n",
       "    </tr>\n",
       "    <tr>\n",
       "      <th>260</th>\n",
       "      <td>72.995903</td>\n",
       "      <td>73.220001</td>\n",
       "      <td>72.877998</td>\n",
       "      <td>72.995903</td>\n",
       "      <td>0</td>\n",
       "    </tr>\n",
       "    <tr>\n",
       "      <th>261</th>\n",
       "      <td>72.970001</td>\n",
       "      <td>73.222000</td>\n",
       "      <td>72.774498</td>\n",
       "      <td>72.970001</td>\n",
       "      <td>0</td>\n",
       "    </tr>\n",
       "  </tbody>\n",
       "</table>\n",
       "<p>262 rows × 5 columns</p>\n",
       "</div>"
      ],
      "text/plain": [
       "          Open       High        Low  Adj Close  Volume\n",
       "0    71.320000  71.635002  71.320000  71.324997       0\n",
       "1    71.654999  71.654999  71.178001  71.440002       0\n",
       "2    71.230103  71.425003  71.168503  71.230400       0\n",
       "3    71.300003  71.711998  71.300003  71.300003       0\n",
       "4    71.639999  71.639999  71.277496  71.639999       0\n",
       "..         ...        ...        ...        ...     ...\n",
       "257  73.192001  73.192299  72.899300  73.191902       0\n",
       "258  72.907898  73.045303  72.883003  72.910896       0\n",
       "259  72.954903  73.237503  72.929001  72.954903       0\n",
       "260  72.995903  73.220001  72.877998  72.995903       0\n",
       "261  72.970001  73.222000  72.774498  72.970001       0\n",
       "\n",
       "[262 rows x 5 columns]"
      ]
     },
     "execution_count": 11,
     "metadata": {},
     "output_type": "execute_result"
    }
   ],
   "source": [
    "stock.drop([\n",
    "    'Date'\n",
    "],axis = 1, inplace = True)\n",
    "x=stock.drop(['Close'],axis=1)\n",
    "x"
   ]
  },
  {
   "cell_type": "code",
   "execution_count": 12,
   "id": "f76a96c9",
   "metadata": {},
   "outputs": [
    {
     "data": {
      "text/plain": [
       "0      71.324997\n",
       "1      71.440002\n",
       "2      71.230400\n",
       "3      71.300003\n",
       "4      71.639999\n",
       "         ...    \n",
       "257    73.191902\n",
       "258    72.910896\n",
       "259    72.954903\n",
       "260    72.995903\n",
       "261    72.970001\n",
       "Name: Close, Length: 262, dtype: float64"
      ]
     },
     "execution_count": 12,
     "metadata": {},
     "output_type": "execute_result"
    }
   ],
   "source": [
    "y=stock['Close']\n",
    "y"
   ]
  },
  {
   "cell_type": "code",
   "execution_count": 13,
   "id": "99444410",
   "metadata": {},
   "outputs": [],
   "source": [
    "x_test ,x_train ,y_test ,y_train =train_test_split(x,y ,test_size=.2 ,random_state=2)"
   ]
  },
  {
   "cell_type": "code",
   "execution_count": 14,
   "id": "00308e9f",
   "metadata": {},
   "outputs": [
    {
     "data": {
      "text/plain": [
       "(53, 5)"
      ]
     },
     "execution_count": 14,
     "metadata": {},
     "output_type": "execute_result"
    }
   ],
   "source": [
    "x_train.shape\n",
    "\n"
   ]
  },
  {
   "cell_type": "code",
   "execution_count": 15,
   "id": "943c48d5",
   "metadata": {},
   "outputs": [
    {
     "data": {
      "text/plain": [
       "(209, 5)"
      ]
     },
     "execution_count": 15,
     "metadata": {},
     "output_type": "execute_result"
    }
   ],
   "source": [
    "x_test.shape"
   ]
  },
  {
   "cell_type": "code",
   "execution_count": 16,
   "id": "333b0735",
   "metadata": {},
   "outputs": [
    {
     "data": {
      "text/plain": [
       "(53,)"
      ]
     },
     "execution_count": 16,
     "metadata": {},
     "output_type": "execute_result"
    }
   ],
   "source": [
    "y_train.shape"
   ]
  },
  {
   "cell_type": "code",
   "execution_count": 17,
   "id": "896094a0",
   "metadata": {},
   "outputs": [
    {
     "data": {
      "text/plain": [
       "(209,)"
      ]
     },
     "execution_count": 17,
     "metadata": {},
     "output_type": "execute_result"
    }
   ],
   "source": [
    "y_test.shape"
   ]
  },
  {
   "cell_type": "code",
   "execution_count": 19,
   "id": "abeb4435",
   "metadata": {},
   "outputs": [],
   "source": [
    "model=RandomForestRegressor()"
   ]
  },
  {
   "cell_type": "code",
   "execution_count": 20,
   "id": "accb92dc",
   "metadata": {},
   "outputs": [
    {
     "data": {
      "text/plain": [
       "RandomForestRegressor()"
      ]
     },
     "execution_count": 20,
     "metadata": {},
     "output_type": "execute_result"
    }
   ],
   "source": [
    "model.fit(x_train ,y_train)"
   ]
  },
  {
   "cell_type": "code",
   "execution_count": 21,
   "id": "6d2777ae",
   "metadata": {},
   "outputs": [
    {
     "data": {
      "text/plain": [
       "0.9989698632147578"
      ]
     },
     "execution_count": 21,
     "metadata": {},
     "output_type": "execute_result"
    }
   ],
   "source": [
    "model.score(x_train ,y_train)"
   ]
  },
  {
   "cell_type": "code",
   "execution_count": 22,
   "id": "d5509ffd",
   "metadata": {},
   "outputs": [
    {
     "data": {
      "text/plain": [
       "array([75.81631799, 75.6441958 , 75.23972822, 76.51631189, 71.37382313,\n",
       "       75.53291982, 75.97576962, 73.54313708, 73.85559078, 73.59549853,\n",
       "       75.53412641, 75.94924372, 76.4069242 , 76.2765704 , 74.75004079,\n",
       "       73.93775609, 74.01434879, 73.81028859, 71.47280117, 74.95168385,\n",
       "       73.97349923, 74.94866098, 73.78270077, 75.71991298, 73.2444668 ,\n",
       "       71.3544177 , 73.93141996, 74.10095369, 76.42205632, 73.29744222,\n",
       "       75.89239004, 74.61696774, 73.54305567, 76.01520369, 73.68495544,\n",
       "       73.14080604, 75.51831931, 75.00710414, 76.35101743, 71.95311214,\n",
       "       75.99944309, 73.35142364, 73.54484442, 76.2764084 , 71.86024031,\n",
       "       73.93631577, 73.75026587, 74.68265836, 73.11735258, 73.17599209,\n",
       "       73.64895166, 74.8483205 , 74.74670019])"
      ]
     },
     "execution_count": 22,
     "metadata": {},
     "output_type": "execute_result"
    }
   ],
   "source": [
    "training_data_prediction=model.predict(x_train)\n",
    "training_data_prediction\n"
   ]
  },
  {
   "cell_type": "code",
   "execution_count": 23,
   "id": "86293217",
   "metadata": {},
   "outputs": [
    {
     "data": {
      "text/plain": [
       "array([73.68665402, 73.67168138, 71.65782058, 75.78907459, 74.57616266,\n",
       "       71.37854059, 73.8670945 , 75.53196931, 71.67635244, 73.65610212,\n",
       "       73.20751004, 75.51561831, 72.36241168, 73.50119487, 74.44599081,\n",
       "       73.58662978, 74.18452084, 74.97904398, 74.81269404, 74.69398305,\n",
       "       71.36829745, 71.3544177 , 73.47714582, 71.47076014, 73.72570396,\n",
       "       71.3544177 , 73.69600769, 74.29420412, 74.71897937, 75.00606916,\n",
       "       73.62184406, 73.87490299, 73.70915137, 76.34249818, 75.00204244,\n",
       "       75.66243847, 73.81827813, 73.30657297, 75.98838271, 74.87353328,\n",
       "       71.46183622, 74.93775099, 73.12469658, 75.49598621, 75.57161482,\n",
       "       74.83315202, 73.44208597, 73.06219243, 73.60711426, 76.49443883,\n",
       "       76.485746  , 75.44754336, 73.36524169, 73.95866157, 76.03197726,\n",
       "       73.13357616, 73.17779845, 75.56131472, 74.7742497 , 74.64469198,\n",
       "       74.01590753, 71.3544177 , 73.63642632, 73.40436548, 73.71607236,\n",
       "       73.51313913, 71.48413113, 71.4025875 , 75.67563895, 73.89006728,\n",
       "       73.30006097, 73.8244985 , 71.3544177 , 73.7123176 , 74.02237947,\n",
       "       73.30165668, 71.85700244, 73.70790691, 73.61377971, 75.38750424,\n",
       "       73.94109509, 73.90843767, 74.61179875, 75.51977353, 74.73999098,\n",
       "       73.92834441, 75.94943568, 73.39490925, 74.47742178, 73.16711025,\n",
       "       75.89060303, 74.98385571, 74.07131609, 74.11473979, 73.14960878,\n",
       "       73.28177846, 74.75340415, 75.2733856 , 76.48766087, 71.37382313,\n",
       "       73.42347126, 76.01349723, 73.54910704, 73.27976269, 74.08499505,\n",
       "       73.71283189, 73.68702308, 73.34857913, 74.8854691 , 71.53131492,\n",
       "       76.48766087, 74.59982165, 73.5732973 , 75.06884729, 75.16898146,\n",
       "       76.2034728 , 71.37382313, 73.31286106, 73.50301496, 73.96674354,\n",
       "       75.74393975, 74.959582  , 75.53911172, 74.90516126, 76.49443883,\n",
       "       75.64788989, 73.11735258, 75.3382007 , 74.92769933, 76.48924858,\n",
       "       71.82168768, 75.98186252, 75.57353802, 75.09840925, 76.45485899,\n",
       "       74.73950815, 75.6334299 , 74.95240537, 76.06066465, 74.02012649,\n",
       "       72.8869067 , 74.00446131, 75.87787583, 75.57392562, 75.80193741,\n",
       "       73.46879584, 75.60173224, 76.22436883, 73.141943  , 76.23461506,\n",
       "       75.04419553, 74.66237368, 74.94001689, 74.74630162, 73.12239258,\n",
       "       73.64838908, 75.34274641, 73.75682349, 75.22155302, 76.44645607,\n",
       "       74.32970377, 73.41237747, 75.01283348, 76.2764353 , 74.06949007,\n",
       "       76.44800478, 75.82391713, 73.69586489, 73.52840018, 75.48868397,\n",
       "       74.58553677, 73.14026416, 74.45851475, 75.5662002 , 73.992192  ,\n",
       "       76.01163254, 75.7246779 , 76.40145263, 73.26788046, 76.47282036,\n",
       "       74.59335154, 73.57368525, 75.0553856 , 76.41886592, 75.9957343 ,\n",
       "       75.66122486, 73.53253924, 71.5374919 , 76.45306523, 73.83924245,\n",
       "       73.71260096, 74.01841494, 74.67637738, 75.24446789, 75.0581273 ,\n",
       "       73.79504145, 74.59157516, 76.40079034, 75.72964691, 74.48945162,\n",
       "       73.15913738, 75.54612077, 73.791473  , 73.71753126, 75.51049428,\n",
       "       71.79716731, 76.09459816, 71.47318107, 73.54672117])"
      ]
     },
     "execution_count": 23,
     "metadata": {},
     "output_type": "execute_result"
    }
   ],
   "source": [
    "testing_data_prediction=model.predict(x_test)\n",
    "testing_data_prediction\n"
   ]
  },
  {
   "cell_type": "code",
   "execution_count": 24,
   "id": "d10f35e2",
   "metadata": {},
   "outputs": [
    {
     "data": {
      "text/plain": [
       "RandomForestRegressor()"
      ]
     },
     "execution_count": 24,
     "metadata": {},
     "output_type": "execute_result"
    }
   ],
   "source": [
    "\n",
    "model.fit(x_train ,y_train)\n"
   ]
  },
  {
   "cell_type": "code",
   "execution_count": 25,
   "id": "3c2cb7b8",
   "metadata": {},
   "outputs": [
    {
     "data": {
      "text/plain": [
       "0.9987166963518314"
      ]
     },
     "execution_count": 25,
     "metadata": {},
     "output_type": "execute_result"
    }
   ],
   "source": [
    "model.score(x_train ,y_train)"
   ]
  },
  {
   "cell_type": "code",
   "execution_count": 26,
   "id": "2cf1341a",
   "metadata": {},
   "outputs": [
    {
     "data": {
      "text/plain": [
       "0.9989698632147578"
      ]
     },
     "execution_count": 26,
     "metadata": {},
     "output_type": "execute_result"
    }
   ],
   "source": [
    "score1 = metrics.r2_score(y_train ,training_data_prediction)\n",
    "\n",
    "score1"
   ]
  },
  {
   "cell_type": "code",
   "execution_count": 27,
   "id": "3980bd86",
   "metadata": {},
   "outputs": [
    {
     "data": {
      "text/plain": [
       "0.9831263985664676"
      ]
     },
     "execution_count": 27,
     "metadata": {},
     "output_type": "execute_result"
    }
   ],
   "source": [
    "score11 = metrics.r2_score(y_test ,testing_data_prediction)\n",
    "score11"
   ]
  },
  {
   "cell_type": "code",
   "execution_count": 28,
   "id": "722da662",
   "metadata": {},
   "outputs": [
    {
     "data": {
      "text/plain": [
       "0.030624354716981935"
      ]
     },
     "execution_count": 28,
     "metadata": {},
     "output_type": "execute_result"
    }
   ],
   "source": [
    "score2 = metrics.mean_absolute_error(y_train ,training_data_prediction)\n",
    "score2"
   ]
  },
  {
   "cell_type": "code",
   "execution_count": 29,
   "id": "6cda468f",
   "metadata": {},
   "outputs": [
    {
     "data": {
      "text/plain": [
       "0.10259648607656069"
      ]
     },
     "execution_count": 29,
     "metadata": {},
     "output_type": "execute_result"
    }
   ],
   "source": [
    "score22 = metrics.mean_absolute_error(y_test ,testing_data_prediction)\n",
    "score22"
   ]
  },
  {
   "cell_type": "code",
   "execution_count": 30,
   "id": "038d0297",
   "metadata": {},
   "outputs": [
    {
     "data": {
      "image/png": "[encoded data removed]",
      "text/plain": [
       "<Figure size 432x288 with 1 Axes>"
      ]
     },
     "metadata": {
      "needs_background": "light"
     },
     "output_type": "display_data"
    }
   ],
   "source": [
    "plt.scatter(y_train,training_data_prediction)\n",
    "plt.xlabel('actual price')\n",
    "plt.ylabel('prediction price stock')\n",
    "plt.title('actual price vs prediction price stock')\n",
    "plt.show()"
   ]
  },
  {
   "cell_type": "code",
   "execution_count": null,
   "id": "cf62e3bf",
   "metadata": {},
   "outputs": [],
   "source": []
  },
  {
   "cell_type": "code",
   "execution_count": null,
   "id": "cb4ed3d3",
   "metadata": {},
   "outputs": [],
   "source": []
  }
 ],
 "metadata": {
  "kernelspec": {
   "display_name": "Python 3 (ipykernel)",
   "language": "python",
   "name": "python3"
  },
  "language_info": {
   "codemirror_mode": {
    "name": "ipython",
    "version": 3
   },
   "file_extension": ".py",
   "mimetype": "text/x-python",
   "name": "python",
   "nbconvert_exporter": "python",
   "pygments_lexer": "ipython3",
   "version": "3.9.12"
  }
 },
 "nbformat": 4,
 "nbformat_minor": 5
}
